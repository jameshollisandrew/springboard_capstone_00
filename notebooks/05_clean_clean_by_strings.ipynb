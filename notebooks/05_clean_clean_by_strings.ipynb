{
 "cells": [
  {
   "cell_type": "code",
   "execution_count": 1,
   "metadata": {},
   "outputs": [],
   "source": [
    "import time\n",
    "start_time = time.perf_counter()"
   ]
  },
  {
   "cell_type": "markdown",
   "metadata": {},
   "source": [
    "## Versions, housekeeping"
   ]
  },
  {
   "cell_type": "code",
   "execution_count": 2,
   "metadata": {},
   "outputs": [
    {
     "name": "stdout",
     "output_type": "stream",
     "text": [
      "The numpy version is 1.18.1.\n",
      "The pandas version is 1.0.4.\n",
      "The scikit-learn version is 0.23.1.\n",
      "The matplotlib version is 3.2.1.\n",
      "The regex version is 2.5.80.\n",
      "The scipy version is 1.4.1.\n"
     ]
    }
   ],
   "source": [
    "%matplotlib inline\n",
    "# version check\n",
    "import numpy\n",
    "print('The numpy version is {}.'.format(numpy.__version__))\n",
    "import pandas\n",
    "print('The pandas version is {}.'.format(pandas.__version__))\n",
    "import sklearn\n",
    "print('The scikit-learn version is {}.'.format(sklearn.__version__))\n",
    "import matplotlib\n",
    "print('The matplotlib version is {}.'.format(matplotlib.__version__))\n",
    "import regex\n",
    "print('The regex version is {}.'.format(regex.__version__))\n",
    "import scipy\n",
    "print('The scipy version is {}.'.format(scipy.__version__))"
   ]
  },
  {
   "cell_type": "code",
   "execution_count": 3,
   "metadata": {},
   "outputs": [],
   "source": [
    "# set random state for reproducibility\n",
    "random_state = 42\n",
    "\n",
    "# view number of output entries\n",
    "view_n_entries = 5\n",
    "\n",
    "# default numpy settings\n",
    "import numpy as np\n",
    "np.set_printoptions(edgeitems=3)\n",
    "np.core.arrayprint._line_width = 80\n",
    "\n",
    "# update settings\n",
    "import numpy as np\n",
    "np.set_printoptions(edgeitems=15, linewidth=150, \n",
    "    formatter=dict(float=lambda x: \"%.2f\" % x))\n",
    "\n",
    "# update pandas settings\n",
    "import pandas as pd\n",
    "pd.set_option('max_colwidth', 200)\n",
    "pd.options.display.max_columns = 50\n",
    "pd.options.display.max_rows = 150\n",
    "pd.set_option('display.float_format', lambda x: '%.2f' % x)\n",
    "\n",
    "# system\n",
    "import sys\n",
    "#sys.getsizeof\n",
    "\n",
    "# timeit\n",
    "import timeit"
   ]
  },
  {
   "cell_type": "markdown",
   "metadata": {},
   "source": [
    "## Plotting Functions"
   ]
  },
  {
   "cell_type": "code",
   "execution_count": 4,
   "metadata": {},
   "outputs": [],
   "source": [
    "# plotting functions\n",
    "import numpy as np\n",
    "import pandas as pd\n",
    "import regex as re\n",
    "import matplotlib.pyplot as plt\n",
    "from scipy import stats\n",
    "import seaborn as sns\n",
    "from matplotlib import rcParams\n",
    "sns.set_style(\"whitegrid\")\n",
    "sns.set_context(\"notebook\")\n",
    "\n",
    "def just_character_counts(df, col='m_body'):\n",
    "    A = np.array(df.loc[:, col]) \n",
    "    getlength = np.vectorize(len)\n",
    "    _ = getlength(A)\n",
    "    _ = np.sum(_)\n",
    "    return _\n",
    "\n",
    "def get_character_counts(df, col='m_body', new_name='n_char'):\n",
    "    A = np.array(df.loc[:, col]) \n",
    "    getlength = np.vectorize(len)\n",
    "    df[new_name] = getlength(A)\n",
    "    return df\n",
    "\n",
    "def plot_ecdf(x, xlab='', ylab='', title='', color=None, xlim=None, ylim=None, logx=False, logy=False, hline=None, vline=None, alpha=1, s=1):\n",
    "    x = np.sort(x)\n",
    "    n = x.size\n",
    "    y = np.arange(1, n+1) / n\n",
    "    plt.scatter(x, y, color=color, s=s, alpha=alpha)\n",
    "    plt.xlabel(xlab, fontsize=14)\n",
    "    plt.ylabel(ylab, fontsize=14)\n",
    "    plt.xlim(xlim)\n",
    "    plt.ylim(ylim)\n",
    "    plt.title(title)\n",
    "    if logx == True:\n",
    "        plt.xscale('log')\n",
    "    if logy == True:\n",
    "        plt.yscale('log')\n",
    "    if hline is not None:\n",
    "        plt.axhline(hline, color='r', linestyle='--')\n",
    "    if vline is not None:\n",
    "        plt.axvline(vline, color='r', linestyle='--')\n",
    "\n",
    "def plot_scatter(x, y, xlab='', ylab='', title='', logx=False, logy=False, hline=None, vline=None, s=None):\n",
    "    plt.scatter(x, y, alpha=0.25)\n",
    "    plt.xlabel(xlab)\n",
    "    plt.ylabel(ylab)\n",
    "    plt.title(title)\n",
    "    if logx == True:\n",
    "        plt.xscale('log')\n",
    "    if logy == True:\n",
    "        plt.yscale('log')\n",
    "    if hline is not None:\n",
    "        plt.axhline(hline, color='r', linestyle='--')\n",
    "    if vline is not None:\n",
    "        plt.axvline(vline, color='r', linestyle='--')\n",
    "\n",
    "def plot_2_2(x, y, suptitle='', hline=None, vline=None):\n",
    "    plt.figure(figsize=(10,10))\n",
    "\n",
    "    plt.subplot(2, 2, 1)\n",
    "    plot_scatter(x, y, xlab='', ylab='', title='Plot 1: linx, liny', logx=False, logy=False, hline=None, vline=None)\n",
    "    plt.subplot(2, 2, 2)\n",
    "    plot_scatter(x, y, xlab='', ylab='', title='Plot 2: linx, logy', logx=False, logy=True, hline=None, vline=None)\n",
    "    plt.subplot(2, 2, 3)\n",
    "    plot_scatter(x, y, xlab='', ylab='', title='Plot 3: linx, liny', logx=True, logy=False, hline=None, vline=None)\n",
    "    plt.subplot(2, 2, 4)\n",
    "    plot_scatter(x, y, xlab='', ylab='', title='Plot 4: linx, logy', logx=True, logy=True, hline=None, vline=None)\n",
    "\n",
    "    plt.suptitle(suptitle, fontsize=16)\n",
    "    plt.show() \n",
    "\n",
    "def plot_2_4(_, suptitle='', hline=None, vline=None):\n",
    "    plt.figure(figsize=(20,10))\n",
    "\n",
    "    plt.subplot(2, 4, 1)\n",
    "    _.plot(kind='hist', bins=30, title='Plot 1: linx, liny', logx=False, logy=False)\n",
    "    plt.subplot(2, 4, 2)\n",
    "    _.plot(kind='hist', bins=30, title='Plot 2: linx, logy', logx=False, logy=True)\n",
    "    plt.subplot(2, 4, 3)\n",
    "    plot_ecdf(_, xlab='', ylab='', title='Plot 3: linx, liny', logx=False, logy=False, hline=None, vline=None)\n",
    "    plt.subplot(2, 4, 4)\n",
    "    plot_ecdf(_, xlab='', ylab='', title='Plot 4: linx, logy', logx=False, logy=True, hline=None, vline=None)\n",
    "    plt.subplot(2, 4, 5)\n",
    "    _.plot(kind='hist', bins=30, title='Plot 5: logx, liny', logx=True, logy=False)\n",
    "    plt.subplot(2, 4, 6)\n",
    "    _.plot(kind='hist', bins=30, title='Plot 6: logx, logy', logx=True, logy=True)\n",
    "    plt.subplot(2, 4, 7)\n",
    "    plot_ecdf(_, xlab='', ylab='', title='Plot 7: logx, liny', logx=True, logy=False, hline=None, vline=None)\n",
    "    plt.subplot(2, 4, 8)\n",
    "    plot_ecdf(_, xlab='', ylab='', title='Plot 8: logx, logy', logx=True, logy=True, hline=None, vline=None)\n",
    "    plt.suptitle(suptitle, fontsize=16)\n",
    "    plt.show()   \n",
    "\n",
    "    \n",
    "def plot_sender_stats(df, n, suptitle=''):\n",
    "    plt.figure(figsize=(14, 12))\n",
    "    plt.subplot(2, 2, 1) # plot 1: horizontal bar\n",
    "    _ = pd.DataFrame(df.groupby(['m_from']).size()).sort_values(0,ascending=False).reset_index() # convert data\n",
    "    l = np.array(_.iloc[:,0]) # labels\n",
    "    v = np.array(_.iloc[:,1]) # values\n",
    "    plt.barh(np.linspace(n,1,n), v[:n], tick_label=l[:n])\n",
    "    plt.subplot(2, 2, 2) # plot 2: full histogram\n",
    "    plt.hist(v, bins=30)\n",
    "    plt.yscale('log')\n",
    "    plt.subplot(2, 2, 3) # plot 3: pie\n",
    "    pie_x = [len(df[df.gender == 0].m_from.unique()), len(df[df.gender == 1].m_from.unique())]\n",
    "    pie_lab = ['boy: %d email addresses' % (pie_x[0]), 'girl: %d email addresses' % (pie_x[1])]\n",
    "    plt.pie(pie_x, labels=pie_lab, autopct='%.2f%%', colors=['#347DC1', '#FF85A2'])\n",
    "    plt.subplot(2, 2, 4) # plot 4: ecdf\n",
    "    plot_ecdf(v, xlim=(0,stats.scoreatpercentile(v,95)))\n",
    "    plt.suptitle(suptitle)\n",
    "    plt.show()\n",
    "    print(_.describe())\n",
    "    print(stats.describe(v))\n",
    "    \n",
    "def plot_character_frequency(df, suptitle=''):\n",
    "    v = np.array(df.n_characters_start.values) # values\n",
    "    plt.figure(figsize=(18,6))\n",
    "    plt.subplot(1, 3, 1) # plot 1: pie chart\n",
    "    pie_x = [df[df.gender == 0].n_characters_start.sum(),df[df.gender == 1].n_characters_start.sum()]\n",
    "    pie_lab = ['boy: %.3g characters' % (pie_x[0]), 'girl: %.3g characters' % (pie_x[1])]\n",
    "    plt.pie(pie_x, labels=pie_lab, autopct='%.2f%%', colors=['#347DC1', '#FF85A2'])\n",
    "    plt.subplot(1, 3, 2) # plot 2: full histogram\n",
    "    plt.hist(v, bins=30)\n",
    "    plt.yscale('log')\n",
    "    plt.subplot(1, 3, 3) # plot 3: ecdf\n",
    "    plot_ecdf(v, xlim=(0,stats.scoreatpercentile(v,95)))\n",
    "    plt.show()\n",
    "    print(df.n_characters_start.describe())\n",
    "    print(stats.describe(v))\n",
    "    \n",
    "\n",
    "    \n",
    "def plot_gender_character_frequency(df, col='m_body', new_name='n_char', suptitle='', alpha=0.1,):\n",
    "    df = get_character_counts(df, col=col, new_name=new_name)\n",
    "    bv = np.array(df[df.gender == 0][new_name].values) # values\n",
    "    gv = np.array(df[df.gender == 1][new_name].values) # values\n",
    "    plt.figure(figsize=(18,6))\n",
    "    plt.subplot(1, 3, 1) # plot 1: pie chart\n",
    "    pie_x = [np.sum(bv), np.sum(gv)]\n",
    "    pie_lab = ['boy: %dM characters' % (pie_x[0]/1000000), 'girl: %dM characters' % (pie_x[1]/1000000)]\n",
    "    plt.pie(pie_x, labels=pie_lab, autopct='%.2f%%', colors=['#347DC1', '#FF85A2'])\n",
    "    plt.subplot(1, 3, 2) # plot 2: full histogram\n",
    "    plt.hist(x=[bv, gv], bins=10, color=['#347DC1', '#FF85A2'], rwidth=1,)\n",
    "    #plt.hist(gv, bins=30, color='#FF85A2')\n",
    "    plt.yscale('log')\n",
    "    plt.subplot(1, 3, 3) # plot 3: ecdf\n",
    "    plot_ecdf(bv, xlim=(0,stats.scoreatpercentile(bv,97)), color='#347DC1', alpha=.5, s=.1)\n",
    "    plot_ecdf(gv, xlim=(0,stats.scoreatpercentile(gv,97)), color='#FF85A2', alpha=.25, s=.1)\n",
    "    plt.suptitle(suptitle.upper())\n",
    "    plt.tight_layout()\n",
    "    plt.show()\n",
    "    \n",
    "    bd = df[df.gender == 0][new_name].describe()\n",
    "    bd.name = 'boy'\n",
    "    gd = df[df.gender == 1][new_name].describe()\n",
    "    gd.name = 'girl'\n",
    "    bg_describe = pd.concat([bd, gd], axis=1)\n",
    "    print(bg_describe)"
   ]
  },
  {
   "cell_type": "markdown",
   "metadata": {},
   "source": [
    "### Threadpool executor for this notebook's user functions"
   ]
  },
  {
   "cell_type": "code",
   "execution_count": 5,
   "metadata": {},
   "outputs": [
    {
     "name": "stdout",
     "output_type": "stream",
     "text": [
      "Wall time: 0 ns\n"
     ]
    }
   ],
   "source": [
    "%%time\n",
    "def threadpool_executor(io_func=None, df=None, series=None, merge_back=False, idict=None, new_name=None):\n",
    "    \"\"\"Use this to pass a dataframe series to the threadpool executor to trigger async processessing. Make sure the user function (io_func) meets the following conditions:\n",
    "    - Receives two arguments: series index position & series values\n",
    "    - Has an output dictionary that assembles the index, values as key, values for reassembly\n",
    "    - Output dictionary is set as the return by name within the called function\n",
    "    \n",
    "    io_func: user function to pass to threadpoolexecutor; df: dataframe with data; series: string name of column; idict: dictionary linked to user function to catch output values; new_name: string for new column name\n",
    "    when reassigning values back to the main dataframe\"\"\"\n",
    "    \n",
    "    if (io_func is None) | (df is None) | (series is None):\n",
    "        sys.exit(\"'None' received as input for either io_func, df, or series. Please assign a value and try again.\")\n",
    "    if (merge_back is True) & (idict is None):\n",
    "        sys.exit(\"'merge_back is set to True. However, no dictionary has been passed to capture output. Please set the idict= argument to an initialized dictionary and try again.'\")\n",
    "    \n",
    "    import concurrent.futures\n",
    "    with concurrent.futures.ThreadPoolExecutor() as executor:  \n",
    "        executor.map(io_func, df[series].index, df[series])\n",
    "    \n",
    "    if merge_back == True: # will merge the processed values back to the initial dataframe\n",
    "        if idict is not None:\n",
    "            new_frame = pd.DataFrame.from_dict(idict, orient='index')\n",
    "            if new_name is not None:\n",
    "                new_frame.columns = [new_name]\n",
    "                df = pd.merge(df, new_frame, how='left', left_index=True, right_index=True, copy=False)\n",
    "            else:\n",
    "                sys.exit(\"Merge back is True, but no series or name for a new column has been received. If a new column is desired, please pass a new_name. Otherwise, please pass, 'series' to merge_back to replace the current series.\")\n",
    "    if merge_back == 'series': # will drop the old series and replace it with the new processed documents\n",
    "        df = df.drop(series, axis=1)\n",
    "        new_frame = pd.DataFrame.from_dict(idict, orient='index')\n",
    "        new_frame.columns = [series]\n",
    "        df = pd.merge(df, new_frame, how='left', left_index=True, right_index=True, copy=False)\n",
    "            \n",
    "    return df"
   ]
  },
  {
   "cell_type": "markdown",
   "metadata": {},
   "source": [
    "# Notebook Overview\n",
    "In this notebook we'll remove URLs and stopwords prior to processing.\n",
    "\n",
    "## User functions for this notebook"
   ]
  },
  {
   "cell_type": "markdown",
   "metadata": {},
   "source": [
    "### URL strings"
   ]
  },
  {
   "cell_type": "code",
   "execution_count": 6,
   "metadata": {},
   "outputs": [],
   "source": [
    "http = re.compile('http://[\\S]+', flags=re.I)\n",
    "https = re.compile('https://[\\S]+', flags=re.I)\n",
    "\n",
    "def url_function(doc_idx, doc):\n",
    "    \"\"\"Pass document (or pandas .apply() to corpus column) to split on the above pattern\"\"\"\n",
    "    try:\n",
    "        doc = re.sub(https, ' ', doc)\n",
    "    except:\n",
    "        pass\n",
    "    try:\n",
    "        doc = re.sub(http, ' ', doc)\n",
    "    except:\n",
    "        pass\n",
    "    \n",
    "    returns_dict[doc_idx] = doc"
   ]
  },
  {
   "cell_type": "markdown",
   "metadata": {},
   "source": [
    "## Email address string"
   ]
  },
  {
   "cell_type": "code",
   "execution_count": 7,
   "metadata": {},
   "outputs": [],
   "source": [
    "email_address = re.compile(r'\\b\\S+?@\\S+\\b', flags=re.I)\n",
    "\n",
    "def email_address_function(doc_idx, doc):\n",
    "    \"\"\"Pass document (or pandas .apply() to corpus column) to split on the above pattern\"\"\"\n",
    "    try:\n",
    "        doc = re.sub(email_address, ' ', doc)\n",
    "    except:\n",
    "        pass\n",
    "    \n",
    "    returns_dict[doc_idx] = doc"
   ]
  },
  {
   "cell_type": "code",
   "execution_count": 8,
   "metadata": {},
   "outputs": [],
   "source": [
    "remove_colon_list = ['from', 'facsimile', 'phone', 'mailto', 'tel', 'tel.', 'when', 'where', 'e-mail']\n",
    "\n",
    "\"\"\"Pass document (or pandas .apply() to corpus column) to split on the above pattern\"\"\"\n",
    "def colon_string_function(doc_idx, doc):\n",
    "\n",
    "    for i in remove_colon_list:    \n",
    "        remove_colon_pattern = r'\\n[^\\n]*?' + i + r':[^\\n]*?\\n'\n",
    "        try:\n",
    "            doc = re.sub(remove_colon_pattern, ' ', doc, flags=re.I)\n",
    "        except:\n",
    "            pass\n",
    "\n",
    "    returns_dict[doc_idx] = doc"
   ]
  },
  {
   "cell_type": "markdown",
   "metadata": {},
   "source": [
    "# Import dataframe"
   ]
  },
  {
   "cell_type": "code",
   "execution_count": 9,
   "metadata": {},
   "outputs": [],
   "source": [
    "df = pd.read_csv('./data/enron/clean_clean_by_splits.csv', index_col=0)"
   ]
  },
  {
   "cell_type": "code",
   "execution_count": 10,
   "metadata": {},
   "outputs": [
    {
     "data": {
      "text/html": [
       "<div>\n",
       "<style scoped>\n",
       "    .dataframe tbody tr th:only-of-type {\n",
       "        vertical-align: middle;\n",
       "    }\n",
       "\n",
       "    .dataframe tbody tr th {\n",
       "        vertical-align: top;\n",
       "    }\n",
       "\n",
       "    .dataframe thead th {\n",
       "        text-align: right;\n",
       "    }\n",
       "</style>\n",
       "<table border=\"1\" class=\"dataframe\">\n",
       "  <thead>\n",
       "    <tr style=\"text-align: right;\">\n",
       "      <th></th>\n",
       "      <th>f_dir</th>\n",
       "      <th>m_id</th>\n",
       "      <th>m_date</th>\n",
       "      <th>m_from</th>\n",
       "      <th>m_to</th>\n",
       "      <th>m_cc</th>\n",
       "      <th>m_bcc</th>\n",
       "      <th>m_subj</th>\n",
       "      <th>mime_vers</th>\n",
       "      <th>cont_type</th>\n",
       "      <th>encode</th>\n",
       "      <th>x_from</th>\n",
       "      <th>x_to</th>\n",
       "      <th>x_cc</th>\n",
       "      <th>x_bcc</th>\n",
       "      <th>x_fold</th>\n",
       "      <th>x_orig</th>\n",
       "      <th>x_fname</th>\n",
       "      <th>o_body</th>\n",
       "      <th>m_body</th>\n",
       "      <th>gender</th>\n",
       "      <th>n_emails_sent</th>\n",
       "      <th>n_characters_start</th>\n",
       "      <th>clean_body</th>\n",
       "      <th>clean_char</th>\n",
       "    </tr>\n",
       "  </thead>\n",
       "  <tbody>\n",
       "    <tr>\n",
       "      <th>0</th>\n",
       "      <td>./data/enron/maildir/jones-t/all_documents/3628</td>\n",
       "      <td>&lt;3274354.1075847000730.JavaMail.evans@thyme&gt;</td>\n",
       "      <td>Wed, 6 Sep 2000 08:00:00 -0700 (PDT)</td>\n",
       "      <td>brant.reves@enron.com</td>\n",
       "      <td>susan.bailey@enron.com, tana.jones@enron.com, samantha.boyd@enron.com,</td>\n",
       "      <td>NaN</td>\n",
       "      <td>NaN</td>\n",
       "      <td>ISDA Worksheet - Sequa Corp.</td>\n",
       "      <td>1.00</td>\n",
       "      <td>text/plain; charset=us-ascii</td>\n",
       "      <td>7bit</td>\n",
       "      <td>Brant Reves</td>\n",
       "      <td>Susan Bailey, Tana Jones, Samantha Boyd, Stephanie Panus</td>\n",
       "      <td>NaN</td>\n",
       "      <td>NaN</td>\n",
       "      <td>\\Tanya_Jones_Dec2000\\Notes Folders\\All documents</td>\n",
       "      <td>JONES-T</td>\n",
       "      <td>tjones.nsf\\n\\n</td>\n",
       "      <td>Message-ID: &lt;3274354.1075847000730.JavaMail.evans@thyme&gt;\\nDate: Wed, 6 Sep 2000 08:00:00 -0700 (PDT)\\nFrom: brant.reves@enron.com\\nTo: susan.bailey@enron.com, tana.jones@enron.com, samantha.boyd@e...</td>\n",
       "      <td>Please prepare a draft incorporating the following credit terms.\\n\\n\\n\\nthanks\\nbrant</td>\n",
       "      <td>0.00</td>\n",
       "      <td>356</td>\n",
       "      <td>80</td>\n",
       "      <td>Please prepare a draft incorporating the following credit terms.\\n\\n\\n\\nthanks\\nbrant</td>\n",
       "      <td>80</td>\n",
       "    </tr>\n",
       "    <tr>\n",
       "      <th>1</th>\n",
       "      <td>./data/enron/maildir/semperger-c/sent_items/165</td>\n",
       "      <td>&lt;12093947.1075841559300.JavaMail.evans@thyme&gt;</td>\n",
       "      <td>Thu, 29 Nov 2001 11:01:19 -0800 (PST)</td>\n",
       "      <td>cara.semperger@enron.com</td>\n",
       "      <td>stacy.runswick@enron.com</td>\n",
       "      <td>NaN</td>\n",
       "      <td>NaN</td>\n",
       "      <td>Take a break today</td>\n",
       "      <td>1.00</td>\n",
       "      <td>text/plain; charset=us-ascii</td>\n",
       "      <td>7bit</td>\n",
       "      <td>Semperger, Cara &lt;/O=ENRON/OU=NA/CN=RECIPIENTS/CN=CSEMPER&gt;</td>\n",
       "      <td>Runswick, Stacy &lt;/O=ENRON/OU=NA/CN=RECIPIENTS/CN=Srunswic&gt;</td>\n",
       "      <td>NaN</td>\n",
       "      <td>NaN</td>\n",
       "      <td>\\ExMerge - Semperger, Cara\\Sent Items</td>\n",
       "      <td>SEMPERGER-C</td>\n",
       "      <td>cara semperger 6-26-02.PST\\n\\n</td>\n",
       "      <td>Message-ID: &lt;12093947.1075841559300.JavaMail.evans@thyme&gt;\\nDate: Thu, 29 Nov 2001 11:01:19 -0800 (PST)\\nFrom: cara.semperger@enron.com\\nTo: stacy.runswick@enron.com\\nSubject: Take a break today\\nM...</td>\n",
       "      <td>I want each of you to get out of here for 30-45 mins, I will babysit your stuff while you are out.</td>\n",
       "      <td>1.00</td>\n",
       "      <td>736</td>\n",
       "      <td>98</td>\n",
       "      <td>I want each of you to get out of here for 30-45 mins, I will babysit your stuff while you are out.</td>\n",
       "      <td>98</td>\n",
       "    </tr>\n",
       "  </tbody>\n",
       "</table>\n",
       "</div>"
      ],
      "text/plain": [
       "                                             f_dir  \\\n",
       "0  ./data/enron/maildir/jones-t/all_documents/3628   \n",
       "1  ./data/enron/maildir/semperger-c/sent_items/165   \n",
       "\n",
       "                                            m_id  \\\n",
       "0   <3274354.1075847000730.JavaMail.evans@thyme>   \n",
       "1  <12093947.1075841559300.JavaMail.evans@thyme>   \n",
       "\n",
       "                                  m_date                    m_from  \\\n",
       "0   Wed, 6 Sep 2000 08:00:00 -0700 (PDT)     brant.reves@enron.com   \n",
       "1  Thu, 29 Nov 2001 11:01:19 -0800 (PST)  cara.semperger@enron.com   \n",
       "\n",
       "                                                                      m_to  \\\n",
       "0  susan.bailey@enron.com, tana.jones@enron.com, samantha.boyd@enron.com,    \n",
       "1                                                 stacy.runswick@enron.com   \n",
       "\n",
       "  m_cc m_bcc                        m_subj  mime_vers  \\\n",
       "0  NaN   NaN  ISDA Worksheet - Sequa Corp.       1.00   \n",
       "1  NaN   NaN            Take a break today       1.00   \n",
       "\n",
       "                      cont_type encode  \\\n",
       "0  text/plain; charset=us-ascii   7bit   \n",
       "1  text/plain; charset=us-ascii   7bit   \n",
       "\n",
       "                                                      x_from  \\\n",
       "0                                                Brant Reves   \n",
       "1  Semperger, Cara </O=ENRON/OU=NA/CN=RECIPIENTS/CN=CSEMPER>   \n",
       "\n",
       "                                                         x_to x_cc x_bcc  \\\n",
       "0    Susan Bailey, Tana Jones, Samantha Boyd, Stephanie Panus  NaN   NaN   \n",
       "1  Runswick, Stacy </O=ENRON/OU=NA/CN=RECIPIENTS/CN=Srunswic>  NaN   NaN   \n",
       "\n",
       "                                             x_fold       x_orig  \\\n",
       "0  \\Tanya_Jones_Dec2000\\Notes Folders\\All documents      JONES-T   \n",
       "1             \\ExMerge - Semperger, Cara\\Sent Items  SEMPERGER-C   \n",
       "\n",
       "                          x_fname  \\\n",
       "0                  tjones.nsf\\n\\n   \n",
       "1  cara semperger 6-26-02.PST\\n\\n   \n",
       "\n",
       "                                                                                                                                                                                                    o_body  \\\n",
       "0  Message-ID: <3274354.1075847000730.JavaMail.evans@thyme>\\nDate: Wed, 6 Sep 2000 08:00:00 -0700 (PDT)\\nFrom: brant.reves@enron.com\\nTo: susan.bailey@enron.com, tana.jones@enron.com, samantha.boyd@e...   \n",
       "1  Message-ID: <12093947.1075841559300.JavaMail.evans@thyme>\\nDate: Thu, 29 Nov 2001 11:01:19 -0800 (PST)\\nFrom: cara.semperger@enron.com\\nTo: stacy.runswick@enron.com\\nSubject: Take a break today\\nM...   \n",
       "\n",
       "                                                                                               m_body  \\\n",
       "0               Please prepare a draft incorporating the following credit terms.\\n\\n\\n\\nthanks\\nbrant   \n",
       "1  I want each of you to get out of here for 30-45 mins, I will babysit your stuff while you are out.   \n",
       "\n",
       "   gender  n_emails_sent  n_characters_start  \\\n",
       "0    0.00            356                  80   \n",
       "1    1.00            736                  98   \n",
       "\n",
       "                                                                                           clean_body  \\\n",
       "0               Please prepare a draft incorporating the following credit terms.\\n\\n\\n\\nthanks\\nbrant   \n",
       "1  I want each of you to get out of here for 30-45 mins, I will babysit your stuff while you are out.   \n",
       "\n",
       "   clean_char  \n",
       "0          80  \n",
       "1          98  "
      ]
     },
     "execution_count": 10,
     "metadata": {},
     "output_type": "execute_result"
    }
   ],
   "source": [
    "df.head(2)"
   ]
  },
  {
   "cell_type": "code",
   "execution_count": 11,
   "metadata": {},
   "outputs": [
    {
     "name": "stdout",
     "output_type": "stream",
     "text": [
      "<class 'pandas.core.frame.DataFrame'>\n",
      "Int64Index: 170545 entries, 0 to 170544\n",
      "Data columns (total 25 columns):\n",
      " #   Column              Non-Null Count   Dtype  \n",
      "---  ------              --------------   -----  \n",
      " 0   f_dir               170545 non-null  object \n",
      " 1   m_id                170545 non-null  object \n",
      " 2   m_date              170545 non-null  object \n",
      " 3   m_from              170545 non-null  object \n",
      " 4   m_to                167231 non-null  object \n",
      " 5   m_cc                49793 non-null   object \n",
      " 6   m_bcc               46726 non-null   object \n",
      " 7   m_subj              163666 non-null  object \n",
      " 8   mime_vers           170545 non-null  float64\n",
      " 9   cont_type           170545 non-null  object \n",
      " 10  encode              170545 non-null  object \n",
      " 11  x_from              170545 non-null  object \n",
      " 12  x_to                167909 non-null  object \n",
      " 13  x_cc                47096 non-null   object \n",
      " 14  x_bcc               134 non-null     object \n",
      " 15  x_fold              170545 non-null  object \n",
      " 16  x_orig              170545 non-null  object \n",
      " 17  x_fname             170545 non-null  object \n",
      " 18  o_body              170545 non-null  object \n",
      " 19  m_body              170545 non-null  object \n",
      " 20  gender              170545 non-null  float64\n",
      " 21  n_emails_sent       170545 non-null  int64  \n",
      " 22  n_characters_start  170545 non-null  int64  \n",
      " 23  clean_body          170545 non-null  object \n",
      " 24  clean_char          170545 non-null  int64  \n",
      "dtypes: float64(2), int64(3), object(20)\n",
      "memory usage: 33.8+ MB\n"
     ]
    }
   ],
   "source": [
    "df.info()"
   ]
  },
  {
   "cell_type": "markdown",
   "metadata": {},
   "source": [
    "## Global Variables"
   ]
  },
  {
   "cell_type": "code",
   "execution_count": 12,
   "metadata": {},
   "outputs": [],
   "source": [
    "Corpus_series = 'clean_body'\n",
    "Target_series = 'gender'"
   ]
  },
  {
   "cell_type": "markdown",
   "metadata": {},
   "source": [
    "## Create a Filter Dictionary\n",
    "Let's track the impact of each filter as we explore the dataframes."
   ]
  },
  {
   "cell_type": "code",
   "execution_count": 13,
   "metadata": {},
   "outputs": [
    {
     "data": {
      "image/png": "[encoded data removed]",
      "text/plain": [
       "<Figure size 1296x432 with 3 Axes>"
      ]
     },
     "metadata": {},
     "output_type": "display_data"
    },
    {
     "name": "stdout",
     "output_type": "stream",
     "text": [
      "            boy      girl\n",
      "count  96240.00  74305.00\n",
      "mean     340.46    373.30\n",
      "std     1245.62   1352.06\n",
      "min        1.00      1.00\n",
      "25%       49.00     66.00\n",
      "50%      131.00    165.00\n",
      "75%      322.00    365.00\n",
      "max   212476.00 151981.00\n",
      "Wall time: 1.37 s\n"
     ]
    }
   ],
   "source": [
    "%%time\n",
    "filt_dict = {}\n",
    "cond_dict = {}\n",
    "plot_gender_character_frequency(df, col=Corpus_series, new_name='n_char', suptitle='Starting Character Statistics', alpha=0.1)"
   ]
  },
  {
   "cell_type": "markdown",
   "metadata": {},
   "source": [
    "## Review number of emails that have string, character reduction\n",
    "Overview:\n",
    "- Create new columns for each reduction to view the character impact;\n",
    "- Apply the selected filters together at the end and create a processed column;\n",
    "- Remove the added columns from this notebook to keep the dataframe manageable; and,\n",
    "- Output to csv;"
   ]
  },
  {
   "cell_type": "markdown",
   "metadata": {},
   "source": [
    "# Apply filters\n",
    "### Remove URLs"
   ]
  },
  {
   "cell_type": "code",
   "execution_count": 14,
   "metadata": {},
   "outputs": [
    {
     "name": "stdout",
     "output_type": "stream",
     "text": [
      "60504530\n",
      "60098605\n",
      "Wall time: 9.07 s\n"
     ]
    }
   ],
   "source": [
    "%%time\n",
    "print(just_character_counts(df, col=Corpus_series))\n",
    "returns_dict = {}\n",
    "df = threadpool_executor(io_func=url_function, df=df, series=Corpus_series, merge_back='series', idict=returns_dict, new_name=None)\n",
    "print(just_character_counts(df, col=Corpus_series))"
   ]
  },
  {
   "cell_type": "markdown",
   "metadata": {},
   "source": [
    "### Remove Email Addresses"
   ]
  },
  {
   "cell_type": "code",
   "execution_count": 15,
   "metadata": {},
   "outputs": [
    {
     "name": "stdout",
     "output_type": "stream",
     "text": [
      "59910074\n",
      "Wall time: 7.87 s\n"
     ]
    }
   ],
   "source": [
    "%%time\n",
    "returns_dict = {}\n",
    "df = threadpool_executor(io_func=email_address_function, df=df, series=Corpus_series, merge_back='series', idict=returns_dict, new_name=None)\n",
    "print(just_character_counts(df, col=Corpus_series))"
   ]
  },
  {
   "cell_type": "markdown",
   "metadata": {},
   "source": [
    "### Remove Colon String lines (ex. From: To: E-Mail:)"
   ]
  },
  {
   "cell_type": "code",
   "execution_count": 16,
   "metadata": {},
   "outputs": [
    {
     "name": "stdout",
     "output_type": "stream",
     "text": [
      "59827802\n",
      "Wall time: 26.6 s\n"
     ]
    }
   ],
   "source": [
    "%%time\n",
    "returns_dict = {}\n",
    "df = threadpool_executor(io_func=colon_string_function, df=df, series=Corpus_series, merge_back='series', idict=returns_dict, new_name=None)\n",
    "print(just_character_counts(df, col=Corpus_series))"
   ]
  },
  {
   "cell_type": "markdown",
   "metadata": {},
   "source": [
    "## Ending Plot"
   ]
  },
  {
   "cell_type": "code",
   "execution_count": 17,
   "metadata": {},
   "outputs": [
    {
     "data": {
      "image/png": "[encoded data removed]",
      "text/plain": [
       "<Figure size 1296x432 with 3 Axes>"
      ]
     },
     "metadata": {},
     "output_type": "display_data"
    },
    {
     "name": "stdout",
     "output_type": "stream",
     "text": [
      "            boy      girl\n",
      "count  96240.00  74305.00\n",
      "mean     336.89    368.82\n",
      "std     1240.44   1342.09\n",
      "min        1.00      1.00\n",
      "25%       47.00     65.00\n",
      "50%      127.00    161.00\n",
      "75%      318.00    362.00\n",
      "max   212476.00 151162.00\n",
      "Wall time: 1.31 s\n"
     ]
    }
   ],
   "source": [
    "%%time\n",
    "ending_plot = plot_gender_character_frequency(df, col=Corpus_series, new_name='clean_char', suptitle='Ending Character Statistics', alpha=0.1)"
   ]
  },
  {
   "cell_type": "markdown",
   "metadata": {},
   "source": [
    "## Clear Blanks after processing"
   ]
  },
  {
   "cell_type": "code",
   "execution_count": 18,
   "metadata": {},
   "outputs": [],
   "source": [
    "df = df[df[Corpus_series] != '']"
   ]
  },
  {
   "cell_type": "code",
   "execution_count": 19,
   "metadata": {},
   "outputs": [
    {
     "data": {
      "text/plain": [
       "170545"
      ]
     },
     "execution_count": 19,
     "metadata": {},
     "output_type": "execute_result"
    }
   ],
   "source": [
    "len(df)"
   ]
  },
  {
   "cell_type": "markdown",
   "metadata": {},
   "source": [
    "### Resample, reindex"
   ]
  },
  {
   "cell_type": "code",
   "execution_count": 20,
   "metadata": {},
   "outputs": [],
   "source": [
    "def resample_frame(df, random_state=random_state):\n",
    "    df = df.sample(n=len(df), random_state=random_state).reset_index(drop=True)\n",
    "    return df\n",
    "df = resample_frame(df) # resampled"
   ]
  },
  {
   "cell_type": "markdown",
   "metadata": {},
   "source": [
    "### Output"
   ]
  },
  {
   "cell_type": "code",
   "execution_count": 21,
   "metadata": {},
   "outputs": [],
   "source": [
    "df.to_csv('./data/enron/clean_clean_by_strings.csv')"
   ]
  },
  {
   "cell_type": "markdown",
   "metadata": {},
   "source": [
    "### End"
   ]
  },
  {
   "cell_type": "code",
   "execution_count": 22,
   "metadata": {},
   "outputs": [
    {
     "name": "stdout",
     "output_type": "stream",
     "text": [
      "Run time: 67.9s (~1m)\n"
     ]
    }
   ],
   "source": [
    "end_time = time.perf_counter()\n",
    "print('Run time: %.1fs (~%dm)' % ((end_time-start_time, (end_time-start_time)/60)))"
   ]
  }
 ],
 "metadata": {
  "kernelspec": {
   "display_name": "Python 3",
   "language": "python",
   "name": "python3"
  },
  "language_info": {
   "codemirror_mode": {
    "name": "ipython",
    "version": 3
   },
   "file_extension": ".py",
   "mimetype": "text/x-python",
   "name": "python",
   "nbconvert_exporter": "python",
   "pygments_lexer": "ipython3",
   "version": "3.7.7"
  }
 },
 "nbformat": 4,
 "nbformat_minor": 4
}
