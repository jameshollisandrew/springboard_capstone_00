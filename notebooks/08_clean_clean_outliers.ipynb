{
 "cells": [
  {
   "cell_type": "code",
   "execution_count": null,
   "metadata": {},
   "outputs": [],
   "source": [
    "import time\n",
    "start_time = time.perf_counter()"
   ]
  },
  {
   "cell_type": "markdown",
   "metadata": {},
   "source": [
    "## Versions, housekeeping"
   ]
  },
  {
   "cell_type": "code",
   "execution_count": 2,
   "metadata": {},
   "outputs": [
    {
     "name": "stdout",
     "output_type": "stream",
     "text": [
      "The numpy version is 1.18.1.\n",
      "The pandas version is 1.0.4.\n",
      "The scikit-learn version is 0.23.1.\n",
      "The matplotlib version is 3.2.1.\n",
      "The regex version is 2.5.80.\n",
      "The scipy version is 1.4.1.\n"
     ]
    }
   ],
   "source": [
    "%matplotlib inline\n",
    "# version check\n",
    "import numpy\n",
    "print('The numpy version is {}.'.format(numpy.__version__))\n",
    "import pandas\n",
    "print('The pandas version is {}.'.format(pandas.__version__))\n",
    "import sklearn\n",
    "print('The scikit-learn version is {}.'.format(sklearn.__version__))\n",
    "import matplotlib\n",
    "print('The matplotlib version is {}.'.format(matplotlib.__version__))\n",
    "import regex\n",
    "print('The regex version is {}.'.format(regex.__version__))\n",
    "import scipy\n",
    "print('The scipy version is {}.'.format(scipy.__version__))"
   ]
  },
  {
   "cell_type": "code",
   "execution_count": 3,
   "metadata": {},
   "outputs": [],
   "source": [
    "# set random state for reproducibility\n",
    "random_state = 42\n",
    "\n",
    "# view number of output entries\n",
    "view_n_entries = 5\n",
    "\n",
    "# default numpy settings\n",
    "import numpy as np\n",
    "np.set_printoptions(edgeitems=3)\n",
    "np.core.arrayprint._line_width = 80\n",
    "\n",
    "# update settings\n",
    "import numpy as np\n",
    "np.set_printoptions(edgeitems=15, linewidth=150, \n",
    "    formatter=dict(float=lambda x: \"%.2f\" % x))\n",
    "\n",
    "# update pandas settings\n",
    "import pandas as pd\n",
    "pd.set_option('max_colwidth', 150)\n",
    "pd.options.display.max_columns = 100\n",
    "pd.options.display.max_rows = 150\n",
    "pd.set_option('display.float_format', lambda x: '%.2f' % x)\n",
    "\n",
    "# system\n",
    "import sys\n",
    "#sys.getsizeof\n",
    "\n",
    "# timeit\n",
    "import timeit"
   ]
  },
  {
   "cell_type": "markdown",
   "metadata": {},
   "source": [
    "## Plotting Functions"
   ]
  },
  {
   "cell_type": "code",
   "execution_count": 4,
   "metadata": {},
   "outputs": [],
   "source": [
    "# plotting functions\n",
    "import numpy as np\n",
    "import pandas as pd\n",
    "import regex as re\n",
    "import matplotlib.pyplot as plt\n",
    "from scipy import stats\n",
    "import seaborn as sns\n",
    "from matplotlib import rcParams\n",
    "sns.set_style(\"whitegrid\")\n",
    "sns.set_context(\"notebook\")\n",
    "\n",
    "def get_character_counts(df, col='m_body', new_name='n_char'):\n",
    "    A = np.array(df.loc[:, col]) \n",
    "    getlength = np.vectorize(len)\n",
    "    df[new_name] = getlength(A)\n",
    "    return df\n",
    "\n",
    "def plot_ecdf(x, xlab='', ylab='', title='', color=None, xlim=None, ylim=None, logx=False, logy=False, hline=None, vline=None, alpha=1, s=1):\n",
    "    x = np.sort(x)\n",
    "    n = x.size\n",
    "    y = np.arange(1, n+1) / n\n",
    "    plt.scatter(x, y, color=color, s=s, alpha=alpha)\n",
    "    plt.xlabel(xlab, fontsize=14)\n",
    "    plt.ylabel(ylab, fontsize=14)\n",
    "    plt.xlim(xlim)\n",
    "    plt.ylim(ylim)\n",
    "    plt.title(title)\n",
    "    if logx == True:\n",
    "        plt.xscale('log')\n",
    "    if logy == True:\n",
    "        plt.yscale('log')\n",
    "    if hline is not None:\n",
    "        plt.axhline(hline, color='r', linestyle='--')\n",
    "    if vline is not None:\n",
    "        plt.axvline(vline, color='r', linestyle='--')\n",
    "\n",
    "def plot_scatter(x, y, xlab='', ylab='', title='', logx=False, logy=False, hline=None, vline=None, s=None):\n",
    "    plt.scatter(x, y, alpha=0.25)\n",
    "    plt.xlabel(xlab)\n",
    "    plt.ylabel(ylab)\n",
    "    plt.title(title)\n",
    "    if logx == True:\n",
    "        plt.xscale('log')\n",
    "    if logy == True:\n",
    "        plt.yscale('log')\n",
    "    if hline is not None:\n",
    "        plt.axhline(hline, color='r', linestyle='--')\n",
    "    if vline is not None:\n",
    "        plt.axvline(vline, color='r', linestyle='--')\n",
    "\n",
    "def plot_2_2(x, y, suptitle='', hline=None, vline=None):\n",
    "    plt.figure(figsize=(10,10))\n",
    "\n",
    "    plt.subplot(2, 2, 1)\n",
    "    plot_scatter(x, y, xlab='', ylab='', title='Plot 1: linx, liny', logx=False, logy=False, hline=None, vline=None)\n",
    "    plt.subplot(2, 2, 2)\n",
    "    plot_scatter(x, y, xlab='', ylab='', title='Plot 2: linx, logy', logx=False, logy=True, hline=None, vline=None)\n",
    "    plt.subplot(2, 2, 3)\n",
    "    plot_scatter(x, y, xlab='', ylab='', title='Plot 3: linx, liny', logx=True, logy=False, hline=None, vline=None)\n",
    "    plt.subplot(2, 2, 4)\n",
    "    plot_scatter(x, y, xlab='', ylab='', title='Plot 4: linx, logy', logx=True, logy=True, hline=None, vline=None)\n",
    "\n",
    "    plt.suptitle(suptitle, fontsize=16)\n",
    "    plt.show() \n",
    "\n",
    "def plot_2_4(_, suptitle='', hline=None, vline=None):\n",
    "    plt.figure(figsize=(20,10))\n",
    "\n",
    "    plt.subplot(2, 4, 1)\n",
    "    _.plot(kind='hist', bins=30, title='Plot 1: linx, liny', logx=False, logy=False)\n",
    "    plt.subplot(2, 4, 2)\n",
    "    _.plot(kind='hist', bins=30, title='Plot 2: linx, logy', logx=False, logy=True)\n",
    "    plt.subplot(2, 4, 3)\n",
    "    plot_ecdf(_, xlab='', ylab='', title='Plot 3: linx, liny', logx=False, logy=False, hline=None, vline=None)\n",
    "    plt.subplot(2, 4, 4)\n",
    "    plot_ecdf(_, xlab='', ylab='', title='Plot 4: linx, logy', logx=False, logy=True, hline=None, vline=None)\n",
    "    plt.subplot(2, 4, 5)\n",
    "    _.plot(kind='hist', bins=30, title='Plot 5: logx, liny', logx=True, logy=False)\n",
    "    plt.subplot(2, 4, 6)\n",
    "    _.plot(kind='hist', bins=30, title='Plot 6: logx, logy', logx=True, logy=True)\n",
    "    plt.subplot(2, 4, 7)\n",
    "    plot_ecdf(_, xlab='', ylab='', title='Plot 7: logx, liny', logx=True, logy=False, hline=None, vline=None)\n",
    "    plt.subplot(2, 4, 8)\n",
    "    plot_ecdf(_, xlab='', ylab='', title='Plot 8: logx, logy', logx=True, logy=True, hline=None, vline=None)\n",
    "    plt.suptitle(suptitle, fontsize=16)\n",
    "    plt.show()   \n",
    "\n",
    "    \n",
    "def plot_sender_stats(df, n, suptitle=''):\n",
    "    plt.figure(figsize=(14, 12))\n",
    "    plt.subplot(2, 2, 1) # plot 1: horizontal bar\n",
    "    _ = pd.DataFrame(df.groupby(['m_from']).size()).sort_values(0,ascending=False).reset_index() # convert data\n",
    "    l = np.array(_.iloc[:,0]) # labels\n",
    "    v = np.array(_.iloc[:,1]) # values\n",
    "    plt.barh(np.linspace(n,1,n), v[:n], tick_label=l[:n])\n",
    "    plt.subplot(2, 2, 2) # plot 2: full histogram\n",
    "    plt.hist(v, bins=30)\n",
    "    plt.yscale('log')\n",
    "    plt.subplot(2, 2, 3) # plot 3: pie\n",
    "    pie_x = [len(df[df.gender == 0].m_from.unique()), len(df[df.gender == 1].m_from.unique())]\n",
    "    pie_lab = ['boy: %d email addresses' % (pie_x[0]), 'girl: %d email addresses' % (pie_x[1])]\n",
    "    plt.pie(pie_x, labels=pie_lab, autopct='%.2f%%', colors=['#347DC1', '#FF85A2'])\n",
    "    plt.subplot(2, 2, 4) # plot 4: ecdf\n",
    "    plot_ecdf(v, xlim=(0,stats.scoreatpercentile(v,95)))\n",
    "    plt.suptitle(suptitle)\n",
    "    plt.show()\n",
    "    print(_.describe())\n",
    "    print(stats.describe(v))\n",
    "    \n",
    "def plot_character_frequency(df, suptitle=''):\n",
    "    v = np.array(df.n_characters_start.values) # values\n",
    "    plt.figure(figsize=(18,6))\n",
    "    plt.subplot(1, 3, 1) # plot 1: pie chart\n",
    "    pie_x = [df[df.gender == 0].n_characters_start.sum(),df[df.gender == 1].n_characters_start.sum()]\n",
    "    pie_lab = ['boy: %.3g characters' % (pie_x[0]), 'girl: %.3g characters' % (pie_x[1])]\n",
    "    plt.pie(pie_x, labels=pie_lab, autopct='%.2f%%', colors=['#347DC1', '#FF85A2'])\n",
    "    plt.subplot(1, 3, 2) # plot 2: full histogram\n",
    "    plt.hist(v, bins=30)\n",
    "    plt.yscale('log')\n",
    "    plt.subplot(1, 3, 3) # plot 3: ecdf\n",
    "    plot_ecdf(v, xlim=(0,stats.scoreatpercentile(v,95)))\n",
    "    plt.show()\n",
    "    print(df.n_characters_start.describe())\n",
    "    print(stats.describe(v))\n",
    "    \n",
    "\n",
    "    \n",
    "def plot_gender_character_frequency(df, col='m_body', new_name='n_char', suptitle='', alpha=0.1,):\n",
    "    df = get_character_counts(df, col=col, new_name=new_name)\n",
    "    bv = np.array(df[df.gender == 0][new_name].values) # values\n",
    "    gv = np.array(df[df.gender == 1][new_name].values) # values\n",
    "    plt.figure(figsize=(18,6))\n",
    "    plt.subplot(1, 3, 1) # plot 1: pie chart\n",
    "    pie_x = [np.sum(bv), np.sum(gv)]\n",
    "    pie_lab = ['boy: %dM characters' % (pie_x[0]/1000000), 'girl: %dM characters' % (pie_x[1]/1000000)]\n",
    "    plt.pie(pie_x, labels=pie_lab, autopct='%.2f%%', colors=['#347DC1', '#FF85A2'])\n",
    "    plt.subplot(1, 3, 2) # plot 2: full histogram\n",
    "    plt.hist(x=[bv, gv], bins=10, color=['#347DC1', '#FF85A2'], rwidth=1,)\n",
    "    #plt.hist(gv, bins=30, color='#FF85A2')\n",
    "    plt.yscale('log')\n",
    "    plt.subplot(1, 3, 3) # plot 3: ecdf\n",
    "    plot_ecdf(bv, xlim=(0,stats.scoreatpercentile(bv,97)), color='#347DC1', alpha=.5, s=.1)\n",
    "    plot_ecdf(gv, xlim=(0,stats.scoreatpercentile(gv,97)), color='#FF85A2', alpha=.25, s=.1)\n",
    "    plt.suptitle(suptitle.upper())\n",
    "    plt.tight_layout()\n",
    "    plt.show()\n",
    "    \n",
    "    bd = df[df.gender == 0][new_name].describe()\n",
    "    bd.name = 'boy'\n",
    "    gd = df[df.gender == 1][new_name].describe()\n",
    "    gd.name = 'girl'\n",
    "    bg_describe = pd.concat([bd, gd], axis=1)\n",
    "    print(bg_describe)"
   ]
  },
  {
   "cell_type": "markdown",
   "metadata": {},
   "source": [
    "### Threadpool executor for this notebook's user functions"
   ]
  },
  {
   "cell_type": "code",
   "execution_count": 5,
   "metadata": {},
   "outputs": [
    {
     "name": "stdout",
     "output_type": "stream",
     "text": [
      "Wall time: 0 ns\n"
     ]
    }
   ],
   "source": [
    "%%time\n",
    "def threadpool_executor(io_func=None, df=None, series=None, merge_back=False, idict=None, new_name=None):\n",
    "    \"\"\"Use this to pass a dataframe series to the threadpool executor to trigger async processessing. Make sure the user function (io_func) meets the following conditions:\n",
    "    - Receives two arguments: series index position & series values\n",
    "    - Has an output dictionary that assembles the index, values as key, values for reassembly\n",
    "    - Output dictionary is set as the return by name within the called function\n",
    "    \n",
    "    io_func: user function to pass to threadpoolexecutor; df: dataframe with data; series: string name of column; idict: dictionary linked to user function to catch output values; new_name: string for new column name\n",
    "    when reassigning values back to the main dataframe\"\"\"\n",
    "    \n",
    "    if (io_func is None) | (df is None) | (series is None):\n",
    "        sys.exit(\"'None' received as input for either io_func, df, or series. Please assign a value and try again.\")\n",
    "    if (merge_back is True) & (idict is None):\n",
    "        sys.exit(\"'merge_back is set to True. However, no dictionary has been passed to capture output. Please set the idict= argument to an initialized dictionary and try again.'\")\n",
    "    \n",
    "    import concurrent.futures\n",
    "    with concurrent.futures.ThreadPoolExecutor() as executor:  \n",
    "        executor.map(io_func, df[series].index, df[series])\n",
    "    \n",
    "    if merge_back == True: # will merge the processed values back to the initial dataframe\n",
    "        if idict is not None:\n",
    "            new_frame = pd.DataFrame.from_dict(idict, orient='index')\n",
    "            if new_name is not None:\n",
    "                new_frame.columns = [new_name]\n",
    "                df = pd.merge(df, new_frame, how='left', left_index=True, right_index=True, copy=False)\n",
    "            else:\n",
    "                sys.exit(\"Merge back is True, but no series or name for a new column has been received. If a new column is desired, please pass a new_name. Otherwise, please pass, 'series' to merge_back to replace the current series.\")\n",
    "    if merge_back == 'series': # will drop the old series and replace it with the new processed documents\n",
    "        df = df.drop(series, axis=1)\n",
    "        new_frame = pd.DataFrame.from_dict(idict, orient='index')\n",
    "        new_frame.columns = [series]\n",
    "        df = pd.merge(df, new_frame, how='left', left_index=True, right_index=True, copy=False)\n",
    "            \n",
    "    return df"
   ]
  },
  {
   "cell_type": "markdown",
   "metadata": {},
   "source": [
    "# Notebook Overview\n",
    "In this notebook we'll look at outliers for character counts"
   ]
  },
  {
   "cell_type": "markdown",
   "metadata": {},
   "source": [
    "# Import dataframe"
   ]
  },
  {
   "cell_type": "code",
   "execution_count": 6,
   "metadata": {},
   "outputs": [],
   "source": [
    "Dataset_directory = './data/enron/preprocess_data.csv'\n",
    "df = pd.read_csv(Dataset_directory, index_col=0)"
   ]
  },
  {
   "cell_type": "code",
   "execution_count": 7,
   "metadata": {},
   "outputs": [
    {
     "data": {
      "text/html": [
       "<div>\n",
       "<style scoped>\n",
       "    .dataframe tbody tr th:only-of-type {\n",
       "        vertical-align: middle;\n",
       "    }\n",
       "\n",
       "    .dataframe tbody tr th {\n",
       "        vertical-align: top;\n",
       "    }\n",
       "\n",
       "    .dataframe thead th {\n",
       "        text-align: right;\n",
       "    }\n",
       "</style>\n",
       "<table border=\"1\" class=\"dataframe\">\n",
       "  <thead>\n",
       "    <tr style=\"text-align: right;\">\n",
       "      <th></th>\n",
       "      <th>f_dir</th>\n",
       "      <th>m_id</th>\n",
       "      <th>m_date</th>\n",
       "      <th>m_from</th>\n",
       "      <th>m_to</th>\n",
       "      <th>m_cc</th>\n",
       "      <th>m_bcc</th>\n",
       "      <th>m_subj</th>\n",
       "      <th>mime_vers</th>\n",
       "      <th>cont_type</th>\n",
       "      <th>encode</th>\n",
       "      <th>x_from</th>\n",
       "      <th>x_to</th>\n",
       "      <th>x_cc</th>\n",
       "      <th>x_bcc</th>\n",
       "      <th>x_fold</th>\n",
       "      <th>x_orig</th>\n",
       "      <th>x_fname</th>\n",
       "      <th>o_body</th>\n",
       "      <th>m_body</th>\n",
       "      <th>gender</th>\n",
       "      <th>n_emails_sent</th>\n",
       "      <th>n_characters_start</th>\n",
       "      <th>clean_char</th>\n",
       "      <th>n_char</th>\n",
       "      <th>clean_body</th>\n",
       "      <th>preprocessed_body</th>\n",
       "    </tr>\n",
       "  </thead>\n",
       "  <tbody>\n",
       "    <tr>\n",
       "      <th>0</th>\n",
       "      <td>./data/enron/maildir/derrick-j/sent_items/247</td>\n",
       "      <td>&lt;3600822.1075845098335.JavaMail.evans@thyme&gt;</td>\n",
       "      <td>Fri, 6 Apr 2001 11:54:21 -0700 (PDT)</td>\n",
       "      <td>james.derrick@enron.com</td>\n",
       "      <td>jvd024@hotmail.com</td>\n",
       "      <td>NaN</td>\n",
       "      <td>NaN</td>\n",
       "      <td>RE:</td>\n",
       "      <td>1.00</td>\n",
       "      <td>text/plain; charset=ANSI_X3.4-1968</td>\n",
       "      <td>7bit</td>\n",
       "      <td>Derrick Jr., James &lt;/O=ENRON/OU=NA/CN=RECIPIENTS/CN=JDERRIC&gt;</td>\n",
       "      <td>'\"Jimi Derrick\" &lt;jvd024@hotmail.com&gt;@ENRON' &lt;IMCEANOTES-+22Jimi+20Derrick+22+20+3Cjvd024+40hotmail+2Ecom+3E+40ENRON@ENRON.com&gt;</td>\n",
       "      <td>NaN</td>\n",
       "      <td>NaN</td>\n",
       "      <td>\\Derrick Jr., James\\Derrick Jr., James\\Sent Items</td>\n",
       "      <td>DERRICK-J</td>\n",
       "      <td>Derrick Jr., James.pst\\n\\n</td>\n",
       "      <td>Message-ID: &lt;3600822.1075845098335.JavaMail.evans@thyme&gt;\\nDate: Fri, 6 Apr 2001 11:54:21 -0700 (PDT)\\nFrom: james.derrick@enron.com\\nTo: jvd024@ho...</td>\n",
       "      <td>Jimbo, thank you for the message.  I, too, have great, ever-lasting memories of our times together in Spain and Scottsdale. I am confident that th...</td>\n",
       "      <td>0.00</td>\n",
       "      <td>909</td>\n",
       "      <td>1859</td>\n",
       "      <td>461</td>\n",
       "      <td>461</td>\n",
       "      <td>Jimbo, thank you for the message.  I, too, have great, ever-lasting memories of our times together in Spain and Scottsdale. I am confident that th...</td>\n",
       "      <td>jimbo thank you for the message too have great ever lasting memories of our times together in spain and scottsdale am confident that there will be...</td>\n",
       "    </tr>\n",
       "    <tr>\n",
       "      <th>1</th>\n",
       "      <td>./data/enron/maildir/hain-m/_sent_mail/345</td>\n",
       "      <td>&lt;15254140.1075860479847.JavaMail.evans@thyme&gt;</td>\n",
       "      <td>Mon, 16 Oct 2000 06:54:00 -0700 (PDT)</td>\n",
       "      <td>mary.hain@enron.com</td>\n",
       "      <td>christi.nicolay@enron.com, robert.frank@enron.com, james.steffes@enron.com,</td>\n",
       "      <td>NaN</td>\n",
       "      <td>NaN</td>\n",
       "      <td>Re: Stranded costs</td>\n",
       "      <td>1.00</td>\n",
       "      <td>text/plain; charset=us-ascii</td>\n",
       "      <td>7bit</td>\n",
       "      <td>Mary Hain</td>\n",
       "      <td>Christi L Nicolay, Robert Frank, James D Steffes, Harry Kingerski, Joe Hartsoe, Sarah Novosel, Donna Fulton, Paul Kaufman</td>\n",
       "      <td>NaN</td>\n",
       "      <td>NaN</td>\n",
       "      <td>\\Mary_Hain_Aug2000_Jul2001\\Notes Folders\\'sent mail</td>\n",
       "      <td>Hain-M</td>\n",
       "      <td>mary-hain.nsf\\n\\n</td>\n",
       "      <td>Message-ID: &lt;15254140.1075860479847.JavaMail.evans@thyme&gt;\\nDate: Mon, 16 Oct 2000 06:54:00 -0700 (PDT)\\nFrom: mary.hain@enron.com\\nTo: christi.nic...</td>\n",
       "      <td>I have tracked down an old memo written by the Chief Counsel of Federal \\nAffairs for Niagara Mohawk, summarizing positions taken in requests for ...</td>\n",
       "      <td>1.00</td>\n",
       "      <td>1456</td>\n",
       "      <td>6241</td>\n",
       "      <td>562</td>\n",
       "      <td>562</td>\n",
       "      <td>I have tracked down an old memo written by the Chief Counsel of Federal \\nAffairs for Niagara Mohawk, summarizing positions taken in requests for ...</td>\n",
       "      <td>have tracked down an old memo written by the chief counsel of federal affairs for niagara mohawk summarizing positions taken in requests for rehe...</td>\n",
       "    </tr>\n",
       "  </tbody>\n",
       "</table>\n",
       "</div>"
      ],
      "text/plain": [
       "                                           f_dir  \\\n",
       "0  ./data/enron/maildir/derrick-j/sent_items/247   \n",
       "1     ./data/enron/maildir/hain-m/_sent_mail/345   \n",
       "\n",
       "                                            m_id  \\\n",
       "0   <3600822.1075845098335.JavaMail.evans@thyme>   \n",
       "1  <15254140.1075860479847.JavaMail.evans@thyme>   \n",
       "\n",
       "                                  m_date                   m_from  \\\n",
       "0   Fri, 6 Apr 2001 11:54:21 -0700 (PDT)  james.derrick@enron.com   \n",
       "1  Mon, 16 Oct 2000 06:54:00 -0700 (PDT)      mary.hain@enron.com   \n",
       "\n",
       "                                                                           m_to  \\\n",
       "0                                                            jvd024@hotmail.com   \n",
       "1  christi.nicolay@enron.com, robert.frank@enron.com, james.steffes@enron.com,    \n",
       "\n",
       "  m_cc m_bcc              m_subj  mime_vers  \\\n",
       "0  NaN   NaN                 RE:       1.00   \n",
       "1  NaN   NaN  Re: Stranded costs       1.00   \n",
       "\n",
       "                            cont_type encode  \\\n",
       "0  text/plain; charset=ANSI_X3.4-1968   7bit   \n",
       "1        text/plain; charset=us-ascii   7bit   \n",
       "\n",
       "                                                         x_from  \\\n",
       "0  Derrick Jr., James </O=ENRON/OU=NA/CN=RECIPIENTS/CN=JDERRIC>   \n",
       "1                                                     Mary Hain   \n",
       "\n",
       "                                                                                                                             x_to  \\\n",
       "0  '\"Jimi Derrick\" <jvd024@hotmail.com>@ENRON' <IMCEANOTES-+22Jimi+20Derrick+22+20+3Cjvd024+40hotmail+2Ecom+3E+40ENRON@ENRON.com>   \n",
       "1       Christi L Nicolay, Robert Frank, James D Steffes, Harry Kingerski, Joe Hartsoe, Sarah Novosel, Donna Fulton, Paul Kaufman   \n",
       "\n",
       "  x_cc x_bcc                                               x_fold     x_orig  \\\n",
       "0  NaN   NaN    \\Derrick Jr., James\\Derrick Jr., James\\Sent Items  DERRICK-J   \n",
       "1  NaN   NaN  \\Mary_Hain_Aug2000_Jul2001\\Notes Folders\\'sent mail     Hain-M   \n",
       "\n",
       "                      x_fname  \\\n",
       "0  Derrick Jr., James.pst\\n\\n   \n",
       "1           mary-hain.nsf\\n\\n   \n",
       "\n",
       "                                                                                                                                                  o_body  \\\n",
       "0  Message-ID: <3600822.1075845098335.JavaMail.evans@thyme>\\nDate: Fri, 6 Apr 2001 11:54:21 -0700 (PDT)\\nFrom: james.derrick@enron.com\\nTo: jvd024@ho...   \n",
       "1  Message-ID: <15254140.1075860479847.JavaMail.evans@thyme>\\nDate: Mon, 16 Oct 2000 06:54:00 -0700 (PDT)\\nFrom: mary.hain@enron.com\\nTo: christi.nic...   \n",
       "\n",
       "                                                                                                                                                  m_body  \\\n",
       "0  Jimbo, thank you for the message.  I, too, have great, ever-lasting memories of our times together in Spain and Scottsdale. I am confident that th...   \n",
       "1  I have tracked down an old memo written by the Chief Counsel of Federal \\nAffairs for Niagara Mohawk, summarizing positions taken in requests for ...   \n",
       "\n",
       "   gender  n_emails_sent  n_characters_start  clean_char  n_char  \\\n",
       "0    0.00            909                1859         461     461   \n",
       "1    1.00           1456                6241         562     562   \n",
       "\n",
       "                                                                                                                                              clean_body  \\\n",
       "0  Jimbo, thank you for the message.  I, too, have great, ever-lasting memories of our times together in Spain and Scottsdale. I am confident that th...   \n",
       "1  I have tracked down an old memo written by the Chief Counsel of Federal \\nAffairs for Niagara Mohawk, summarizing positions taken in requests for ...   \n",
       "\n",
       "                                                                                                                                       preprocessed_body  \n",
       "0  jimbo thank you for the message too have great ever lasting memories of our times together in spain and scottsdale am confident that there will be...  \n",
       "1   have tracked down an old memo written by the chief counsel of federal affairs for niagara mohawk summarizing positions taken in requests for rehe...  "
      ]
     },
     "execution_count": 7,
     "metadata": {},
     "output_type": "execute_result"
    }
   ],
   "source": [
    "df.head(2)"
   ]
  },
  {
   "cell_type": "markdown",
   "metadata": {},
   "source": [
    "## Global Variables for DataFrame Columns"
   ]
  },
  {
   "cell_type": "code",
   "execution_count": 8,
   "metadata": {},
   "outputs": [],
   "source": [
    "Corpus_series = 'preprocessed_body'\n",
    "Target_series = 'gender'"
   ]
  },
  {
   "cell_type": "code",
   "execution_count": 9,
   "metadata": {},
   "outputs": [
    {
     "name": "stdout",
     "output_type": "stream",
     "text": [
      "<class 'pandas.core.frame.DataFrame'>\n",
      "Int64Index: 139283 entries, 0 to 139282\n",
      "Data columns (total 27 columns):\n",
      " #   Column              Non-Null Count   Dtype  \n",
      "---  ------              --------------   -----  \n",
      " 0   f_dir               139283 non-null  object \n",
      " 1   m_id                139283 non-null  object \n",
      " 2   m_date              139283 non-null  object \n",
      " 3   m_from              139283 non-null  object \n",
      " 4   m_to                136997 non-null  object \n",
      " 5   m_cc                44984 non-null   object \n",
      " 6   m_bcc               42944 non-null   object \n",
      " 7   m_subj              133440 non-null  object \n",
      " 8   mime_vers           139283 non-null  float64\n",
      " 9   cont_type           139283 non-null  object \n",
      " 10  encode              139283 non-null  object \n",
      " 11  x_from              139283 non-null  object \n",
      " 12  x_to                137591 non-null  object \n",
      " 13  x_cc                43246 non-null   object \n",
      " 14  x_bcc               117 non-null     object \n",
      " 15  x_fold              139283 non-null  object \n",
      " 16  x_orig              139283 non-null  object \n",
      " 17  x_fname             139283 non-null  object \n",
      " 18  o_body              139283 non-null  object \n",
      " 19  m_body              139283 non-null  object \n",
      " 20  gender              139283 non-null  float64\n",
      " 21  n_emails_sent       139283 non-null  int64  \n",
      " 22  n_characters_start  139283 non-null  int64  \n",
      " 23  clean_char          139283 non-null  int64  \n",
      " 24  n_char              139283 non-null  int64  \n",
      " 25  clean_body          139283 non-null  object \n",
      " 26  preprocessed_body   139283 non-null  object \n",
      "dtypes: float64(2), int64(4), object(21)\n",
      "memory usage: 29.8+ MB\n"
     ]
    }
   ],
   "source": [
    "df.info()"
   ]
  },
  {
   "cell_type": "markdown",
   "metadata": {},
   "source": [
    "## Character Counts"
   ]
  },
  {
   "cell_type": "code",
   "execution_count": 10,
   "metadata": {},
   "outputs": [
    {
     "data": {
      "text/plain": [
       "0"
      ]
     },
     "execution_count": 10,
     "metadata": {},
     "output_type": "execute_result"
    }
   ],
   "source": [
    "len(df[(df[Corpus_series].isna())])"
   ]
  },
  {
   "cell_type": "code",
   "execution_count": 11,
   "metadata": {},
   "outputs": [
    {
     "data": {
      "image/png": "[encoded data removed]",
      "text/plain": [
       "<Figure size 1296x432 with 3 Axes>"
      ]
     },
     "metadata": {},
     "output_type": "display_data"
    },
    {
     "name": "stdout",
     "output_type": "stream",
     "text": [
      "           boy     girl\n",
      "count 77155.00 62128.00\n",
      "mean    216.23   226.43\n",
      "std     698.22   875.90\n",
      "min       1.00     1.00\n",
      "25%      35.00    43.00\n",
      "50%      81.00    95.00\n",
      "75%     197.00   209.00\n",
      "max   81643.00 94855.00\n",
      "Wall time: 1.38 s\n"
     ]
    }
   ],
   "source": [
    "%%time\n",
    "plot_gender_character_frequency(df, col=Corpus_series, new_name='clean_char', suptitle='Characters After Cleanup', alpha=0.1)"
   ]
  },
  {
   "cell_type": "markdown",
   "metadata": {},
   "source": [
    "## Total Character Statistics"
   ]
  },
  {
   "cell_type": "code",
   "execution_count": 12,
   "metadata": {},
   "outputs": [
    {
     "data": {
      "text/plain": [
       "count   139283.00\n",
       "mean       220.78\n",
       "std        782.49\n",
       "min          1.00\n",
       "25%         39.00\n",
       "50%         88.00\n",
       "75%        203.00\n",
       "max      94855.00\n",
       "Name: clean_char, dtype: float64"
      ]
     },
     "execution_count": 12,
     "metadata": {},
     "output_type": "execute_result"
    }
   ],
   "source": [
    "df.clean_char.describe()"
   ]
  },
  {
   "cell_type": "markdown",
   "metadata": {},
   "source": [
    "### Character Sums by Email Sender"
   ]
  },
  {
   "cell_type": "code",
   "execution_count": 13,
   "metadata": {},
   "outputs": [
    {
     "data": {
      "text/html": [
       "<div>\n",
       "<style scoped>\n",
       "    .dataframe tbody tr th:only-of-type {\n",
       "        vertical-align: middle;\n",
       "    }\n",
       "\n",
       "    .dataframe tbody tr th {\n",
       "        vertical-align: top;\n",
       "    }\n",
       "\n",
       "    .dataframe thead th {\n",
       "        text-align: right;\n",
       "    }\n",
       "</style>\n",
       "<table border=\"1\" class=\"dataframe\">\n",
       "  <thead>\n",
       "    <tr style=\"text-align: right;\">\n",
       "      <th></th>\n",
       "      <th></th>\n",
       "      <th>mime_vers</th>\n",
       "      <th>gender</th>\n",
       "      <th>n_emails_sent</th>\n",
       "      <th>n_characters_start</th>\n",
       "      <th>n_char</th>\n",
       "    </tr>\n",
       "    <tr>\n",
       "      <th>m_from</th>\n",
       "      <th>clean_char</th>\n",
       "      <th></th>\n",
       "      <th></th>\n",
       "      <th></th>\n",
       "      <th></th>\n",
       "      <th></th>\n",
       "    </tr>\n",
       "  </thead>\n",
       "  <tbody>\n",
       "    <tr>\n",
       "      <th>angela.wilson@enron.com</th>\n",
       "      <th>94855</th>\n",
       "      <td>1.00</td>\n",
       "      <td>1.00</td>\n",
       "      <td>26</td>\n",
       "      <td>161617</td>\n",
       "      <td>151981</td>\n",
       "    </tr>\n",
       "    <tr>\n",
       "      <th>gus.perez@enron.com</th>\n",
       "      <th>81643</th>\n",
       "      <td>1.00</td>\n",
       "      <td>0.00</td>\n",
       "      <td>18</td>\n",
       "      <td>142153</td>\n",
       "      <td>134179</td>\n",
       "    </tr>\n",
       "    <tr>\n",
       "      <th>angela.wilson@enron.com</th>\n",
       "      <th>67456</th>\n",
       "      <td>1.00</td>\n",
       "      <td>1.00</td>\n",
       "      <td>26</td>\n",
       "      <td>117486</td>\n",
       "      <td>110955</td>\n",
       "    </tr>\n",
       "    <tr>\n",
       "      <th>gus.perez@enron.com</th>\n",
       "      <th>63094</th>\n",
       "      <td>1.00</td>\n",
       "      <td>0.00</td>\n",
       "      <td>18</td>\n",
       "      <td>110102</td>\n",
       "      <td>104091</td>\n",
       "    </tr>\n",
       "    <tr>\n",
       "      <th>angela.wilson@enron.com</th>\n",
       "      <th>58220</th>\n",
       "      <td>1.00</td>\n",
       "      <td>1.00</td>\n",
       "      <td>26</td>\n",
       "      <td>104273</td>\n",
       "      <td>98351</td>\n",
       "    </tr>\n",
       "  </tbody>\n",
       "</table>\n",
       "</div>"
      ],
      "text/plain": [
       "                                    mime_vers  gender  n_emails_sent  \\\n",
       "m_from                  clean_char                                     \n",
       "angela.wilson@enron.com 94855            1.00    1.00             26   \n",
       "gus.perez@enron.com     81643            1.00    0.00             18   \n",
       "angela.wilson@enron.com 67456            1.00    1.00             26   \n",
       "gus.perez@enron.com     63094            1.00    0.00             18   \n",
       "angela.wilson@enron.com 58220            1.00    1.00             26   \n",
       "\n",
       "                                    n_characters_start  n_char  \n",
       "m_from                  clean_char                              \n",
       "angela.wilson@enron.com 94855                   161617  151981  \n",
       "gus.perez@enron.com     81643                   142153  134179  \n",
       "angela.wilson@enron.com 67456                   117486  110955  \n",
       "gus.perez@enron.com     63094                   110102  104091  \n",
       "angela.wilson@enron.com 58220                   104273   98351  "
      ]
     },
     "execution_count": 13,
     "metadata": {},
     "output_type": "execute_result"
    }
   ],
   "source": [
    "three_sigma = np.mean(df.clean_char) + (np.std(df.clean_char))*3\n",
    "df[(df.clean_char > three_sigma)].groupby(['m_from', 'clean_char']).sum().sort_values('clean_char', ascending=False)[:5]"
   ]
  },
  {
   "cell_type": "markdown",
   "metadata": {},
   "source": [
    "## Dropping Character Count > 3 Sigma, Referencing Total Corpus"
   ]
  },
  {
   "cell_type": "code",
   "execution_count": 14,
   "metadata": {},
   "outputs": [
    {
     "data": {
      "image/png": "[encoded data removed]",
      "text/plain": [
       "<Figure size 1296x432 with 3 Axes>"
      ]
     },
     "metadata": {},
     "output_type": "display_data"
    },
    {
     "name": "stdout",
     "output_type": "stream",
     "text": [
      "           boy     girl\n",
      "count 76597.00 61665.00\n",
      "mean    180.93   186.65\n",
      "std     289.02   279.92\n",
      "min       1.00     1.00\n",
      "25%      35.00    43.00\n",
      "50%      80.00    94.00\n",
      "75%     192.00   205.00\n",
      "max    2565.00  2557.00\n"
     ]
    }
   ],
   "source": [
    "three_sigma = np.mean(df.clean_char) + (np.std(df.clean_char))*3\n",
    "_ = df[(df.clean_char > three_sigma)].index\n",
    "plot_gender_character_frequency(df.drop(_), col=Corpus_series, new_name='clean_char', suptitle='3 Sigma Drop', alpha=0.1)"
   ]
  },
  {
   "cell_type": "markdown",
   "metadata": {},
   "source": [
    "## Make Reduction"
   ]
  },
  {
   "cell_type": "code",
   "execution_count": 15,
   "metadata": {},
   "outputs": [],
   "source": [
    "three_sigma = np.mean(df.clean_char) + (np.std(df.clean_char))*3\n",
    "df = df[(df.clean_char <= three_sigma)]"
   ]
  },
  {
   "cell_type": "markdown",
   "metadata": {},
   "source": [
    "### Resample, reindex"
   ]
  },
  {
   "cell_type": "code",
   "execution_count": 16,
   "metadata": {},
   "outputs": [],
   "source": [
    "def resample_frame(df, random_state=random_state):\n",
    "    df = df.sample(n=len(df), random_state=random_state).reset_index(drop=True)\n",
    "    return df\n",
    "df = resample_frame(df) # resampled"
   ]
  },
  {
   "cell_type": "markdown",
   "metadata": {},
   "source": [
    "### Output"
   ]
  },
  {
   "cell_type": "code",
   "execution_count": 17,
   "metadata": {},
   "outputs": [],
   "source": [
    "df.to_csv('./data/enron/clean_clean_outliers.csv')"
   ]
  },
  {
   "cell_type": "markdown",
   "metadata": {},
   "source": [
    "### End"
   ]
  },
  {
   "cell_type": "code",
   "execution_count": 18,
   "metadata": {},
   "outputs": [
    {
     "name": "stdout",
     "output_type": "stream",
     "text": [
      "Run time: 20.2s (~0m)\n"
     ]
    }
   ],
   "source": [
    "end_time = time.perf_counter()\n",
    "print('Run time: %.1fs (~%dm)' % ((end_time-start_time, (end_time-start_time)/60)))"
   ]
  },
  {
   "cell_type": "code",
   "execution_count": null,
   "metadata": {},
   "outputs": [],
   "source": []
  }
 ],
 "metadata": {
  "kernelspec": {
   "display_name": "Python 3",
   "language": "python",
   "name": "python3"
  },
  "language_info": {
   "codemirror_mode": {
    "name": "ipython",
    "version": 3
   },
   "file_extension": ".py",
   "mimetype": "text/x-python",
   "name": "python",
   "nbconvert_exporter": "python",
   "pygments_lexer": "ipython3",
   "version": "3.7.7"
  }
 },
 "nbformat": 4,
 "nbformat_minor": 4
}
