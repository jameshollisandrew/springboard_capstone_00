{
 "cells": [
  {
   "cell_type": "code",
   "execution_count": 1,
   "metadata": {},
   "outputs": [],
   "source": [
    "import time\n",
    "start_time = time.time()"
   ]
  },
  {
   "cell_type": "markdown",
   "metadata": {},
   "source": [
    "### Library version"
   ]
  },
  {
   "cell_type": "code",
   "execution_count": 2,
   "metadata": {},
   "outputs": [
    {
     "name": "stdout",
     "output_type": "stream",
     "text": [
      "The nltk version is 3.4.5.\n",
      "The scikit-learn version is 0.23.1.\n"
     ]
    }
   ],
   "source": [
    "import nltk\n",
    "import sklearn\n",
    "\n",
    "print('The nltk version is {}.'.format(nltk.__version__))\n",
    "print('The scikit-learn version is {}.'.format(sklearn.__version__))"
   ]
  },
  {
   "cell_type": "markdown",
   "metadata": {},
   "source": [
    "## Get data"
   ]
  },
  {
   "cell_type": "code",
   "execution_count": 3,
   "metadata": {},
   "outputs": [],
   "source": [
    "# imports\n",
    "import numpy as np\n",
    "import pandas as pd\n",
    "\n",
    "# set data to df\n",
    "df = pd.read_csv('./data/enron/03_filtered_dataset.csv', index_col=0)"
   ]
  },
  {
   "cell_type": "code",
   "execution_count": 4,
   "metadata": {},
   "outputs": [
    {
     "data": {
      "text/html": [
       "<div>\n",
       "<style scoped>\n",
       "    .dataframe tbody tr th:only-of-type {\n",
       "        vertical-align: middle;\n",
       "    }\n",
       "\n",
       "    .dataframe tbody tr th {\n",
       "        vertical-align: top;\n",
       "    }\n",
       "\n",
       "    .dataframe thead th {\n",
       "        text-align: right;\n",
       "    }\n",
       "</style>\n",
       "<table border=\"1\" class=\"dataframe\">\n",
       "  <thead>\n",
       "    <tr style=\"text-align: right;\">\n",
       "      <th></th>\n",
       "      <th>gender</th>\n",
       "      <th>p_body</th>\n",
       "    </tr>\n",
       "  </thead>\n",
       "  <tbody>\n",
       "    <tr>\n",
       "      <th>0</th>\n",
       "      <td>boy</td>\n",
       "      <td>here is our forecast</td>\n",
       "    </tr>\n",
       "    <tr>\n",
       "      <th>1</th>\n",
       "      <td>boy</td>\n",
       "      <td>traveling to have business meeting take the fu...</td>\n",
       "    </tr>\n",
       "    <tr>\n",
       "      <th>2</th>\n",
       "      <td>boy</td>\n",
       "      <td>test successful way to go</td>\n",
       "    </tr>\n",
       "    <tr>\n",
       "      <th>3</th>\n",
       "      <td>boy</td>\n",
       "      <td>randy can you send me schedule of the salary a...</td>\n",
       "    </tr>\n",
       "    <tr>\n",
       "      <th>4</th>\n",
       "      <td>boy</td>\n",
       "      <td>let shoot for tuesday at</td>\n",
       "    </tr>\n",
       "  </tbody>\n",
       "</table>\n",
       "</div>"
      ],
      "text/plain": [
       "  gender                                             p_body\n",
       "0    boy                               here is our forecast\n",
       "1    boy  traveling to have business meeting take the fu...\n",
       "2    boy                          test successful way to go\n",
       "3    boy  randy can you send me schedule of the salary a...\n",
       "4    boy                           let shoot for tuesday at"
      ]
     },
     "execution_count": 4,
     "metadata": {},
     "output_type": "execute_result"
    }
   ],
   "source": [
    "df.head()"
   ]
  },
  {
   "cell_type": "code",
   "execution_count": 5,
   "metadata": {},
   "outputs": [
    {
     "data": {
      "text/plain": [
       "gender\n",
       "boy     103852\n",
       "girl     78971\n",
       "dtype: int64"
      ]
     },
     "execution_count": 5,
     "metadata": {},
     "output_type": "execute_result"
    }
   ],
   "source": [
    "df.groupby(['gender']).size()"
   ]
  },
  {
   "cell_type": "markdown",
   "metadata": {},
   "source": [
    "## Reclassify data"
   ]
  },
  {
   "cell_type": "code",
   "execution_count": 7,
   "metadata": {},
   "outputs": [],
   "source": [
    "# bool target variables: boy = 0, girl = 1\n",
    "df.gender = df.gender.replace('boy', 0)\n",
    "df.gender = df.gender.replace('girl', 1)"
   ]
  },
  {
   "cell_type": "code",
   "execution_count": 8,
   "metadata": {},
   "outputs": [],
   "source": [
    "# reclassify data into arrays\n",
    "full_X = df.p_body.values # features\n",
    "full_y = df.gender.values # targets (gender labels)"
   ]
  },
  {
   "cell_type": "markdown",
   "metadata": {},
   "source": [
    "## Multi-class classifier"
   ]
  },
  {
   "cell_type": "code",
   "execution_count": 16,
   "metadata": {},
   "outputs": [],
   "source": [
    "def get_sample(n=5000):\n",
    "    # import numpy\n",
    "    import numpy as np\n",
    "\n",
    "    # random choice collect index\n",
    "    sample_idx = np.random.choice(np.arange(len(full_X)), size=n, replace=True)\n",
    "\n",
    "    # create sample subsets\n",
    "    Xs = full_X[sample_idx]\n",
    "    ys = full_y[sample_idx]\n",
    "\n",
    "    return Xs, ys"
   ]
  },
  {
   "cell_type": "code",
   "execution_count": 9,
   "metadata": {},
   "outputs": [],
   "source": [
    "def plot_multi(X, y, n_samples=1000, CV=5):\n",
    "    \n",
    "    # import numpy\n",
    "    import numpy as np\n",
    "    \n",
    "    # random choice collect index\n",
    "    sample_idx = np.random.choice(np.arange(len(X)), size=n_samples, replace=True)\n",
    "\n",
    "    # create sample subsets\n",
    "    Xs = X[sample_idx]\n",
    "    ys = y[sample_idx]\n",
    "    \n",
    "    \n",
    "    # import tfidfvectorizer\n",
    "    from sklearn.feature_extraction.text import TfidfVectorizer\n",
    "    t_vect = TfidfVectorizer()\n",
    "    \n",
    "    # transform data\n",
    "    Xs_tfidf = t_vect.fit_transform(Xs)\n",
    "\n",
    "\n",
    "    # import model selection\n",
    "    from sklearn.model_selection import train_test_split\n",
    "    \n",
    "    # Create train and test sets\n",
    "    Xs_train, Xs_test, ys_train, ys_test = train_test_split(Xs_tfidf, ys, test_size=0.4, random_state=42)\n",
    "\n",
    "    \n",
    "    # import models\n",
    "    from sklearn.ensemble import RandomForestClassifier\n",
    "    from sklearn.naive_bayes import MultinomialNB\n",
    "    from sklearn.linear_model import LogisticRegression\n",
    "    from sklearn.linear_model import SGDClassifier\n",
    "    from sklearn.svm import LinearSVC\n",
    "    from sklearn.neighbors import KNeighborsClassifier\n",
    "\n",
    "    # import model selection\n",
    "    from sklearn.model_selection import cross_val_score\n",
    "\n",
    "    # create models object\n",
    "    models = [\n",
    "        RandomForestClassifier(max_depth=25, random_state=42),\n",
    "        MultinomialNB(),\n",
    "        LogisticRegression(random_state=42),\n",
    "        SGDClassifier(),\n",
    "        LinearSVC(),\n",
    "        KNeighborsClassifier(),\n",
    "    ]\n",
    "    \n",
    "    # create dataframe, list for data catch\n",
    "    cv_df = pd.DataFrame(index=range(CV * len(models)))\n",
    "    entries = []\n",
    "\n",
    "    # name dict\n",
    "    name_dict = {\n",
    "        'RandomForestClassifier':'RFC',\n",
    "        'LinearSVC': 'LSVC',\n",
    "        'MultinomialNB':'MNBayes',\n",
    "        'LogisticRegression':'Logreg',\n",
    "        'SGDClassifier':'SGDC',\n",
    "        'KNeighborsClassifier':'KNNc',\n",
    "    }\n",
    "    \n",
    "    # loop models\n",
    "    for model in models:\n",
    "        model_name = name_dict[model.__class__.__name__]\n",
    "        #model_name = model.__class__.__name__\n",
    "        accuracies = cross_val_score(model, Xs_train, ys_train, scoring='accuracy', cv=CV, n_jobs=-1)\n",
    "        for fold_idx, accuracy in enumerate(accuracies):\n",
    "            entries.append((model_name, fold_idx, accuracy))\n",
    "    cv_df = pd.DataFrame(entries, columns=['model_name', 'fold_idx', 'accuracy'])\n",
    "\n",
    "    # import seaborn\n",
    "    import seaborn as sns\n",
    "    # visual formatting\n",
    "    sns.set(style='white')\n",
    "    import matplotlib.pyplot as plt\n",
    "    # figure size\n",
    "    from matplotlib.pyplot import figure\n",
    "    figure(figsize=(6, 4), facecolor='w', edgecolor='k')\n",
    "\n",
    "    # create seaborn plot\n",
    "    # sns.boxplot(x='model_name', y='accuracy', data=cv_df)\n",
    "    sns.boxplot(x='model_name', y='accuracy', data=cv_df)\n",
    "    sns.stripplot(x='model_name', y='accuracy', data=cv_df, \n",
    "                  size=8, jitter=True, edgecolor=\"gray\", linewidth=2)\n",
    "    \n",
    "    plt.title('n_samples: {}'.format(n_samples))\n",
    "    plt.grid(axis='y', which='both')\n",
    "    plt.xlabel('Classifiers')\n",
    "    plt.show()"
   ]
  },
  {
   "cell_type": "code",
   "execution_count": 10,
   "metadata": {},
   "outputs": [
    {
     "data": {
      "image/png": "[encoded data removed]",
      "text/plain": [
       "<Figure size 432x288 with 1 Axes>"
      ]
     },
     "metadata": {},
     "output_type": "display_data"
    },
    {
     "name": "stdout",
     "output_type": "stream",
     "text": [
      "Wall time: 16.5 s\n"
     ]
    }
   ],
   "source": [
    "%%time\n",
    "# Evaluating Classifiers\n",
    "plot_multi(full_X, full_y, n_samples=15000)"
   ]
  },
  {
   "cell_type": "markdown",
   "metadata": {},
   "source": [
    "## Variance across sample count"
   ]
  },
  {
   "cell_type": "code",
   "execution_count": 11,
   "metadata": {},
   "outputs": [],
   "source": [
    "def plot_few(X, y, n_samples=1000, CV=5):\n",
    "    \n",
    "    # import numpy\n",
    "    import numpy as np\n",
    "    \n",
    "    # random choice collect index\n",
    "    sample_idx = np.random.choice(np.arange(len(X)), size=n_samples, replace=True)\n",
    "\n",
    "    # create sample subsets\n",
    "    Xs = X[sample_idx]\n",
    "    ys = y[sample_idx]\n",
    "  \n",
    "    # import tfidfvectorizer\n",
    "    from sklearn.feature_extraction.text import TfidfVectorizer\n",
    "    t_vect = TfidfVectorizer()\n",
    "    \n",
    "    # transform data\n",
    "    Xs_tfidf = t_vect.fit_transform(Xs)\n",
    "\n",
    "    \n",
    "    # import model selection\n",
    "    from sklearn.model_selection import train_test_split\n",
    "    \n",
    "    # Create train and test sets\n",
    "    Xs_train, Xs_test, ys_train, ys_test = train_test_split(Xs_tfidf, ys, test_size=0.4, random_state=42)\n",
    "\n",
    "    # import models\n",
    "    from sklearn.linear_model import LogisticRegression\n",
    "    from sklearn.linear_model import SGDClassifier\n",
    "    from sklearn.svm import LinearSVC\n",
    "\n",
    "    # import model selection\n",
    "    from sklearn.model_selection import cross_val_score\n",
    "\n",
    "    # create models object\n",
    "    models = [\n",
    "        LogisticRegression(random_state=42),\n",
    "        SGDClassifier(),\n",
    "        LinearSVC(),\n",
    "    ]\n",
    "    \n",
    "    # create dataframe, list for data catch\n",
    "    cv_df = pd.DataFrame(index=range(CV * len(models)))\n",
    "    entries = []\n",
    "\n",
    "    # name dict\n",
    "    name_dict = {\n",
    "        'RandomForestClassifier':'RFC',\n",
    "        'LinearSVC': 'LSVC',\n",
    "        'MultinomialNB':'MNBayes',\n",
    "        'LogisticRegression':'Logreg',\n",
    "        'SGDClassifier':'SGDC',\n",
    "        'KNeighborsClassifier':'KNNc',\n",
    "    }\n",
    "    \n",
    "    # loop models\n",
    "    for model in models:\n",
    "        model_name = name_dict[model.__class__.__name__]\n",
    "        #model_name = model.__class__.__name__\n",
    "        accuracies = cross_val_score(model, Xs_train, ys_train, scoring='accuracy', cv=CV, n_jobs=-1)\n",
    "        for fold_idx, accuracy in enumerate(accuracies):\n",
    "            entries.append((model_name, fold_idx, accuracy))\n",
    "    cv_df = pd.DataFrame(entries, columns=['model_name', 'fold_idx', 'accuracy'])\n",
    "\n",
    "    # import seaborn\n",
    "    import seaborn as sns\n",
    "    # visual formatting\n",
    "    sns.set(style='white')\n",
    "    import matplotlib.pyplot as plt\n",
    "    # figure size\n",
    "    from matplotlib.pyplot import figure\n",
    "    figure(figsize=(4, 4), facecolor='w', edgecolor='k')\n",
    "\n",
    "    # create seaborn plot\n",
    "    # sns.boxplot(x='model_name', y='accuracy', data=cv_df)\n",
    "    sns.boxplot(x='model_name', y='accuracy', data=cv_df)\n",
    "    sns.stripplot(x='model_name', y='accuracy', data=cv_df, \n",
    "                  size=8, jitter=True, edgecolor=\"gray\", linewidth=2)\n",
    "    \n",
    "    plt.title('n_samples: {}'.format(n_samples))\n",
    "    plt.grid(axis='y', which='both')\n",
    "    plt.xlabel('Classifiers')\n",
    "    plt.show()"
   ]
  },
  {
   "cell_type": "code",
   "execution_count": 12,
   "metadata": {},
   "outputs": [
    {
     "name": "stdout",
     "output_type": "stream",
     "text": [
      "[ 60000  90000 120000 150000 180000]\n"
     ]
    },
    {
     "data": {
      "image/png": "[encoded data removed]",
      "text/plain": [
       "<Figure size 288x288 with 1 Axes>"
      ]
     },
     "metadata": {},
     "output_type": "display_data"
    },
    {
     "data": {
      "image/png": "[encoded data removed]",
      "text/plain": [
       "<Figure size 288x288 with 1 Axes>"
      ]
     },
     "metadata": {},
     "output_type": "display_data"
    },
    {
     "data": {
      "image/png": "[encoded data removed]",
      "text/plain": [
       "<Figure size 288x288 with 1 Axes>"
      ]
     },
     "metadata": {},
     "output_type": "display_data"
    },
    {
     "data": {
      "image/png": "[encoded data removed]",
      "text/plain": [
       "<Figure size 288x288 with 1 Axes>"
      ]
     },
     "metadata": {},
     "output_type": "display_data"
    },
    {
     "data": {
      "image/png": "[encoded data removed]",
      "text/plain": [
       "<Figure size 288x288 with 1 Axes>"
      ]
     },
     "metadata": {},
     "output_type": "display_data"
    },
    {
     "name": "stdout",
     "output_type": "stream",
     "text": [
      "Wall time: 2min 56s\n"
     ]
    }
   ],
   "source": [
    "%%time\n",
    "\n",
    "# numpy\n",
    "import numpy as np\n",
    "\n",
    "# review model variation relative to sample input\n",
    "sample_nums = np.arange(60000, 180001, 30000)\n",
    "print(sample_nums)\n",
    "\n",
    "# run charts\n",
    "for ct in sample_nums:\n",
    "    plot_few(full_X, full_y, n_samples=ct, CV=5)"
   ]
  },
  {
   "cell_type": "markdown",
   "metadata": {},
   "source": [
    "> Stochastic Gradient Descent Classifier (SGDC) should have zero mean and unit variance for best performance. For now, we'll stay with Linear SVC."
   ]
  },
  {
   "cell_type": "markdown",
   "metadata": {},
   "source": [
    "## Linear support vector classification (LSVC): GridSearchCV"
   ]
  },
  {
   "cell_type": "code",
   "execution_count": 13,
   "metadata": {},
   "outputs": [
    {
     "name": "stdout",
     "output_type": "stream",
     "text": [
      "Wall time: 0 ns\n"
     ]
    }
   ],
   "source": [
    "%%time\n",
    "def lsvc_gridsearchcv(X, y, cv_n=10, test_size=0.4, random_state=42):\n",
    "    \"\"\"\"\"\"\n",
    "    # import feature extraction\n",
    "    from sklearn.feature_extraction.text import TfidfVectorizer\n",
    "\n",
    "    # import model\n",
    "    from sklearn.svm import LinearSVC\n",
    "    \n",
    "    # pipeline steps\n",
    "    steps = [\n",
    "        ('vect', TfidfVectorizer()),\n",
    "        ('lsvc', LinearSVC())\n",
    "    ]\n",
    "    \n",
    "    # import pipeline, create object\n",
    "    from sklearn.pipeline import Pipeline\n",
    "    pipeline = Pipeline(steps)\n",
    "    \n",
    "    # create stopwords list\n",
    "    from nltk.corpus import stopwords\n",
    "    stop_words = set(stopwords.words('english'))\n",
    "    \n",
    "    parameters = {\n",
    "        'lsvc__C':[0.1, 1, 10, 100],\n",
    "        'lsvc__max_iter':[10000],\n",
    "    }\n",
    "    \n",
    "    # import model selection\n",
    "    from sklearn.model_selection import train_test_split\n",
    "    from sklearn.model_selection import GridSearchCV\n",
    "    \n",
    "    # Create train and test sets\n",
    "    X_train, X_test, y_train, y_test = train_test_split(X, y, test_size=test_size, random_state=random_state)\n",
    "    \n",
    "    # grid search object\n",
    "    lsvc_cv = GridSearchCV(pipeline, param_grid=parameters, cv=cv_n, n_jobs=-1)\n",
    "    \n",
    "    # fit model on training set\n",
    "    lsvc_cv.fit(X_train, y_train)\n",
    "    \n",
    "    # predict test labels\n",
    "    y_pred = lsvc_cv.predict(X_test)\n",
    "    \n",
    "    # import metrics\n",
    "    from sklearn.metrics import confusion_matrix\n",
    "    from sklearn.metrics import classification_report\n",
    "    \n",
    "    \n",
    "    # generate confusion matrix, classification report\n",
    "    #print(confusion_matrix(y_test, y_pred))\n",
    "    #print(classification_report(y_test, y_pred))\n",
    "\n",
    "    # print params\n",
    "    print('Tuned LSVC Parameters: {}'.format(lsvc_cv.best_params_))\n",
    "    print('Tuned LSVC Accuracy: {}'.format(lsvc_cv.best_score_))\n",
    "    \n",
    "    return lsvc_cv.cv_results_"
   ]
  },
  {
   "cell_type": "code",
   "execution_count": 15,
   "metadata": {},
   "outputs": [
    {
     "name": "stdout",
     "output_type": "stream",
     "text": [
      "[[36077  5397]\n",
      " [ 9553 22103]]\n",
      "              precision    recall  f1-score   support\n",
      "\n",
      "           0       0.79      0.87      0.83     41474\n",
      "           1       0.80      0.70      0.75     31656\n",
      "\n",
      "    accuracy                           0.80     73130\n",
      "   macro avg       0.80      0.78      0.79     73130\n",
      "weighted avg       0.80      0.80      0.79     73130\n",
      "\n",
      "Tuned LSVC Parameters: {'lsvc__C': 0.1, 'lsvc__max_iter': 10000}\n",
      "Tuned LSVC Accuracy: 0.7955839997579987\n"
     ]
    },
    {
     "data": {
      "text/plain": [
       "{'mean_fit_time': array([ 36.24109931,  45.51897216, 113.64169328, 721.74384456]),\n",
       " 'std_fit_time': array([ 2.14801741,  2.24963535,  2.68046568, 27.54031463]),\n",
       " 'mean_score_time': array([4.71925492, 5.54563828, 5.96763194, 2.53796914]),\n",
       " 'std_score_time': array([0.39847542, 3.72937184, 1.29140596, 0.36920674]),\n",
       " 'param_lsvc__C': masked_array(data=[0.1, 1, 10, 100],\n",
       "              mask=[False, False, False, False],\n",
       "        fill_value='?',\n",
       "             dtype=object),\n",
       " 'param_lsvc__max_iter': masked_array(data=[10000, 10000, 10000, 10000],\n",
       "              mask=[False, False, False, False],\n",
       "        fill_value='?',\n",
       "             dtype=object),\n",
       " 'params': [{'lsvc__C': 0.1, 'lsvc__max_iter': 10000},\n",
       "  {'lsvc__C': 1, 'lsvc__max_iter': 10000},\n",
       "  {'lsvc__C': 10, 'lsvc__max_iter': 10000},\n",
       "  {'lsvc__C': 100, 'lsvc__max_iter': 10000}],\n",
       " 'split0_test_score': array([0.79753874, 0.79407475, 0.77484047, 0.74412033]),\n",
       " 'split1_test_score': array([0.80191431, 0.79872379, 0.77529626, 0.74621696]),\n",
       " 'split2_test_score': array([0.79161349, 0.79124886, 0.77164995, 0.74402917]),\n",
       " 'split3_test_score': array([0.79551463, 0.79578813, 0.77317896, 0.74045036]),\n",
       " 'split4_test_score': array([0.79186799, 0.78958884, 0.76597684, 0.7400857 ]),\n",
       " 'split5_test_score': array([0.79451181, 0.79624396, 0.77117331, 0.74172668]),\n",
       " 'split6_test_score': array([0.79706445, 0.79341781, 0.77099097, 0.74108852]),\n",
       " 'split7_test_score': array([0.7953323 , 0.7950588 , 0.76780016, 0.74309417]),\n",
       " 'split8_test_score': array([0.79496764, 0.79314432, 0.76807366, 0.74017686]),\n",
       " 'split9_test_score': array([0.79551463, 0.79323548, 0.77509345, 0.74674082]),\n",
       " 'mean_test_score': array([0.795584  , 0.79405247, 0.7714074 , 0.74277296]),\n",
       " 'std_test_score': array([0.0027796 , 0.00245619, 0.00312312, 0.00233215]),\n",
       " 'rank_test_score': array([1, 2, 3, 4])}"
      ]
     },
     "execution_count": 15,
     "metadata": {},
     "output_type": "execute_result"
    }
   ],
   "source": [
    "%%time\n",
    "lsvc_gridsearchcv(full_X, full_y)"
   ]
  },
  {
   "cell_type": "markdown",
   "metadata": {},
   "source": [
    "## Linear SVC, Run best parameters"
   ]
  },
  {
   "cell_type": "code",
   "execution_count": 18,
   "metadata": {},
   "outputs": [
    {
     "name": "stdout",
     "output_type": "stream",
     "text": [
      "[[4950  666]\n",
      " [1708 2676]]\n",
      "              precision    recall  f1-score   support\n",
      "\n",
      "           0       0.74      0.88      0.81      5616\n",
      "           1       0.80      0.61      0.69      4384\n",
      "\n",
      "    accuracy                           0.76     10000\n",
      "   macro avg       0.77      0.75      0.75     10000\n",
      "weighted avg       0.77      0.76      0.76     10000\n",
      "\n",
      "Wall time: 5.17 s\n"
     ]
    }
   ],
   "source": [
    "%%time\n",
    "\n",
    "# get smaller sample\n",
    "Xs, ys = get_sample(25000)\n",
    "\n",
    "# import feature extraction\n",
    "from sklearn.feature_extraction.text import TfidfVectorizer\n",
    "\n",
    "# import model\n",
    "from sklearn.svm import LinearSVC\n",
    "\n",
    "t_vect = TfidfVectorizer()\n",
    "\n",
    "X_t = t_vect.fit_transform(Xs)\n",
    "\n",
    "lsvc = LinearSVC(C=0.1, max_iter=10000)\n",
    "\n",
    "# import model selection\n",
    "from sklearn.model_selection import train_test_split\n",
    "\n",
    "# Create train and test sets\n",
    "X_train, X_test, y_train, y_test = train_test_split(X_t, ys, test_size=0.4, random_state=42)\n",
    "\n",
    "# fit model on training set\n",
    "lsvc.fit(X_train, y_train)\n",
    "\n",
    "# predict test labels\n",
    "y_pred = lsvc.predict(X_test)\n",
    "\n",
    "# import metrics\n",
    "from sklearn.metrics import confusion_matrix\n",
    "from sklearn.metrics import classification_report\n",
    "\n",
    "# generate confusion matrix, classification report\n",
    "print(confusion_matrix(y_test, y_pred))\n",
    "print(classification_report(y_test, y_pred))"
   ]
  },
  {
   "cell_type": "markdown",
   "metadata": {},
   "source": [
    "## Review features"
   ]
  },
  {
   "cell_type": "code",
   "execution_count": 21,
   "metadata": {},
   "outputs": [
    {
     "name": "stdout",
     "output_type": "stream",
     "text": [
      "Most Informative Features\n",
      "(coef score, % of df has feature, feature string)\n",
      "\n",
      "2.351 kay, -1.704 chris\n",
      "1.801 sara, -1.324 vince\n",
      "1.755 sally, -1.234 mark\n",
      "1.589 kate, -1.188 jim\n",
      "1.574 susan, -1.086 kevin\n",
      "1.488 carol, -1.069 phillip\n",
      "1.414 mann, -1.058 pl\n",
      "1.348 tana, -1.031 jeff\n",
      "1.282 michelle, -1.015 richard\n",
      "1.248 kim, -1.003 mike\n",
      "1.182 corp, -0.999 sander\n",
      "1.170 lynn, -0.913 eric\n",
      "1.159 marie, -0.879 germany\n",
      "1.121 stephanie, -0.848 rick\n",
      "1.104 mary, -0.793 dave\n",
      "1.099 stacey, -0.783 john\n",
      "1.051 sheila, -0.781 subject\n",
      "1.043 df, -0.776 best\n",
      "1.036 jones, -0.750 dan\n",
      "0.989 elizabeth, -0.744 paul\n",
      "0.970 stacy, -0.720 robin\n",
      "0.959 debra, -0.714 kaminski\n",
      "0.952 shelley, -0.701 james\n",
      "0.945 eb, -0.696 nemec\n",
      "0.939 theresa, -0.692 some\n",
      "0.938 kitchen, -0.684 million\n",
      "0.938 tracy, -0.682 bass\n",
      "0.920 lisa, -0.681 darron\n",
      "0.917 monika, -0.678 giron\n",
      "0.890 beck, -0.671 bill\n"
     ]
    }
   ],
   "source": [
    "# return features by coefs\n",
    "def show_most_informative_features(vectorizer, clf, n=30):\n",
    "    feature_names = vectorizer.get_feature_names()\n",
    "    coefs_with_fns = sorted(zip(clf.coef_[0], feature_names), reverse=True)\n",
    "    top = zip(coefs_with_fns[:n], coefs_with_fns[:-(n + 1):-1])\n",
    "    print('Most Informative Features\\n(coef score, % of df has feature, feature string)\\n')\n",
    "    for (coef_1, fn_1), (coef_2, fn_2) in top:\n",
    "        print('{:.3f} {}, {:.3f} {}'.format(coef_1, fn_1, coef_2, fn_2))\n",
    "\n",
    "show_most_informative_features(t_vect, lsvc)"
   ]
  },
  {
   "cell_type": "markdown",
   "metadata": {},
   "source": [
    "## Logistic regression (logreg): GridSearchCV\n",
    "- Logistic Regression (aka logit, MaxEnt) classifier"
   ]
  },
  {
   "cell_type": "code",
   "execution_count": null,
   "metadata": {},
   "outputs": [],
   "source": [
    "%%time\n",
    "def logreg_gridsearchcv(X, y, cv_n=10, test_size=0.4, random_state=42):\n",
    "    \"\"\"\"\"\"\n",
    "    # import feature extraction\n",
    "    from sklearn.feature_extraction.text import CountVectorizer\n",
    "    from sklearn.feature_extraction.text import TfidfTransformer\n",
    "\n",
    "    # import model\n",
    "    from sklearn.linear_model import LogisticRegression\n",
    "\n",
    "    # import pipeline\n",
    "    from sklearn.pipeline import Pipeline\n",
    "\n",
    "    # import model selection\n",
    "    from sklearn.model_selection import train_test_split\n",
    "    from sklearn.model_selection import GridSearchCV\n",
    "\n",
    "    # import metrics\n",
    "    from sklearn.metrics import confusion_matrix\n",
    "    from sklearn.metrics import classification_report\n",
    "\n",
    "    \n",
    "    # set steps for pipeline\n",
    "    steps = [\n",
    "        ('vect', CountVectorizer()),\n",
    "        ('tfidf', TfidfTransformer()),\n",
    "        ('logreg', LogisticRegression()),\n",
    "    ]\n",
    "\n",
    "    # create pipeline object\n",
    "    pipeline = Pipeline(steps)\n",
    "    \n",
    "    # Create the hyperparameter grid\n",
    "    c_space = np.logspace(-5, 8, 15)\n",
    "    parameters = {\n",
    "        'logreg__C': c_space, \n",
    "        'logreg__solver': ['saga'],\n",
    "        'logreg__max_iter':[500],\n",
    "    }\n",
    "\n",
    "    # Create train and test sets\n",
    "    X_train, X_test, y_train, y_test = train_test_split(X, y, test_size=test_size, random_state=random_state)\n",
    "\n",
    "    # Instantiate GridSearchCV\n",
    "    logreg_cv = GridSearchCV(pipeline, param_grid=parameters, cv=cv_n, n_jobs=-1)\n",
    "\n",
    "    # fit model to data\n",
    "    logreg_cv.fit(X_train, y_train)\n",
    "\n",
    "    # predict test labels\n",
    "    y_pred = logreg_cv.predict(X_test)\n",
    "\n",
    "    # generate confusion matrix, classification report\n",
    "    print(confusion_matrix(y_test, y_pred))\n",
    "    print(classification_report(y_test, y_pred))\n",
    "\n",
    "    # print params\n",
    "    print('Tuned Logreg Parameters: {}'.format(logreg_cv.best_params_))\n",
    "    print('Tuned Logreg Accuracy: {}'.format(logreg_cv.best_score_))\n",
    "\n",
    "logreg_gridsearchcv(full_X, full_y)"
   ]
  },
  {
   "cell_type": "markdown",
   "metadata": {},
   "source": [
    "## Logreg, run optimized parameters"
   ]
  },
  {
   "cell_type": "code",
   "execution_count": null,
   "metadata": {},
   "outputs": [],
   "source": [
    "%%time\n",
    "\n",
    "# import feature extraction\n",
    "from sklearn.feature_extraction.text import CountVectorizer\n",
    "from sklearn.feature_extraction.text import TfidfTransformer\n",
    "\n",
    "# import model\n",
    "from sklearn.linear_model import LogisticRegression\n",
    "\n",
    "# import pipeline\n",
    "from sklearn.pipeline import Pipeline\n",
    "\n",
    "# import model selection\n",
    "from sklearn.model_selection import train_test_split\n",
    "from sklearn.model_selection import GridSearchCV\n",
    "\n",
    "# import metrics\n",
    "from sklearn.metrics import confusion_matrix\n",
    "from sklearn.metrics import classification_report\n",
    "\n",
    "\n",
    "# set steps for pipeline\n",
    "steps = [\n",
    "    ('vect', CountVectorizer()),\n",
    "    ('tfidf', TfidfTransformer()),\n",
    "    ('logreg', LogisticRegression()),\n",
    "]\n",
    "\n",
    "# create pipeline object\n",
    "pipeline = Pipeline(steps)\n",
    "\n",
    "# Create the hyperparameter grid\n",
    "c_space = np.logspace(-5, 8, 15)\n",
    "parameters = {\n",
    "    'logreg__C': c_space, \n",
    "    'logreg__solver': ['saga'],\n",
    "    'logreg__max_iter':[500],\n",
    "}\n",
    "\n",
    "# Create train and test sets\n",
    "X_train, X_test, y_train, y_test = train_test_split(X, y, test_size=test_size, random_state=random_state)\n",
    "\n",
    "# Instantiate GridSearchCV\n",
    "logreg_cv = GridSearchCV(pipeline, param_grid=parameters, cv=cv_n, n_jobs=-1)\n",
    "\n",
    "# fit model to data\n",
    "logreg_cv.fit(X_train, y_train)\n",
    "\n",
    "# predict test labels\n",
    "y_pred = logreg_cv.predict(X_test)\n",
    "\n",
    "# generate confusion matrix, classification report\n",
    "print(confusion_matrix(y_test, y_pred))\n",
    "print(classification_report(y_test, y_pred))"
   ]
  },
  {
   "cell_type": "markdown",
   "metadata": {},
   "source": [
    "## Feature Selection [needs section]"
   ]
  },
  {
   "cell_type": "markdown",
   "metadata": {},
   "source": [
    "## Ending Stats"
   ]
  },
  {
   "cell_type": "code",
   "execution_count": null,
   "metadata": {},
   "outputs": [],
   "source": [
    "# execution time\n",
    "print(\"--- {:1.2f} seconds ---\".format(time.time() - start_time))"
   ]
  },
  {
   "cell_type": "code",
   "execution_count": null,
   "metadata": {},
   "outputs": [],
   "source": [
    "stop here"
   ]
  }
 ],
 "metadata": {
  "kernelspec": {
   "display_name": "Python 3",
   "language": "python",
   "name": "python3"
  },
  "language_info": {
   "codemirror_mode": {
    "name": "ipython",
    "version": 3
   },
   "file_extension": ".py",
   "mimetype": "text/x-python",
   "name": "python",
   "nbconvert_exporter": "python",
   "pygments_lexer": "ipython3",
   "version": "3.7.7"
  }
 },
 "nbformat": 4,
 "nbformat_minor": 4
}
