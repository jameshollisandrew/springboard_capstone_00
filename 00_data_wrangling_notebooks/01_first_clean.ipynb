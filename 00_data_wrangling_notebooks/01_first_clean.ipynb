{
 "cells": [
  {
   "cell_type": "markdown",
   "metadata": {},
   "source": [
    "# First Clean"
   ]
  },
  {
   "cell_type": "code",
   "execution_count": 1,
   "metadata": {},
   "outputs": [],
   "source": [
    "# time routine\n",
    "import time\n",
    "start_time = time.time()\n",
    "\n",
    "# import library\n",
    "import pandas as pd\n",
    "import re"
   ]
  },
  {
   "cell_type": "code",
   "execution_count": 2,
   "metadata": {},
   "outputs": [],
   "source": [
    "#\n",
    "#\n",
    "# custom functions\n",
    "#\n",
    "# email reader\n",
    "def read_email(email_path):\n",
    "    \"\"\"returns email body as a body of text\"\"\"\n",
    "    \n",
    "    # file manager opens email file, assigns it to variable\n",
    "    with open(email_path) as email_file:\n",
    "        email_body = email_file.read()\n",
    "    \n",
    "    # returns email body as text\n",
    "    return email_body"
   ]
  },
  {
   "cell_type": "code",
   "execution_count": 3,
   "metadata": {},
   "outputs": [
    {
     "name": "stdout",
     "output_type": "stream",
     "text": [
      "Wall time: 12.3 s\n"
     ]
    }
   ],
   "source": [
    "%%time\n",
    "# import working df\n",
    "df = pd.read_csv('./data/00_original_wrangle.csv', header=0, index_col=False)"
   ]
  },
  {
   "cell_type": "markdown",
   "metadata": {},
   "source": [
    "### Change Datatype to Allow String Method"
   ]
  },
  {
   "cell_type": "code",
   "execution_count": 4,
   "metadata": {},
   "outputs": [],
   "source": [
    "# fill na with '' possibly here\n",
    "\n",
    "# convert mime_vers to dtype object to run string methods\n",
    "df.mime_vers = df.mime_vers.astype('str')"
   ]
  },
  {
   "cell_type": "code",
   "execution_count": 5,
   "metadata": {},
   "outputs": [
    {
     "name": "stdout",
     "output_type": "stream",
     "text": [
      "<class 'pandas.core.frame.DataFrame'>\n",
      "RangeIndex: 517401 entries, 0 to 517400\n",
      "Data columns (total 19 columns):\n",
      "f_dir        517401 non-null object\n",
      "m_id         517401 non-null object\n",
      "m_date       517401 non-null object\n",
      "m_from       517401 non-null object\n",
      "m_to         496355 non-null object\n",
      "m_cc         135166 non-null object\n",
      "m_bcc        127886 non-null object\n",
      "m_subj       498214 non-null object\n",
      "mime_vers    517401 non-null object\n",
      "cont_type    517401 non-null object\n",
      "encode       517401 non-null object\n",
      "x_from       517401 non-null object\n",
      "x_to         508255 non-null object\n",
      "x_cc         128886 non-null object\n",
      "x_bcc        175 non-null object\n",
      "x_fold       517401 non-null object\n",
      "x_orig       517401 non-null object\n",
      "x_fname      517401 non-null object\n",
      "m_body       517401 non-null object\n",
      "dtypes: object(19)\n",
      "memory usage: 75.0+ MB\n"
     ]
    }
   ],
   "source": [
    "df.info()"
   ]
  },
  {
   "cell_type": "code",
   "execution_count": 6,
   "metadata": {},
   "outputs": [
    {
     "name": "stdout",
     "output_type": "stream",
     "text": [
      "Total Characters Across All Email Bodies in Corpus: 954786906.\n"
     ]
    }
   ],
   "source": [
    "# total email body chars (for process tracking)\n",
    "start_chars = df.m_body.apply(len).sum()\n",
    "\n",
    "print('Total Characters Across All Email Bodies in Corpus: {}.'.format(start_chars))"
   ]
  },
  {
   "cell_type": "markdown",
   "metadata": {},
   "source": [
    "## Start Cleaning"
   ]
  },
  {
   "cell_type": "markdown",
   "metadata": {},
   "source": [
    "### Remove Whitespace"
   ]
  },
  {
   "cell_type": "code",
   "execution_count": 7,
   "metadata": {},
   "outputs": [],
   "source": [
    "# PRESENTATION\n",
    "# clean leading/trailing whitespace\n",
    "df = df.apply(lambda x: x.str.lstrip().str.rstrip())"
   ]
  },
  {
   "cell_type": "markdown",
   "metadata": {},
   "source": [
    "### Remove Redundant Chars in f_dir"
   ]
  },
  {
   "cell_type": "code",
   "execution_count": 8,
   "metadata": {},
   "outputs": [],
   "source": [
    "# PRESENTATION\n",
    "# remove redundant string from f_dir\n",
    "df.f_dir = df.f_dir.str.replace('./data/maildir/','')"
   ]
  },
  {
   "cell_type": "markdown",
   "metadata": {},
   "source": [
    "### Remove Duplicates on Email Body"
   ]
  },
  {
   "cell_type": "code",
   "execution_count": 9,
   "metadata": {},
   "outputs": [
    {
     "name": "stdout",
     "output_type": "stream",
     "text": [
      "Email Body Duplicates: 269530\n"
     ]
    }
   ],
   "source": [
    "# PRESENTATION\n",
    "# returns rows where the email body is duplicated\n",
    "x = len(df[df.m_body.duplicated()])\n",
    "\n",
    "# Drop duplicates based on body text\n",
    "df = df.drop_duplicates(subset = 'm_body')\n",
    "\n",
    "# print count\n",
    "print('Email Body Duplicates: {}'.format(x))"
   ]
  },
  {
   "cell_type": "markdown",
   "metadata": {},
   "source": [
    "### Remove non-Enron Email Addresses on m_from"
   ]
  },
  {
   "cell_type": "code",
   "execution_count": 10,
   "metadata": {},
   "outputs": [
    {
     "name": "stdout",
     "output_type": "stream",
     "text": [
      "Emails Returned  in '@enron.com': 191433\n"
     ]
    }
   ],
   "source": [
    "# PRESENTATION\n",
    "# Select only @enron email address\n",
    "only_enron = df.m_from.str.endswith('@enron.com')\n",
    "\n",
    "# Filter df\n",
    "df = df[only_enron]\n",
    "\n",
    "# print count\n",
    "print('Emails Returned  in \\'@enron.com\\': {}'.format(len(df)))"
   ]
  },
  {
   "cell_type": "markdown",
   "metadata": {},
   "source": [
    "### Strip Email Body From RE: FW: on m_subj, m_body"
   ]
  },
  {
   "cell_type": "code",
   "execution_count": 11,
   "metadata": {},
   "outputs": [],
   "source": [
    "# replace null values with blank for array\n",
    "df.loc[df['m_subj'].isnull(), 'm_subj'] = ''"
   ]
  },
  {
   "cell_type": "code",
   "execution_count": 12,
   "metadata": {},
   "outputs": [],
   "source": [
    "def split_by_orig_forw(text):\n",
    "    \n",
    "    try: \n",
    "        text = text.split('-----Original Message-----')[0]\n",
    "    except:\n",
    "        pass\n",
    "    \n",
    "    try: \n",
    "        text = text.split('----- Forwarded by')[0]\n",
    "    except:\n",
    "        pass\n",
    "\n",
    "    return text"
   ]
  },
  {
   "cell_type": "code",
   "execution_count": 13,
   "metadata": {},
   "outputs": [
    {
     "data": {
      "text/plain": [
       "'CATCH THIS\\n'"
      ]
     },
     "execution_count": 13,
     "metadata": {},
     "output_type": "execute_result"
    }
   ],
   "source": [
    "s = \"\"\"CATCH THIS\n",
    "-----Original Message-----\n",
    "From: \tEd Pierangelino <ed@apbenergy.com>@ENRON [mailto:IMCEANOTES-Ed+20Pierangelino+20+3Ced+40apbenergy+2Ecom+3E+40ENRON@ENRON.com] \n",
    "Sent:\tTuesday, May 08, 2001 7:24 AM\n",
    "To:\tSwerzbin, Mike\n",
    "Subject:\tFW:\n",
    "\n",
    "watch your back on this one....03/04 np combo was 52.50/58 ees on the offer\n",
    "yesterday...let me know if you want to look at it  cal 03 pv 59/65.\n",
    "\n",
    "ed\n",
    "\n",
    "----------\n",
    "From: \tJoe Hale\n",
    "Sent: \tTuesday, May 08, 2001 10:18 AM\n",
    "To: \tEd Pierangelino\n",
    "\n",
    "\n",
    "\n",
    " - twin spires.JPG\n",
    "\"\"\"\n",
    "split_by_orig_forw(s)"
   ]
  },
  {
   "cell_type": "code",
   "execution_count": 14,
   "metadata": {},
   "outputs": [
    {
     "data": {
      "text/plain": [
       "'CATCH THIS TOO\\n'"
      ]
     },
     "execution_count": 14,
     "metadata": {},
     "output_type": "execute_result"
    }
   ],
   "source": [
    "s = \"\"\"CATCH THIS TOO\n",
    "----- Forwarded by Sara Shackleton/HOU/ECT on 07/27/2000 08:22 AM -----\n",
    "\n",
    "=09Ryan Siurek@ENRON\n",
    "=0907/26/2000 12:22 PM\n",
    "=09=09=20\n",
    "=09=09 To: Sara Shackleton/HOU/ECT@ECT\n",
    "=09=09 cc:=20\n",
    "=09=09 Subject: 00-19\n",
    "\n",
    "fyi\n",
    "---------------------- Forwarded by Ryan Siurek/Corp/Enron on 07/26/2000=20\n",
    "12:22 PM ---------------------------\n",
    "\"\"\"\n",
    "split_by_orig_forw(s)"
   ]
  },
  {
   "cell_type": "code",
   "execution_count": 15,
   "metadata": {},
   "outputs": [
    {
     "name": "stdout",
     "output_type": "stream",
     "text": [
      "Wall time: 540 ms\n"
     ]
    }
   ],
   "source": [
    "%%time\n",
    "\n",
    "# drop 'Original Message' and 'Forwarded By'\n",
    "df.m_body = df.m_body.apply(split_by_orig_forw)"
   ]
  },
  {
   "cell_type": "markdown",
   "metadata": {},
   "source": [
    "### Remove \\n Characters on m_body"
   ]
  },
  {
   "cell_type": "code",
   "execution_count": 16,
   "metadata": {},
   "outputs": [],
   "source": [
    "# replace null values with blank for array\n",
    "df.loc[df['m_body'].isnull(), 'm_body'] = ''"
   ]
  },
  {
   "cell_type": "code",
   "execution_count": 17,
   "metadata": {},
   "outputs": [],
   "source": [
    "def remove_nn_m_body(text):\n",
    "   \n",
    "    try:\n",
    "        text = re.sub('[\\n]', ' ', text)\n",
    "\n",
    "    except:\n",
    "        pass\n",
    "    \n",
    "    return text"
   ]
  },
  {
   "cell_type": "code",
   "execution_count": 18,
   "metadata": {},
   "outputs": [
    {
     "name": "stdout",
     "output_type": "stream",
     "text": [
      "Wall time: 929 ms\n"
     ]
    }
   ],
   "source": [
    "%%time\n",
    "\n",
    "# replace /n with ' '\n",
    "df.m_body = df.m_body.apply(remove_nn_m_body)"
   ]
  },
  {
   "cell_type": "markdown",
   "metadata": {},
   "source": [
    "### Add Number of Emails Sent Per Address"
   ]
  },
  {
   "cell_type": "markdown",
   "metadata": {},
   "source": [
    "    # Count number of emails sent per email address \n",
    "\n",
    "    c = pd.DataFrame(df.groupby(['m_from']).size().sort_values(ascending=False))\n",
    "    c = c.reset_index()\n",
    "    c.columns = ['m_from', 'sent_counts']\n",
    "    c.astype({'sent_counts' : 'int'}).dtypes"
   ]
  },
  {
   "cell_type": "markdown",
   "metadata": {},
   "source": [
    "    # merge sent counts based on m_from email back to DataFrame\n",
    "    df = pd.merge(df, c, how='left', on='m_from')"
   ]
  },
  {
   "cell_type": "code",
   "execution_count": 19,
   "metadata": {},
   "outputs": [
    {
     "name": "stdout",
     "output_type": "stream",
     "text": [
      "<class 'pandas.core.frame.DataFrame'>\n",
      "Int64Index: 191433 entries, 0 to 517400\n",
      "Data columns (total 19 columns):\n",
      "f_dir        191433 non-null object\n",
      "m_id         191433 non-null object\n",
      "m_date       191433 non-null object\n",
      "m_from       191433 non-null object\n",
      "m_to         185443 non-null object\n",
      "m_cc         54587 non-null object\n",
      "m_bcc        51268 non-null object\n",
      "m_subj       191433 non-null object\n",
      "mime_vers    191433 non-null object\n",
      "cont_type    191433 non-null object\n",
      "encode       191433 non-null object\n",
      "x_from       191433 non-null object\n",
      "x_to         186768 non-null object\n",
      "x_cc         51653 non-null object\n",
      "x_bcc        135 non-null object\n",
      "x_fold       191433 non-null object\n",
      "x_orig       191433 non-null object\n",
      "x_fname      191433 non-null object\n",
      "m_body       191433 non-null object\n",
      "dtypes: object(19)\n",
      "memory usage: 29.2+ MB\n"
     ]
    }
   ],
   "source": [
    "df.info()"
   ]
  },
  {
   "cell_type": "markdown",
   "metadata": {},
   "source": [
    "## Drop Duplicates and Equals '' on m_body"
   ]
  },
  {
   "cell_type": "code",
   "execution_count": 20,
   "metadata": {},
   "outputs": [
    {
     "data": {
      "text/plain": [
       "count     191433\n",
       "unique    169286\n",
       "top             \n",
       "freq        9083\n",
       "Name: m_body, dtype: object"
      ]
     },
     "execution_count": 20,
     "metadata": {},
     "output_type": "execute_result"
    }
   ],
   "source": [
    "df.m_body.describe()"
   ]
  },
  {
   "cell_type": "code",
   "execution_count": 21,
   "metadata": {},
   "outputs": [],
   "source": [
    "# drop duplicates\n",
    "df = df.drop_duplicates('m_body')\n",
    "\n",
    "# drop == ''\n",
    "cond = df.m_body == ''\n",
    "df = df[~cond]"
   ]
  },
  {
   "cell_type": "code",
   "execution_count": 22,
   "metadata": {},
   "outputs": [
    {
     "data": {
      "text/plain": [
       "count                                                169285\n",
       "unique                                               169285\n",
       "top       Attached is the new information for the Atlant...\n",
       "freq                                                      1\n",
       "Name: m_body, dtype: object"
      ]
     },
     "execution_count": 22,
     "metadata": {},
     "output_type": "execute_result"
    }
   ],
   "source": [
    "df.m_body.describe()"
   ]
  },
  {
   "cell_type": "markdown",
   "metadata": {},
   "source": [
    "## Export DataFrame"
   ]
  },
  {
   "cell_type": "code",
   "execution_count": 23,
   "metadata": {},
   "outputs": [
    {
     "data": {
      "text/html": [
       "<div>\n",
       "<style scoped>\n",
       "    .dataframe tbody tr th:only-of-type {\n",
       "        vertical-align: middle;\n",
       "    }\n",
       "\n",
       "    .dataframe tbody tr th {\n",
       "        vertical-align: top;\n",
       "    }\n",
       "\n",
       "    .dataframe thead th {\n",
       "        text-align: right;\n",
       "    }\n",
       "</style>\n",
       "<table border=\"1\" class=\"dataframe\">\n",
       "  <thead>\n",
       "    <tr style=\"text-align: right;\">\n",
       "      <th></th>\n",
       "      <th>f_dir</th>\n",
       "      <th>m_id</th>\n",
       "      <th>m_date</th>\n",
       "      <th>m_from</th>\n",
       "      <th>m_to</th>\n",
       "      <th>m_cc</th>\n",
       "      <th>m_bcc</th>\n",
       "      <th>m_subj</th>\n",
       "      <th>mime_vers</th>\n",
       "      <th>cont_type</th>\n",
       "      <th>encode</th>\n",
       "      <th>x_from</th>\n",
       "      <th>x_to</th>\n",
       "      <th>x_cc</th>\n",
       "      <th>x_bcc</th>\n",
       "      <th>x_fold</th>\n",
       "      <th>x_orig</th>\n",
       "      <th>x_fname</th>\n",
       "      <th>m_body</th>\n",
       "    </tr>\n",
       "  </thead>\n",
       "  <tbody>\n",
       "    <tr>\n",
       "      <th>0</th>\n",
       "      <td>allen-p/_sent_mail/1</td>\n",
       "      <td>&lt;18782981.1075855378110.JavaMail.evans@thyme&gt;</td>\n",
       "      <td>Mon, 14 May 2001 16:39:00 -0700 (PDT)</td>\n",
       "      <td>phillip.allen@enron.com</td>\n",
       "      <td>tim.belden@enron.com</td>\n",
       "      <td>NaN</td>\n",
       "      <td>NaN</td>\n",
       "      <td></td>\n",
       "      <td>1.0</td>\n",
       "      <td>text/plain; charset=us-ascii</td>\n",
       "      <td>7bit</td>\n",
       "      <td>Phillip K Allen</td>\n",
       "      <td>Tim Belden &lt;Tim Belden/Enron@EnronXGate&gt;</td>\n",
       "      <td>NaN</td>\n",
       "      <td>NaN</td>\n",
       "      <td>\\Phillip_Allen_Jan2002_1\\Allen, Phillip K.\\'Se...</td>\n",
       "      <td>Allen-P</td>\n",
       "      <td>pallen (Non-Privileged).pst</td>\n",
       "      <td>Here is our forecast</td>\n",
       "    </tr>\n",
       "    <tr>\n",
       "      <th>1</th>\n",
       "      <td>allen-p/_sent_mail/10</td>\n",
       "      <td>&lt;15464986.1075855378456.JavaMail.evans@thyme&gt;</td>\n",
       "      <td>Fri, 4 May 2001 13:51:00 -0700 (PDT)</td>\n",
       "      <td>phillip.allen@enron.com</td>\n",
       "      <td>john.lavorato@enron.com</td>\n",
       "      <td>NaN</td>\n",
       "      <td>NaN</td>\n",
       "      <td>Re:</td>\n",
       "      <td>1.0</td>\n",
       "      <td>text/plain; charset=us-ascii</td>\n",
       "      <td>7bit</td>\n",
       "      <td>Phillip K Allen</td>\n",
       "      <td>John J Lavorato &lt;John J Lavorato/ENRON@enronXg...</td>\n",
       "      <td>NaN</td>\n",
       "      <td>NaN</td>\n",
       "      <td>\\Phillip_Allen_Jan2002_1\\Allen, Phillip K.\\'Se...</td>\n",
       "      <td>Allen-P</td>\n",
       "      <td>pallen (Non-Privileged).pst</td>\n",
       "      <td>Traveling to have a business meeting takes the...</td>\n",
       "    </tr>\n",
       "    <tr>\n",
       "      <th>2</th>\n",
       "      <td>allen-p/_sent_mail/100</td>\n",
       "      <td>&lt;24216240.1075855687451.JavaMail.evans@thyme&gt;</td>\n",
       "      <td>Wed, 18 Oct 2000 03:00:00 -0700 (PDT)</td>\n",
       "      <td>phillip.allen@enron.com</td>\n",
       "      <td>leah.arsdall@enron.com</td>\n",
       "      <td>NaN</td>\n",
       "      <td>NaN</td>\n",
       "      <td>Re: test</td>\n",
       "      <td>1.0</td>\n",
       "      <td>text/plain; charset=us-ascii</td>\n",
       "      <td>7bit</td>\n",
       "      <td>Phillip K Allen</td>\n",
       "      <td>Leah Van Arsdall</td>\n",
       "      <td>NaN</td>\n",
       "      <td>NaN</td>\n",
       "      <td>\\Phillip_Allen_Dec2000\\Notes Folders\\'sent mail</td>\n",
       "      <td>Allen-P</td>\n",
       "      <td>pallen.nsf</td>\n",
       "      <td>test successful.  way to go!!!</td>\n",
       "    </tr>\n",
       "    <tr>\n",
       "      <th>3</th>\n",
       "      <td>allen-p/_sent_mail/1000</td>\n",
       "      <td>&lt;13505866.1075863688222.JavaMail.evans@thyme&gt;</td>\n",
       "      <td>Mon, 23 Oct 2000 06:13:00 -0700 (PDT)</td>\n",
       "      <td>phillip.allen@enron.com</td>\n",
       "      <td>randall.gay@enron.com</td>\n",
       "      <td>NaN</td>\n",
       "      <td>NaN</td>\n",
       "      <td></td>\n",
       "      <td>1.0</td>\n",
       "      <td>text/plain; charset=us-ascii</td>\n",
       "      <td>7bit</td>\n",
       "      <td>Phillip K Allen</td>\n",
       "      <td>Randall L Gay</td>\n",
       "      <td>NaN</td>\n",
       "      <td>NaN</td>\n",
       "      <td>\\Phillip_Allen_Dec2000\\Notes Folders\\'sent mail</td>\n",
       "      <td>Allen-P</td>\n",
       "      <td>pallen.nsf</td>\n",
       "      <td>Randy,   Can you send me a schedule of the sal...</td>\n",
       "    </tr>\n",
       "    <tr>\n",
       "      <th>4</th>\n",
       "      <td>allen-p/_sent_mail/1001</td>\n",
       "      <td>&lt;30922949.1075863688243.JavaMail.evans@thyme&gt;</td>\n",
       "      <td>Thu, 31 Aug 2000 05:07:00 -0700 (PDT)</td>\n",
       "      <td>phillip.allen@enron.com</td>\n",
       "      <td>greg.piper@enron.com</td>\n",
       "      <td>NaN</td>\n",
       "      <td>NaN</td>\n",
       "      <td>Re: Hello</td>\n",
       "      <td>1.0</td>\n",
       "      <td>text/plain; charset=us-ascii</td>\n",
       "      <td>7bit</td>\n",
       "      <td>Phillip K Allen</td>\n",
       "      <td>Greg Piper</td>\n",
       "      <td>NaN</td>\n",
       "      <td>NaN</td>\n",
       "      <td>\\Phillip_Allen_Dec2000\\Notes Folders\\'sent mail</td>\n",
       "      <td>Allen-P</td>\n",
       "      <td>pallen.nsf</td>\n",
       "      <td>Let's shoot for Tuesday at 11:45.</td>\n",
       "    </tr>\n",
       "  </tbody>\n",
       "</table>\n",
       "</div>"
      ],
      "text/plain": [
       "                     f_dir                                           m_id  \\\n",
       "0     allen-p/_sent_mail/1  <18782981.1075855378110.JavaMail.evans@thyme>   \n",
       "1    allen-p/_sent_mail/10  <15464986.1075855378456.JavaMail.evans@thyme>   \n",
       "2   allen-p/_sent_mail/100  <24216240.1075855687451.JavaMail.evans@thyme>   \n",
       "3  allen-p/_sent_mail/1000  <13505866.1075863688222.JavaMail.evans@thyme>   \n",
       "4  allen-p/_sent_mail/1001  <30922949.1075863688243.JavaMail.evans@thyme>   \n",
       "\n",
       "                                  m_date                   m_from  \\\n",
       "0  Mon, 14 May 2001 16:39:00 -0700 (PDT)  phillip.allen@enron.com   \n",
       "1   Fri, 4 May 2001 13:51:00 -0700 (PDT)  phillip.allen@enron.com   \n",
       "2  Wed, 18 Oct 2000 03:00:00 -0700 (PDT)  phillip.allen@enron.com   \n",
       "3  Mon, 23 Oct 2000 06:13:00 -0700 (PDT)  phillip.allen@enron.com   \n",
       "4  Thu, 31 Aug 2000 05:07:00 -0700 (PDT)  phillip.allen@enron.com   \n",
       "\n",
       "                      m_to m_cc m_bcc     m_subj mime_vers  \\\n",
       "0     tim.belden@enron.com  NaN   NaN                  1.0   \n",
       "1  john.lavorato@enron.com  NaN   NaN        Re:       1.0   \n",
       "2   leah.arsdall@enron.com  NaN   NaN   Re: test       1.0   \n",
       "3    randall.gay@enron.com  NaN   NaN                  1.0   \n",
       "4     greg.piper@enron.com  NaN   NaN  Re: Hello       1.0   \n",
       "\n",
       "                      cont_type encode           x_from  \\\n",
       "0  text/plain; charset=us-ascii   7bit  Phillip K Allen   \n",
       "1  text/plain; charset=us-ascii   7bit  Phillip K Allen   \n",
       "2  text/plain; charset=us-ascii   7bit  Phillip K Allen   \n",
       "3  text/plain; charset=us-ascii   7bit  Phillip K Allen   \n",
       "4  text/plain; charset=us-ascii   7bit  Phillip K Allen   \n",
       "\n",
       "                                                x_to x_cc x_bcc  \\\n",
       "0           Tim Belden <Tim Belden/Enron@EnronXGate>  NaN   NaN   \n",
       "1  John J Lavorato <John J Lavorato/ENRON@enronXg...  NaN   NaN   \n",
       "2                                   Leah Van Arsdall  NaN   NaN   \n",
       "3                                      Randall L Gay  NaN   NaN   \n",
       "4                                         Greg Piper  NaN   NaN   \n",
       "\n",
       "                                              x_fold   x_orig  \\\n",
       "0  \\Phillip_Allen_Jan2002_1\\Allen, Phillip K.\\'Se...  Allen-P   \n",
       "1  \\Phillip_Allen_Jan2002_1\\Allen, Phillip K.\\'Se...  Allen-P   \n",
       "2    \\Phillip_Allen_Dec2000\\Notes Folders\\'sent mail  Allen-P   \n",
       "3    \\Phillip_Allen_Dec2000\\Notes Folders\\'sent mail  Allen-P   \n",
       "4    \\Phillip_Allen_Dec2000\\Notes Folders\\'sent mail  Allen-P   \n",
       "\n",
       "                       x_fname  \\\n",
       "0  pallen (Non-Privileged).pst   \n",
       "1  pallen (Non-Privileged).pst   \n",
       "2                   pallen.nsf   \n",
       "3                   pallen.nsf   \n",
       "4                   pallen.nsf   \n",
       "\n",
       "                                              m_body  \n",
       "0                               Here is our forecast  \n",
       "1  Traveling to have a business meeting takes the...  \n",
       "2                     test successful.  way to go!!!  \n",
       "3  Randy,   Can you send me a schedule of the sal...  \n",
       "4                  Let's shoot for Tuesday at 11:45.  "
      ]
     },
     "execution_count": 23,
     "metadata": {},
     "output_type": "execute_result"
    }
   ],
   "source": [
    "#\n",
    "# export DataFrame for later work\n",
    "#\n",
    "\n",
    "#df.to_csv('./data/01_first_clean.csv', index=False, index_label=False)\n",
    "df.head()"
   ]
  },
  {
   "cell_type": "markdown",
   "metadata": {},
   "source": [
    "### Ending Stats"
   ]
  },
  {
   "cell_type": "code",
   "execution_count": 24,
   "metadata": {},
   "outputs": [
    {
     "name": "stdout",
     "output_type": "stream",
     "text": [
      "--- 29.43383526802063 seconds ---\n",
      "135952755 of 954786906 characters removed from corpus for 0.7507145657922492 reduction.\n"
     ]
    }
   ],
   "source": [
    "# execution time\n",
    "print(\"--- %s seconds ---\" % (time.time() - start_time))\n",
    "\n",
    "# total email body chars (for process tracking)\n",
    "current_chars = df.m_body.apply(len).sum()\n",
    "\n",
    "print('{} of {} characters removed from corpus for {} reduction.'.format(current_chars, start_chars,((start_chars-current_chars)/(start_chars+current_chars))))"
   ]
  },
  {
   "cell_type": "markdown",
   "metadata": {},
   "source": [
    "\n"
   ]
  }
 ],
 "metadata": {
  "kernelspec": {
   "display_name": "Python 3",
   "language": "python",
   "name": "python3"
  },
  "language_info": {
   "codemirror_mode": {
    "name": "ipython",
    "version": 3
   },
   "file_extension": ".py",
   "mimetype": "text/x-python",
   "name": "python",
   "nbconvert_exporter": "python",
   "pygments_lexer": "ipython3",
   "version": "3.7.3"
  }
 },
 "nbformat": 4,
 "nbformat_minor": 4
}
