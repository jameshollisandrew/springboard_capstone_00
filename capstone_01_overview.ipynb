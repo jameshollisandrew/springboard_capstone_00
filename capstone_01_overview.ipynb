{
 "cells": [
  {
   "cell_type": "markdown",
   "metadata": {},
   "source": [
    "# Capstone Project 1: Data Wrangling\n",
    "\n",
    "**Our Problem:** \n",
    "\n",
    "Can emails be used to identify the author's gender?\n",
    "\n",
    "## Overview\n",
    "For this notebook, our **goal** will be to Acquire, Wrangle, and Clean data from the Enron email dataset.\n",
    "\n",
    "## I. Acquiring the Data\n",
    "The data we'll be working with comes in two forms:\n",
    "- The Enron email dataset\n",
    "- Assumed gender by name\n",
    "\n",
    "The Enron email dataset we'll be working with can be downloaded online from the Carnegie Mellon University School of Computer Science (https://www.cs.cmu.edu/~./enron/) as of March 28, 2020. It comes convieniently zipped under the filename `enron_mail_20150507.tar.gz`.\n",
    "\n",
    "To collect the assumed genders, by name, we'll need to isolate the sender names and decide on a method of identifying gender. We'll return to this once the dataset is cleaned.\n",
    "\n",
    "### Acquiring the Data: Enron Emails\n",
    "\n",
    "Once unzipped, the initial file is `maildir`; we'll call this the *mail directory* (I know - creative). The hierarchy in this file directory goes as such:\n",
    "- Mail Directory ('maildir')\n",
    " - Employee Email Folders\n",
    "  - disorganized mess (folders + emails)\n",
    "\n",
    "Let's use the `os` library to explore the directory with its function `os.scandir()`. We'll evaluate each object returned by `os.scandir()`; if it is another folder, we'll `.append()` it to our list so it will also get explored.\n",
    "\n",
    "Once all the folders have been collected, the second part of the function will iterate through the complete `folder_list` and compile a `file_list` of email file names."
   ]
  },
  {
   "cell_type": "code",
   "execution_count": null,
   "metadata": {},
   "outputs": [],
   "source": [
    "import os\n",
    "\n",
    "# setup function to return filenames from directory\n",
    "def file_grabber(some_directory):\n",
    "    \"\"\"Returns all files from directory\n",
    "    and child directories by creating, appending\n",
    "    a directory list until all directories are located.\n",
    "    \n",
    "    Then, cycles through each directory and records any\n",
    "    filenames to a list. This list is returned on completion.\"\"\"\n",
    "    \n",
    "    # initialize folder list\n",
    "    folder_list = []\n",
    "\n",
    "    # appends starting folder to folder list\n",
    "    folder_list.append(some_directory)\n",
    "    \n",
    "    # iterate through folder list\n",
    "    for folder in folder_list:\n",
    "        \n",
    "        # open content manager with .scandir() on folder\n",
    "        with os.scandir(folder) as open_folder:\n",
    "\n",
    "            # for each item in the directory folder\n",
    "            for thing in open_folder:\n",
    "\n",
    "                # if the thing is another folder\n",
    "                if thing.is_dir():\n",
    "                    thing_path = (folder + thing.name + '/')\n",
    "                    folder_list.append(thing_path)\n",
    "                else:\n",
    "                    continue\n",
    "      \n",
    "    # print out number of folders\n",
    "    print('{} folders found.'.format(len(folder_list)))\n",
    "    \n",
    "    # initialize file list\n",
    "    file_list = []\n",
    "    \n",
    "    # iterate through folder list to collect filenames\n",
    "    for folder in folder_list:\n",
    "        \n",
    "        # open content manager with .scandir() on folder\n",
    "        with os.scandir(folder) as open_folder:\n",
    "\n",
    "            # for each item in the directory folder\n",
    "            for thing in open_folder:\n",
    "\n",
    "                # if the thing is another folder\n",
    "                if thing.is_file():\n",
    "                    thing_path = (folder + thing.name)\n",
    "                    file_list.append(thing_path)\n",
    "                else:\n",
    "                    continue\n",
    "                \n",
    "    # print out report                    \n",
    "    print('{} files found.'.format(len(file_list)))\n",
    "    \n",
    "    # return files as list\n",
    "    return file_list"
   ]
  },
  {
   "cell_type": "markdown",
   "metadata": {},
   "source": [
    "***Function complete.*** Now, let's put it into action!"
   ]
  },
  {
   "cell_type": "code",
   "execution_count": 2,
   "metadata": {},
   "outputs": [
    {
     "name": "stdout",
     "output_type": "stream",
     "text": [
      "3500 folders found.\n",
      "517401 files found.\n"
     ]
    }
   ],
   "source": [
    "# initialize list to collect filenames\n",
    "email_files = []\n",
    "\n",
    "# create base string\n",
    "base_name = './data/maildir/'\n",
    "    \n",
    "# call function to collect file names\n",
    "email_files = file_grabber(base_name)"
   ]
  },
  {
   "cell_type": "markdown",
   "metadata": {},
   "source": [
    "***Nice!*** 517401 files found! Let's sort the list and look at some of the filepaths returned."
   ]
  },
  {
   "cell_type": "code",
   "execution_count": 3,
   "metadata": {},
   "outputs": [
    {
     "data": {
      "text/plain": [
       "['./data/maildir/allen-p/_sent_mail/1',\n",
       " './data/maildir/allen-p/_sent_mail/10',\n",
       " './data/maildir/allen-p/_sent_mail/100',\n",
       " './data/maildir/allen-p/_sent_mail/1000',\n",
       " './data/maildir/allen-p/_sent_mail/1001']"
      ]
     },
     "execution_count": 3,
     "metadata": {},
     "output_type": "execute_result"
    }
   ],
   "source": [
    "# sort the list\n",
    "email_files.sort()\n",
    "\n",
    "# take a peek\n",
    "email_files[:5]"
   ]
  },
  {
   "cell_type": "markdown",
   "metadata": {},
   "source": [
    "## II. Wrangling the Data\n",
    "\n",
    "> Data Wrangling:\n",
    ">\n",
    "> \"The process of transforming and mapping data from one \"raw\" data form into another format with the intent of making it more appropriate and valuable for a variety of downstream purposes such as **analytics**.\" - Wikipedia, Data wrangling\n",
    "\n",
    "Let's begin by exploring the *current state of the data*. We'll make notes, and decide what ***wrangling*** we'll need to do. \n",
    "\n",
    "The dataset itself is over 0.5M emails, comes as a *bunch of folders* containing a **bunch of emails** and the unzipped form we'll be working with weighs in around 1.4GB. Let's review an email and isolate some parts to wrangle."
   ]
  },
  {
   "cell_type": "code",
   "execution_count": 4,
   "metadata": {},
   "outputs": [],
   "source": [
    "# email reader\n",
    "def read_email(email_path):\n",
    "    \"\"\"returns email body as a body of text\"\"\"\n",
    "    \n",
    "    # file manager opens email file, assigns it to variable\n",
    "    with open(email_path) as email_file:\n",
    "        email_body = email_file.read()\n",
    "    \n",
    "    # returns email body as text\n",
    "    return email_body"
   ]
  },
  {
   "cell_type": "code",
   "execution_count": 5,
   "metadata": {},
   "outputs": [
    {
     "name": "stdout",
     "output_type": "stream",
     "text": [
      "Message-ID: <33076797.1075855687515.JavaMail.evans@thyme>\n",
      "Date: Mon, 16 Oct 2000 06:42:00 -0700 (PDT)\n",
      "From: phillip.allen@enron.com\n",
      "To: buck.buckner@honeywell.com\n",
      "Subject: Re: FW: fixed forward or other Collar floor gas price terms\n",
      "Mime-Version: 1.0\n",
      "Content-Type: text/plain; charset=us-ascii\n",
      "Content-Transfer-Encoding: 7bit\n",
      "X-From: Phillip K Allen\n",
      "X-To: \"Buckner, Buck\" <buck.buckner@honeywell.com> @ ENRON\n",
      "X-cc: \n",
      "X-bcc: \n",
      "X-Folder: \\Phillip_Allen_Dec2000\\Notes Folders\\'sent mail\n",
      "X-Origin: Allen-P\n",
      "X-FileName: pallen.nsf\n",
      "\n",
      "Mr. Buckner,\n",
      "\n",
      " For delivered gas behind San Diego, Enron Energy Services is the appropriate \n",
      "Enron entity.  I have forwarded your request to Zarin Imam at EES.  Her phone \n",
      "number is 713-853-7107.  \n",
      "\n",
      "Phillip Allen\n"
     ]
    }
   ],
   "source": [
    "# email text by line as list\n",
    "print(read_email(email_files[10]))"
   ]
  },
  {
   "cell_type": "markdown",
   "metadata": {},
   "source": [
    "### ***To evaluate our problem,*** we need gender and email text.\n",
    "\n",
    "From the email above, we'll collect the `From:` field to capture names (and subsequently, make some assumptions on gender). We'll also need to isolate the email body from the rest of the header information contained in the file. Finally, to keep the data subsets tied to their original forms, we'll preserve the file directory name as an index. \n",
    "\n",
    "Let's tackle this goal in two steps:\n",
    "- Collect the variables of interest in a dictionary using the `re` library\n",
    "- Convert the dictionary to a DataFrame using `pd.DataFrame.from_dict()`\n",
    "\n"
   ]
  },
  {
   "cell_type": "code",
   "execution_count": 6,
   "metadata": {},
   "outputs": [],
   "source": [
    "# libraries\n",
    "import re\n",
    "\n",
    "# custom function\n",
    "def save_to_dict(email_path):\n",
    "    \"\"\"create dictionary from a list of filepath files\n",
    "       returns dictionary\"\"\"\n",
    "\n",
    "    # open email file, get email text\n",
    "    with open(email_path) as open_email:\n",
    "        \n",
    "        # get file text\n",
    "        email_text = open_email.read()\n",
    "        \n",
    "        # get 'Message-ID'\n",
    "        m_id = ''\n",
    "        catch = m_id_pat.search(email_text)\n",
    "        if catch:\n",
    "            m_id = catch[0]         \n",
    "    \n",
    "        # get 'Date'\n",
    "        m_date = ''\n",
    "        catch = m_date_pat.search(email_text)\n",
    "        if catch:\n",
    "            m_date = catch[0]     \n",
    "        \n",
    "        # get 'From'\n",
    "        m_from = ''\n",
    "        catch = m_from_pat.search(email_text)\n",
    "        if catch:\n",
    "            m_from = catch[0] \n",
    "        \n",
    "        # get 'To'\n",
    "        m_to = ''\n",
    "        catch = m_to_pat.search(email_text)\n",
    "        if catch:\n",
    "            m_to = catch[0] \n",
    "\n",
    "        # get 'Cc'\n",
    "        m_cc = ''\n",
    "        catch = m_cc_pat.search(email_text)\n",
    "        if catch:\n",
    "            m_cc = catch[0] \n",
    "        \n",
    "        # get 'Bcc'\n",
    "        m_bcc = ''\n",
    "        catch = m_bcc_pat.search(email_text)\n",
    "        if catch:\n",
    "            m_bcc = catch[0] \n",
    "\n",
    "        # get 'Subject'\n",
    "        m_subj = ''\n",
    "        catch = m_subj_pat.search(email_text)\n",
    "        if catch:\n",
    "            m_subj = catch[0] \n",
    "\n",
    "        # get 'Mime-Version'\n",
    "        mime_vers = ''\n",
    "        catch = mime_vers_pat.search(email_text)\n",
    "        if catch:\n",
    "            mime_vers = catch[0] \n",
    "\n",
    "            # get 'Content-Type'\n",
    "        cont_type = ''\n",
    "        catch = cont_type_pat.search(email_text)\n",
    "        if catch:\n",
    "            cont_type = catch[0] \n",
    "\n",
    "        # get 'Content-Transfer-Encoding'\n",
    "        encode = ''\n",
    "        catch = encode_pat.search(email_text)\n",
    "        if catch:\n",
    "            encode = catch[0] \n",
    "\n",
    "        # get 'X-From'\n",
    "        x_from = ''\n",
    "        catch = x_from_pat.search(email_text)\n",
    "        if catch:\n",
    "            x_from = catch[0] \n",
    "\n",
    "        # get 'X-To'\n",
    "        x_to = ''\n",
    "        catch = x_to_pat.search(email_text)\n",
    "        if catch:\n",
    "            x_to = catch[0] \n",
    "\n",
    "        # get 'X-cc'\n",
    "        x_cc = ''\n",
    "        catch = x_cc_pat.search(email_text)\n",
    "        if catch:\n",
    "            x_cc = catch[0] \n",
    "\n",
    "        # get 'X-bcc'\n",
    "        x_bcc = ''\n",
    "        catch = x_bcc_pat.search(email_text)\n",
    "        if catch:\n",
    "            x_bcc = catch[0] \n",
    "\n",
    "        # get 'X-Folder'\n",
    "        x_fold = ''\n",
    "        catch = x_fold_pat.search(email_text)\n",
    "        if catch:\n",
    "            x_fold = catch[0] \n",
    "\n",
    "        # get 'X-Origin'\n",
    "        x_orig = ''\n",
    "        catch = x_orig_pat.search(email_text)\n",
    "        if catch:\n",
    "            x_orig = catch[0] \n",
    "\n",
    "        # get 'X-Filename'\n",
    "        x_fname = ''\n",
    "        catch = x_fname_pat.search(email_text)\n",
    "        if catch:\n",
    "            x_fname = catch[0]\n",
    "    \n",
    "        # get body\n",
    "        m_body = ''\n",
    "        catch = m_body_pat.split(email_text, 1)\n",
    "        if catch:\n",
    "            m_body = catch[1]\n",
    "        \n",
    "        # create dictionary entry\n",
    "        wrangle_dict[email_path] = [m_id, m_date, m_from, m_to, \n",
    "                                    m_cc, m_bcc, m_subj, mime_vers, \n",
    "                                    cont_type, encode, x_from, x_to, \n",
    "                                    x_cc, x_bcc, x_fold, x_orig, \n",
    "                                    x_fname, m_body]"
   ]
  },
  {
   "cell_type": "code",
   "execution_count": 7,
   "metadata": {},
   "outputs": [
    {
     "name": "stdout",
     "output_type": "stream",
     "text": [
      "Wall time: 5min 33s\n"
     ]
    }
   ],
   "source": [
    "%%time\n",
    "# import re library\n",
    "import re\n",
    "import concurrent.futures\n",
    "\n",
    "# set regex patterns 'Message-ID'\n",
    "m_id_pat = re.compile('(?<=Message-ID: )[^\\n]*')\n",
    "\n",
    "# set regex patterns 'Date'\n",
    "m_date_pat = re.compile('(?<=\\nDate: )[^\\n]*')\n",
    "    \n",
    "# set regex patterns 'From'\n",
    "m_from_pat = re.compile('(?<=\\nFrom: )[^\\n]*')\n",
    "\n",
    "# set regex patterns 'To'\n",
    "m_to_pat = re.compile('(?<=\\nTo: )[^\\n]*')\n",
    "\n",
    "# set regex patterns 'Cc'\n",
    "m_cc_pat = re.compile('(?<=\\nCc: )[^\\n]*')\n",
    "\n",
    "# set regex patterns 'Bcc'\n",
    "m_bcc_pat = re.compile('(?<=\\nBcc: )[^\\n]*')\n",
    "\n",
    "# set regex patterns 'Subject'\n",
    "m_subj_pat = re.compile('(?<=\\nSubject: )[^\\n]*')\n",
    "\n",
    "# set regex patterns 'Mime-Version'\n",
    "mime_vers_pat = re.compile('(?<=\\nMime-Version: )[^\\n]*')\n",
    "\n",
    "# set regex patterns 'Content-Type'\n",
    "cont_type_pat = re.compile('(?<=\\nContent-Type: )[^\\n]*')\n",
    "\n",
    "# set regex patterns 'Content-Transfer-Encoding'\n",
    "encode_pat = re.compile('(?<=\\nContent-Transfer-Encoding: )[^\\n]*')\n",
    "\n",
    "# set regex patterns 'X-From'\n",
    "x_from_pat = re.compile('(?<=\\nX-From: )[^\\n]*')\n",
    "\n",
    "# set regex patterns 'X-To'\n",
    "x_to_pat = re.compile('(?<=\\nX-To: )[^\\n]*')\n",
    "\n",
    "# set regex patterns 'X-cc'\n",
    "x_cc_pat = re.compile('(?<=\\nX-cc: )[^\\n]*')\n",
    "\n",
    "# set regex patterns 'X-bcc'\n",
    "x_bcc_pat = re.compile('(?<=\\nX-bcc: )[^\\n]*')\n",
    "\n",
    "# set regex patterns 'X-Folder'\n",
    "x_fold_pat = re.compile('(?<=\\nX-Folder: )[^\\n]*')\n",
    "\n",
    "# set regex patterns 'X-Origin'\n",
    "x_orig_pat = re.compile('(?<=\\nX-Origin: )[^\\n]*')\n",
    "\n",
    "# set regex to return X-Filename, email body\n",
    "x_fname_pat = re.compile('(?<=\\nX-FileName: )[^\\n]*\\n\\n')\n",
    "\n",
    "# set regex patterns 'Body'\n",
    "m_body_pat = re.compile('\\nX-FileName: [^\\n]*\\n\\n')\n",
    "\n",
    "# initialize dictionary\n",
    "wrangle_dict = {}\n",
    "\n",
    "# concurrent futures executor\n",
    "with concurrent.futures.ThreadPoolExecutor() as executor:  \n",
    "    future = executor.map(save_to_dict, email_files)\n"
   ]
  },
  {
   "cell_type": "code",
   "execution_count": 8,
   "metadata": {},
   "outputs": [
    {
     "data": {
      "text/plain": [
       "517401"
      ]
     },
     "execution_count": 8,
     "metadata": {},
     "output_type": "execute_result"
    }
   ],
   "source": [
    "len(wrangle_dict)"
   ]
  },
  {
   "cell_type": "code",
   "execution_count": 429,
   "metadata": {},
   "outputs": [
    {
     "name": "stdout",
     "output_type": "stream",
     "text": [
      "<class 'pandas.core.frame.DataFrame'>\n",
      "RangeIndex: 517401 entries, 0 to 517400\n",
      "Data columns (total 19 columns):\n",
      "f_dir        517401 non-null object\n",
      "m_id         517401 non-null object\n",
      "m_date       517401 non-null object\n",
      "m_from       517401 non-null object\n",
      "m_to         517401 non-null object\n",
      "m_cc         517401 non-null object\n",
      "m_bcc        517401 non-null object\n",
      "m_subj       517401 non-null object\n",
      "mime_vers    517401 non-null object\n",
      "cont_type    517401 non-null object\n",
      "encode       517401 non-null object\n",
      "x_from       517401 non-null object\n",
      "x_to         517401 non-null object\n",
      "x_cc         517401 non-null object\n",
      "x_bcc        517401 non-null object\n",
      "x_fold       517401 non-null object\n",
      "x_orig       517401 non-null object\n",
      "x_fname      517401 non-null object\n",
      "m_body       517401 non-null object\n",
      "dtypes: object(19)\n",
      "memory usage: 75.0+ MB\n",
      "Wall time: 29.9 s\n"
     ]
    }
   ],
   "source": [
    "%%time\n",
    "# import pandas\n",
    "import pandas as pd\n",
    "\n",
    "# create dataframe from dictionary\n",
    "wrangle_frame = pd.DataFrame.from_dict(wrangle_dict, orient='index', columns = ['m_id', 'm_date', 'm_from', 'm_to', \n",
    "                                                                                'm_cc', 'm_bcc', 'm_subj', 'mime_vers', \n",
    "                                                                                'cont_type', 'encode', 'x_from', 'x_to', \n",
    "                                                                                'x_cc', 'x_bcc', 'x_fold', 'x_orig', \n",
    "                                                                                'x_fname', 'm_body'])\n",
    "\n",
    "# sort file directory names, pop it out to column\n",
    "wrangle_frame = wrangle_frame.sort_index().reset_index()\n",
    "\n",
    "# rename index column 'f_dir'\n",
    "wrangle_frame = wrangle_frame.rename(columns = {'index' : 'f_dir'})\n",
    "\n",
    "# export master to csv\n",
    "wrangle_frame.to_csv('./data/00_original_wrangle.csv', index=False, index_label=False)\n",
    "\n",
    "# check DataFrame\n",
    "wrangle_frame.info()"
   ]
  },
  {
   "cell_type": "markdown",
   "metadata": {},
   "source": [
    "# Capstone Project 1: Data Story"
   ]
  },
  {
   "cell_type": "markdown",
   "metadata": {},
   "source": [
    "### Emails sent by gender"
   ]
  },
  {
   "cell_type": "code",
   "execution_count": 12,
   "metadata": {
    "jupyter": {
     "source_hidden": true
    }
   },
   "outputs": [
    {
     "name": "stdout",
     "output_type": "stream",
     "text": [
      "gender\n",
      "boy     90037\n",
      "girl    68731\n",
      "dtype: int64\n"
     ]
    },
    {
     "data": {
      "image/png": "[encoded data removed]",
      "text/plain": [
       "<Figure size 432x288 with 1 Axes>"
      ]
     },
     "metadata": {
      "needs_background": "light"
     },
     "output_type": "display_data"
    }
   ],
   "source": [
    "p = df.copy()\n",
    "p = p.groupby(['gender']).size() # return size agg for gender\n",
    "\n",
    "one_axis_bar(p, 'emails sent by gender')"
   ]
  },
  {
   "cell_type": "markdown",
   "metadata": {},
   "source": [
    "### Number of senders by gender"
   ]
  },
  {
   "cell_type": "code",
   "execution_count": 13,
   "metadata": {
    "jupyter": {
     "source_hidden": true
    }
   },
   "outputs": [
    {
     "name": "stdout",
     "output_type": "stream",
     "text": [
      "gender\n",
      "boy     3277\n",
      "girl    2594\n",
      "dtype: int64\n"
     ]
    },
    {
     "data": {
      "image/png": "[encoded data removed]",
      "text/plain": [
       "<Figure size 432x288 with 1 Axes>"
      ]
     },
     "metadata": {
      "needs_background": "light"
     },
     "output_type": "display_data"
    }
   ],
   "source": [
    "p = df.copy()\n",
    "p = p.drop_duplicates('m_from').groupby(['gender']).size()\n",
    "\n",
    "one_axis_bar(p, 'number of senders by gender')"
   ]
  },
  {
   "cell_type": "markdown",
   "metadata": {},
   "source": [
    "### Emails sent each weekday"
   ]
  },
  {
   "cell_type": "code",
   "execution_count": 16,
   "metadata": {
    "jupyter": {
     "source_hidden": true
    }
   },
   "outputs": [
    {
     "name": "stdout",
     "output_type": "stream",
     "text": [
      "day_names\n",
      "Sunday        3007\n",
      "Monday       32120\n",
      "Tuesday      33830\n",
      "Wednesday    32375\n",
      "Thursday     29855\n",
      "Friday       25575\n",
      "Saturday      1645\n",
      "Name: 0, dtype: int64\n"
     ]
    },
    {
     "data": {
      "image/png": "[encoded data removed]",
      "text/plain": [
       "<Figure size 432x288 with 1 Axes>"
      ]
     },
     "metadata": {
      "needs_background": "light"
     },
     "output_type": "display_data"
    }
   ],
   "source": [
    "p = timf.loc['1998':].copy() # copy df\n",
    "p = pd.DataFrame(p.groupby(['day_names']).size())[0].sort_index()  # groupby size, reindex\n",
    "\n",
    "one_axis_barh(p, 'emails sent each weekday') # send to plotter"
   ]
  },
  {
   "cell_type": "markdown",
   "metadata": {},
   "source": [
    "### Emails sent each weekday by gender"
   ]
  },
  {
   "cell_type": "code",
   "execution_count": 17,
   "metadata": {},
   "outputs": [
    {
     "name": "stdout",
     "output_type": "stream",
     "text": [
      "gender       boy   girl\n",
      "day_names              \n",
      "Sunday      2209    798\n",
      "Monday     18166  13954\n",
      "Tuesday    18698  15132\n",
      "Wednesday  18293  14082\n",
      "Thursday   16878  12977\n",
      "Friday     14292  11283\n",
      "Saturday    1249    396\n"
     ]
    },
    {
     "data": {
      "image/png": "[encoded data removed]",
      "text/plain": [
       "<Figure size 432x288 with 1 Axes>"
      ]
     },
     "metadata": {
      "needs_background": "light"
     },
     "output_type": "display_data"
    }
   ],
   "source": [
    "p = timf.loc['1998':].copy() # copy df\n",
    "p = pd.DataFrame(p.groupby(['day_names', 'gender']).size()).unstack().reindex(labels=daylist)[0]\n",
    "\n",
    "two_axes_barh(p, 'emails sent each weekday by gender')"
   ]
  },
  {
   "cell_type": "markdown",
   "metadata": {},
   "source": [
    "### Emails sent each day by gender (normalized)"
   ]
  },
  {
   "cell_type": "code",
   "execution_count": 24,
   "metadata": {},
   "outputs": [
    {
     "data": {
      "image/png": "[encoded data removed]",
      "text/plain": [
       "<Figure size 1728x432 with 1 Axes>"
      ]
     },
     "metadata": {
      "needs_background": "light"
     },
     "output_type": "display_data"
    }
   ],
   "source": [
    "two_var_timeline(p, 'normalized emails sent each day by gender')"
   ]
  },
  {
   "cell_type": "markdown",
   "metadata": {},
   "source": [
    "# Capstone Project 1: Preprocessing Data"
   ]
  },
  {
   "cell_type": "code",
   "execution_count": 1,
   "metadata": {},
   "outputs": [],
   "source": [
    "import pandas as pd"
   ]
  },
  {
   "cell_type": "code",
   "execution_count": 2,
   "metadata": {},
   "outputs": [],
   "source": [
    "gender_frame = pd.read_csv('./data/enron/01_got_gender.csv', index_col=0)"
   ]
  },
  {
   "cell_type": "code",
   "execution_count": 3,
   "metadata": {},
   "outputs": [
    {
     "data": {
      "text/html": [
       "<div>\n",
       "<style scoped>\n",
       "    .dataframe tbody tr th:only-of-type {\n",
       "        vertical-align: middle;\n",
       "    }\n",
       "\n",
       "    .dataframe tbody tr th {\n",
       "        vertical-align: top;\n",
       "    }\n",
       "\n",
       "    .dataframe thead th {\n",
       "        text-align: right;\n",
       "    }\n",
       "</style>\n",
       "<table border=\"1\" class=\"dataframe\">\n",
       "  <thead>\n",
       "    <tr style=\"text-align: right;\">\n",
       "      <th></th>\n",
       "      <th>f_dir</th>\n",
       "      <th>m_id</th>\n",
       "      <th>m_date</th>\n",
       "      <th>m_from</th>\n",
       "      <th>m_to</th>\n",
       "      <th>m_cc</th>\n",
       "      <th>m_bcc</th>\n",
       "      <th>m_subj</th>\n",
       "      <th>mime_vers</th>\n",
       "      <th>cont_type</th>\n",
       "      <th>encode</th>\n",
       "      <th>x_from</th>\n",
       "      <th>x_to</th>\n",
       "      <th>x_cc</th>\n",
       "      <th>x_bcc</th>\n",
       "      <th>x_fold</th>\n",
       "      <th>x_orig</th>\n",
       "      <th>x_fname</th>\n",
       "      <th>m_body</th>\n",
       "      <th>gender</th>\n",
       "    </tr>\n",
       "  </thead>\n",
       "  <tbody>\n",
       "    <tr>\n",
       "      <th>0</th>\n",
       "      <td>./data/maildir/allen-p/_sent_mail/1</td>\n",
       "      <td>&lt;18782981.1075855378110.JavaMail.evans@thyme&gt;</td>\n",
       "      <td>Mon, 14 May 2001 16:39:00 -0700 (PDT)</td>\n",
       "      <td>phillip.allen@enron.com</td>\n",
       "      <td>tim.belden@enron.com</td>\n",
       "      <td>NaN</td>\n",
       "      <td>NaN</td>\n",
       "      <td>NaN</td>\n",
       "      <td>1.0</td>\n",
       "      <td>text/plain; charset=us-ascii</td>\n",
       "      <td>7bit</td>\n",
       "      <td>Phillip K Allen</td>\n",
       "      <td>Tim Belden &lt;Tim Belden/Enron@EnronXGate&gt;</td>\n",
       "      <td>NaN</td>\n",
       "      <td>NaN</td>\n",
       "      <td>\\Phillip_Allen_Jan2002_1\\Allen, Phillip K.\\'Se...</td>\n",
       "      <td>Allen-P</td>\n",
       "      <td>pallen (Non-Privileged).pst\\n\\n</td>\n",
       "      <td>Here is our forecast\\n\\n</td>\n",
       "      <td>boy</td>\n",
       "    </tr>\n",
       "    <tr>\n",
       "      <th>1</th>\n",
       "      <td>./data/maildir/allen-p/_sent_mail/10</td>\n",
       "      <td>&lt;15464986.1075855378456.JavaMail.evans@thyme&gt;</td>\n",
       "      <td>Fri, 4 May 2001 13:51:00 -0700 (PDT)</td>\n",
       "      <td>phillip.allen@enron.com</td>\n",
       "      <td>john.lavorato@enron.com</td>\n",
       "      <td>NaN</td>\n",
       "      <td>NaN</td>\n",
       "      <td>Re:</td>\n",
       "      <td>1.0</td>\n",
       "      <td>text/plain; charset=us-ascii</td>\n",
       "      <td>7bit</td>\n",
       "      <td>Phillip K Allen</td>\n",
       "      <td>John J Lavorato &lt;John J Lavorato/ENRON@enronXg...</td>\n",
       "      <td>NaN</td>\n",
       "      <td>NaN</td>\n",
       "      <td>\\Phillip_Allen_Jan2002_1\\Allen, Phillip K.\\'Se...</td>\n",
       "      <td>Allen-P</td>\n",
       "      <td>pallen (Non-Privileged).pst\\n\\n</td>\n",
       "      <td>Traveling to have a business meeting takes the...</td>\n",
       "      <td>boy</td>\n",
       "    </tr>\n",
       "    <tr>\n",
       "      <th>2</th>\n",
       "      <td>./data/maildir/allen-p/_sent_mail/100</td>\n",
       "      <td>&lt;24216240.1075855687451.JavaMail.evans@thyme&gt;</td>\n",
       "      <td>Wed, 18 Oct 2000 03:00:00 -0700 (PDT)</td>\n",
       "      <td>phillip.allen@enron.com</td>\n",
       "      <td>leah.arsdall@enron.com</td>\n",
       "      <td>NaN</td>\n",
       "      <td>NaN</td>\n",
       "      <td>Re: test</td>\n",
       "      <td>1.0</td>\n",
       "      <td>text/plain; charset=us-ascii</td>\n",
       "      <td>7bit</td>\n",
       "      <td>Phillip K Allen</td>\n",
       "      <td>Leah Van Arsdall</td>\n",
       "      <td>NaN</td>\n",
       "      <td>NaN</td>\n",
       "      <td>\\Phillip_Allen_Dec2000\\Notes Folders\\'sent mail</td>\n",
       "      <td>Allen-P</td>\n",
       "      <td>pallen.nsf\\n\\n</td>\n",
       "      <td>test successful.  way to go!!!</td>\n",
       "      <td>boy</td>\n",
       "    </tr>\n",
       "    <tr>\n",
       "      <th>3</th>\n",
       "      <td>./data/maildir/allen-p/_sent_mail/1000</td>\n",
       "      <td>&lt;13505866.1075863688222.JavaMail.evans@thyme&gt;</td>\n",
       "      <td>Mon, 23 Oct 2000 06:13:00 -0700 (PDT)</td>\n",
       "      <td>phillip.allen@enron.com</td>\n",
       "      <td>randall.gay@enron.com</td>\n",
       "      <td>NaN</td>\n",
       "      <td>NaN</td>\n",
       "      <td>NaN</td>\n",
       "      <td>1.0</td>\n",
       "      <td>text/plain; charset=us-ascii</td>\n",
       "      <td>7bit</td>\n",
       "      <td>Phillip K Allen</td>\n",
       "      <td>Randall L Gay</td>\n",
       "      <td>NaN</td>\n",
       "      <td>NaN</td>\n",
       "      <td>\\Phillip_Allen_Dec2000\\Notes Folders\\'sent mail</td>\n",
       "      <td>Allen-P</td>\n",
       "      <td>pallen.nsf\\n\\n</td>\n",
       "      <td>Randy,\\n\\n Can you send me a schedule of the s...</td>\n",
       "      <td>boy</td>\n",
       "    </tr>\n",
       "    <tr>\n",
       "      <th>4</th>\n",
       "      <td>./data/maildir/allen-p/_sent_mail/1001</td>\n",
       "      <td>&lt;30922949.1075863688243.JavaMail.evans@thyme&gt;</td>\n",
       "      <td>Thu, 31 Aug 2000 05:07:00 -0700 (PDT)</td>\n",
       "      <td>phillip.allen@enron.com</td>\n",
       "      <td>greg.piper@enron.com</td>\n",
       "      <td>NaN</td>\n",
       "      <td>NaN</td>\n",
       "      <td>Re: Hello</td>\n",
       "      <td>1.0</td>\n",
       "      <td>text/plain; charset=us-ascii</td>\n",
       "      <td>7bit</td>\n",
       "      <td>Phillip K Allen</td>\n",
       "      <td>Greg Piper</td>\n",
       "      <td>NaN</td>\n",
       "      <td>NaN</td>\n",
       "      <td>\\Phillip_Allen_Dec2000\\Notes Folders\\'sent mail</td>\n",
       "      <td>Allen-P</td>\n",
       "      <td>pallen.nsf\\n\\n</td>\n",
       "      <td>Let's shoot for Tuesday at 11:45.</td>\n",
       "      <td>boy</td>\n",
       "    </tr>\n",
       "  </tbody>\n",
       "</table>\n",
       "</div>"
      ],
      "text/plain": [
       "                                    f_dir  \\\n",
       "0     ./data/maildir/allen-p/_sent_mail/1   \n",
       "1    ./data/maildir/allen-p/_sent_mail/10   \n",
       "2   ./data/maildir/allen-p/_sent_mail/100   \n",
       "3  ./data/maildir/allen-p/_sent_mail/1000   \n",
       "4  ./data/maildir/allen-p/_sent_mail/1001   \n",
       "\n",
       "                                            m_id  \\\n",
       "0  <18782981.1075855378110.JavaMail.evans@thyme>   \n",
       "1  <15464986.1075855378456.JavaMail.evans@thyme>   \n",
       "2  <24216240.1075855687451.JavaMail.evans@thyme>   \n",
       "3  <13505866.1075863688222.JavaMail.evans@thyme>   \n",
       "4  <30922949.1075863688243.JavaMail.evans@thyme>   \n",
       "\n",
       "                                  m_date                   m_from  \\\n",
       "0  Mon, 14 May 2001 16:39:00 -0700 (PDT)  phillip.allen@enron.com   \n",
       "1   Fri, 4 May 2001 13:51:00 -0700 (PDT)  phillip.allen@enron.com   \n",
       "2  Wed, 18 Oct 2000 03:00:00 -0700 (PDT)  phillip.allen@enron.com   \n",
       "3  Mon, 23 Oct 2000 06:13:00 -0700 (PDT)  phillip.allen@enron.com   \n",
       "4  Thu, 31 Aug 2000 05:07:00 -0700 (PDT)  phillip.allen@enron.com   \n",
       "\n",
       "                      m_to m_cc m_bcc     m_subj  mime_vers  \\\n",
       "0     tim.belden@enron.com  NaN   NaN        NaN        1.0   \n",
       "1  john.lavorato@enron.com  NaN   NaN        Re:        1.0   \n",
       "2   leah.arsdall@enron.com  NaN   NaN   Re: test        1.0   \n",
       "3    randall.gay@enron.com  NaN   NaN        NaN        1.0   \n",
       "4     greg.piper@enron.com  NaN   NaN  Re: Hello        1.0   \n",
       "\n",
       "                      cont_type encode           x_from  \\\n",
       "0  text/plain; charset=us-ascii   7bit  Phillip K Allen   \n",
       "1  text/plain; charset=us-ascii   7bit  Phillip K Allen   \n",
       "2  text/plain; charset=us-ascii   7bit  Phillip K Allen   \n",
       "3  text/plain; charset=us-ascii   7bit  Phillip K Allen   \n",
       "4  text/plain; charset=us-ascii   7bit  Phillip K Allen   \n",
       "\n",
       "                                                x_to x_cc x_bcc  \\\n",
       "0           Tim Belden <Tim Belden/Enron@EnronXGate>  NaN   NaN   \n",
       "1  John J Lavorato <John J Lavorato/ENRON@enronXg...  NaN   NaN   \n",
       "2                                   Leah Van Arsdall  NaN   NaN   \n",
       "3                                      Randall L Gay  NaN   NaN   \n",
       "4                                         Greg Piper  NaN   NaN   \n",
       "\n",
       "                                              x_fold   x_orig  \\\n",
       "0  \\Phillip_Allen_Jan2002_1\\Allen, Phillip K.\\'Se...  Allen-P   \n",
       "1  \\Phillip_Allen_Jan2002_1\\Allen, Phillip K.\\'Se...  Allen-P   \n",
       "2    \\Phillip_Allen_Dec2000\\Notes Folders\\'sent mail  Allen-P   \n",
       "3    \\Phillip_Allen_Dec2000\\Notes Folders\\'sent mail  Allen-P   \n",
       "4    \\Phillip_Allen_Dec2000\\Notes Folders\\'sent mail  Allen-P   \n",
       "\n",
       "                           x_fname  \\\n",
       "0  pallen (Non-Privileged).pst\\n\\n   \n",
       "1  pallen (Non-Privileged).pst\\n\\n   \n",
       "2                   pallen.nsf\\n\\n   \n",
       "3                   pallen.nsf\\n\\n   \n",
       "4                   pallen.nsf\\n\\n   \n",
       "\n",
       "                                              m_body gender  \n",
       "0                          Here is our forecast\\n\\n     boy  \n",
       "1  Traveling to have a business meeting takes the...    boy  \n",
       "2                     test successful.  way to go!!!    boy  \n",
       "3  Randy,\\n\\n Can you send me a schedule of the s...    boy  \n",
       "4                Let's shoot for Tuesday at 11:45.      boy  "
      ]
     },
     "execution_count": 3,
     "metadata": {},
     "output_type": "execute_result"
    }
   ],
   "source": [
    "gender_frame.head()"
   ]
  },
  {
   "cell_type": "code",
   "execution_count": 4,
   "metadata": {},
   "outputs": [],
   "source": [
    "# get features (m_body), target (gender)\n",
    "df = gender_frame[['m_body', 'gender']].copy()"
   ]
  },
  {
   "cell_type": "code",
   "execution_count": 5,
   "metadata": {},
   "outputs": [
    {
     "data": {
      "text/html": [
       "<div>\n",
       "<style scoped>\n",
       "    .dataframe tbody tr th:only-of-type {\n",
       "        vertical-align: middle;\n",
       "    }\n",
       "\n",
       "    .dataframe tbody tr th {\n",
       "        vertical-align: top;\n",
       "    }\n",
       "\n",
       "    .dataframe thead th {\n",
       "        text-align: right;\n",
       "    }\n",
       "</style>\n",
       "<table border=\"1\" class=\"dataframe\">\n",
       "  <thead>\n",
       "    <tr style=\"text-align: right;\">\n",
       "      <th></th>\n",
       "      <th>m_body</th>\n",
       "      <th>gender</th>\n",
       "    </tr>\n",
       "  </thead>\n",
       "  <tbody>\n",
       "    <tr>\n",
       "      <th>0</th>\n",
       "      <td>Here is our forecast\\n\\n</td>\n",
       "      <td>boy</td>\n",
       "    </tr>\n",
       "    <tr>\n",
       "      <th>1</th>\n",
       "      <td>Traveling to have a business meeting takes the...</td>\n",
       "      <td>boy</td>\n",
       "    </tr>\n",
       "    <tr>\n",
       "      <th>2</th>\n",
       "      <td>test successful.  way to go!!!</td>\n",
       "      <td>boy</td>\n",
       "    </tr>\n",
       "    <tr>\n",
       "      <th>3</th>\n",
       "      <td>Randy,\\n\\n Can you send me a schedule of the s...</td>\n",
       "      <td>boy</td>\n",
       "    </tr>\n",
       "    <tr>\n",
       "      <th>4</th>\n",
       "      <td>Let's shoot for Tuesday at 11:45.</td>\n",
       "      <td>boy</td>\n",
       "    </tr>\n",
       "  </tbody>\n",
       "</table>\n",
       "</div>"
      ],
      "text/plain": [
       "                                              m_body gender\n",
       "0                          Here is our forecast\\n\\n     boy\n",
       "1  Traveling to have a business meeting takes the...    boy\n",
       "2                     test successful.  way to go!!!    boy\n",
       "3  Randy,\\n\\n Can you send me a schedule of the s...    boy\n",
       "4                Let's shoot for Tuesday at 11:45.      boy"
      ]
     },
     "execution_count": 5,
     "metadata": {},
     "output_type": "execute_result"
    }
   ],
   "source": [
    "df.head()"
   ]
  },
  {
   "cell_type": "code",
   "execution_count": 6,
   "metadata": {},
   "outputs": [],
   "source": [
    "# return the largest email body for preprocessing setup\n",
    "ts = df.m_body.max()\n",
    "tss = df.loc[0:20, 'm_body']"
   ]
  },
  {
   "cell_type": "code",
   "execution_count": 7,
   "metadata": {},
   "outputs": [
    {
     "data": {
      "text/plain": [
       "0                             Here is our forecast\\n\\n \n",
       "1     Traveling to have a business meeting takes the...\n",
       "2                        test successful.  way to go!!!\n",
       "3     Randy,\\n\\n Can you send me a schedule of the s...\n",
       "4                   Let's shoot for Tuesday at 11:45.  \n",
       "5     Greg,\\n\\n How about either next Tuesday or Thu...\n",
       "6     Please cc the following distribution list with...\n",
       "7                      any morning between 10 and 11:30\n",
       "8     1. login:  pallen pw: ke9davis\\n\\n I don't thi...\n",
       "9     ---------------------- Forwarded by Phillip K ...\n",
       "10    Mr. Buckner,\\n\\n For delivered gas behind San ...\n",
       "11    Lucy,\\n\\n Here are the rentrolls:\\n\\n\\n\\n Open...\n",
       "12    ---------------------- Forwarded by Phillip K ...\n",
       "13    ---------------------- Forwarded by Phillip K ...\n",
       "14    Dave, \\n\\n Here are the names of the west desk...\n",
       "15             Paula,\\n\\n 35 million is fine\\n\\nPhillip\n",
       "16    ---------------------- Forwarded by Phillip K ...\n",
       "17    Tim,\\n\\nmike grigsby is having problems with a...\n",
       "18    ---------------------- Forwarded by Phillip K ...\n",
       "19    ---------------------- Forwarded by Phillip K ...\n",
       "20    Brenda,\\n\\nPlease use the second check as the ...\n",
       "Name: m_body, dtype: object"
      ]
     },
     "execution_count": 7,
     "metadata": {},
     "output_type": "execute_result"
    }
   ],
   "source": [
    "tss"
   ]
  },
  {
   "cell_type": "code",
   "execution_count": 11,
   "metadata": {},
   "outputs": [],
   "source": [
    "# import regex\n",
    "import regex as re\n",
    "\n",
    "# import lemmatizer\n",
    "from nltk.stem import WordNetLemmatizer\n",
    "from nltk.tokenize import word_tokenize # creates tokenized words\n",
    "from nltk.corpus import stopwords\n",
    "\n",
    "\n",
    "# instantiate stemmer object\n",
    "stemmer = WordNetLemmatizer()\n",
    "\n",
    "# catch list\n",
    "results = []\n",
    "\n",
    "def process_text(ts):\n",
    "    ts = re.sub(r'\\W', ' ', str(ts)) # remove characters that are not word characters\n",
    "    ts = re.sub(r'_+', ' ', str(ts), flags=re.I) # removes the underscore character\n",
    "    ts = re.sub(r'\\s+[a-zA-Z]\\s+|\\^[a-zA-Z]\\s+', ' ', str(ts)) # removes all single characters\n",
    "    ts = re.sub(r'\\d', ' ', str(ts)) # removes numbers\n",
    "    ts = ts.lower()\n",
    "    ts = re.sub(r'\\s+', ' ', str(ts), flags=re.I) # reduces multiple spaces to single space\n",
    "    \n",
    "    # lemmatization\n",
    "    words = word_tokenize(ts)\n",
    "    ts = [stemmer.lemmatize(word) for word in words]\n",
    "    ts = ' '.join(ts)\n",
    "    \n",
    "    return ts"
   ]
  },
  {
   "cell_type": "code",
   "execution_count": 17,
   "metadata": {},
   "outputs": [
    {
     "name": "stdout",
     "output_type": "stream",
     "text": [
      "Wall time: 29min 45s\n"
     ]
    }
   ],
   "source": [
    "%%time\n",
    "df['p_body'] = df.m_body.apply(process_text)\n",
    "processed_body = df.copy()\n",
    "processed_body = processed_body.drop('m_body', axis=1)\n",
    "processed_body.to_csv('./data/enron/02_preprocessed_body.csv')"
   ]
  },
  {
   "cell_type": "markdown",
   "metadata": {},
   "source": [
    "# Capstone Project 1: Filtering Dataset"
   ]
  },
  {
   "cell_type": "code",
   "execution_count": 1,
   "metadata": {},
   "outputs": [],
   "source": [
    "# import pandas\n",
    "import pandas as pd\n",
    "# viewing options\n",
    "pd.set_option('max_colwidth', 100)"
   ]
  },
  {
   "cell_type": "code",
   "execution_count": 2,
   "metadata": {},
   "outputs": [
    {
     "name": "stdout",
     "output_type": "stream",
     "text": [
      "Wall time: 6.71 s\n"
     ]
    },
    {
     "data": {
      "text/plain": [
       "gender\n",
       "boy     235804\n",
       "girl    174119\n",
       "dtype: int64"
      ]
     },
     "execution_count": 2,
     "metadata": {},
     "output_type": "execute_result"
    }
   ],
   "source": [
    "%%time\n",
    "# import dataframe, drop duplicates\n",
    "df = pd.read_csv('./data/enron/03_processed_body.csv', index_col=0)\n",
    "df.groupby(['gender']).size()"
   ]
  },
  {
   "cell_type": "markdown",
   "metadata": {},
   "source": [
    "### Monitoring impact on label\n",
    "We want to keep an eye on the male/female ratio when filtering out our dataset (especially when blanket removing things like 'duplicates', where the filtering can be applied to either label for the same condition) so that our label ratio isn't significantly unbalanced as a result."
   ]
  },
  {
   "cell_type": "code",
   "execution_count": 3,
   "metadata": {},
   "outputs": [
    {
     "name": "stdout",
     "output_type": "stream",
     "text": [
      "Frame Size: 409923, B/G Ratio: 1.354\n"
     ]
    }
   ],
   "source": [
    "def monitor_label(df):\n",
    "    b = df.groupby(['gender']).size().boy\n",
    "    g = df.groupby(['gender']).size().girl\n",
    "    print('Frame Size: {}, B/G Ratio: {:.3f}'.format(b+g, b/g))\n",
    "    \n",
    "monitor_label(df)"
   ]
  },
  {
   "cell_type": "markdown",
   "metadata": {},
   "source": [
    "### Remove NaN from gender, email"
   ]
  },
  {
   "cell_type": "code",
   "execution_count": 4,
   "metadata": {},
   "outputs": [
    {
     "name": "stdout",
     "output_type": "stream",
     "text": [
      "Frame Size: 409719, B/G Ratio: 1.354\n"
     ]
    }
   ],
   "source": [
    "# set dataframe to not NaN gender returns\n",
    "df = df[df.gender.notna()]\n",
    "\n",
    "# return index of NaN email body\n",
    "_ = df[df.p_body.isna()].index\n",
    "\n",
    "# drop NaN body\n",
    "df = df.drop(_)\n",
    "\n",
    "monitor_label(df)"
   ]
  },
  {
   "cell_type": "markdown",
   "metadata": {},
   "source": [
    "### Remove duplicate emails from body"
   ]
  },
  {
   "cell_type": "code",
   "execution_count": 5,
   "metadata": {},
   "outputs": [
    {
     "name": "stdout",
     "output_type": "stream",
     "text": [
      "Frame Size: 182823, B/G Ratio: 1.315\n"
     ]
    }
   ],
   "source": [
    "# set dataframe to dropped duplicates\n",
    "df = df.drop_duplicates('p_body')\n",
    "\n",
    "monitor_label(df)"
   ]
  },
  {
   "cell_type": "markdown",
   "metadata": {},
   "source": [
    "### Reset index\n",
    "Prior to using the indices and indexes to reference data in the dataframe, we'll need to reset the index so the values line up."
   ]
  },
  {
   "cell_type": "code",
   "execution_count": 6,
   "metadata": {},
   "outputs": [],
   "source": [
    "# reindex dataframe for cosine similarity matching\n",
    "df = df.reset_index(drop=True)"
   ]
  },
  {
   "cell_type": "markdown",
   "metadata": {},
   "source": [
    "## Cosine similarity (cossim) to find near-duplicate items\n",
    "Here we'll use cosine similarity scores across samples from our population to review for filtering criteria. Because we're working with limited memory, we'll take a sample from the dataframe, transform it with tfidf, and calculate the cossim score.    \n",
    "\n",
    "Once the cossim matrix is returned for all documents in the corpus, we'll get a list of the indices where cossim score is greater than ~90-95% and filter the dataframe by indexing the indice returns. **This will return a subset of the sample with high cossim.**    \n",
    "\n",
    "Finally, we'll fit the data with a Multinomial Naive Bayes model to identify features from the dataset for review."
   ]
  },
  {
   "cell_type": "markdown",
   "metadata": {},
   "source": [
    "### Use Cosine Similarity (cossim) to evaluate identical email body items"
   ]
  },
  {
   "cell_type": "code",
   "execution_count": 7,
   "metadata": {
    "jupyter": {
     "source_hidden": true
    }
   },
   "outputs": [
    {
     "name": "stdout",
     "output_type": "stream",
     "text": [
      "Wall time: 33.2 s\n"
     ]
    }
   ],
   "source": [
    "%%time\n",
    "# import numpy\n",
    "import numpy as np\n",
    "\n",
    "# viewing options\n",
    "np.set_printoptions(edgeitems=10)\n",
    "np.core.arrayprint._line_width = 300\n",
    "\n",
    "# user function\n",
    "def cos_sim_this(df, p=0.95, n=10000):\n",
    "    \"\"\"input a dataframe, cos sim %, and sample number\n",
    "       return a filtered dataframe of the cos sim results\"\"\"\n",
    "    # reset index (needs full, linear index or will throw flag)\n",
    "    df = df.reset_index(drop=True)\n",
    "    \n",
    "    # collect a sample\n",
    "    sample = df.sample(n, random_state=42)\n",
    "\n",
    "    # feature extraction - tfidf\n",
    "    from sklearn.feature_extraction.text import TfidfVectorizer\n",
    "    tf_vect = TfidfVectorizer()\n",
    "    tfidf = tf_vect.fit_transform(sample.p_body)\n",
    "\n",
    "    # pairwise - cosine similarity\n",
    "    from sklearn.metrics.pairwise import cosine_similarity\n",
    "    cos = cosine_similarity(tfidf) # return pairwise similarities between all samples in input (Note: can be sliced [0:1000])\n",
    "\n",
    "    # make a list of array indices that match our cos % condition for dataframe indexing\n",
    "    idx_list = []\n",
    "    for doc_ind in np.arange(len(cos)):\n",
    "        doc_tup = np.where(cos[doc_ind] > p)\n",
    "        if len(doc_tup[0]) > 1:\n",
    "            x = doc_tup[0]\n",
    "            idx_list.append(x[x != doc_ind][0])\n",
    "    idx_list = list(set(idx_list))\n",
    "\n",
    "    # get high cossim selection from original df (by index)\n",
    "    filter_df = df.loc[idx_list, :]\n",
    "    \n",
    "    return filter_df\n",
    "\n",
    "\n",
    "# call function\n",
    "initial_sample = cos_sim_this(df, p=0.9, n=20000)"
   ]
  },
  {
   "cell_type": "markdown",
   "metadata": {},
   "source": [
    "### Using a model to identify features for filtering\n",
    "\n",
    "### Vectorize input data\n",
    "We'll use a Tfidf vectorizer to transform the text here because we're interested in identifying 'features' across our subsample with high cosine similarity to identify any keywords that can help with filtering out mass almost-perfect duplicates that would skew our dataset (ex. FW:, RE:, spam, etc).\n",
    "\n",
    "### Reviewing 'forwarded by'"
   ]
  },
  {
   "cell_type": "code",
   "execution_count": 8,
   "metadata": {
    "jupyter": {
     "source_hidden": true
    }
   },
   "outputs": [
    {
     "name": "stdout",
     "output_type": "stream",
     "text": [
      "Most Informative Features\n",
      "(coef score, % of df has feature, feature string)\n",
      "\n",
      "-9.593 12% hou ect ect cc\n",
      "-9.741 9% ect ect cc subject\n",
      "-10.152 4% eric bass hou ect\n",
      "-10.289 5% sally beck hou ect\n",
      "-10.316 3% bass hou ect ect\n",
      "-10.380 4% enron north america corp\n",
      "-10.404 3% john arnold hou ect\n",
      "-10.410 4% enron com cc subject\n",
      "-10.433 2% wireless handheld www blackberry\n",
      "-10.433 0% sent blackberry wireless handheld\n",
      "-10.433 2% handheld www blackberry net\n",
      "-10.433 2% blackberry wireless handheld www\n",
      "-10.482 0% original message arnold john\n",
      "-10.489 4% hou ect ect subject\n",
      "-10.489 2% arnold hou ect ect\n",
      "-10.494 0% message arnold john sent\n",
      "-10.497 2% phillip allen hou ect\n",
      "-10.508 4% beck hou ect ect\n",
      "-10.610 2% eric bass enron com\n",
      "-10.661 3% thanks lynn original message\n",
      "Wall time: 1.92 s\n"
     ]
    }
   ],
   "source": [
    "%%time\n",
    "\n",
    "# create stopwords list\n",
    "from nltk.corpus import stopwords\n",
    "\n",
    "# set stopwords list to english\n",
    "stop_words = set(stopwords.words('english'))\n",
    "\n",
    "\n",
    "def check_feature_perc(s, a_df):\n",
    "    ft_len = len(a_df[a_df.p_body.str.contains(s)])\n",
    "    df_len = len(a_df)\n",
    "    return (ft_len/df_len)*100\n",
    "\n",
    "\n",
    "def get_features(df, n=10, ngrams=(1,1), transform='t', stop_words=stop_words):\n",
    "    # get variables for model\n",
    "    Xf = df.p_body.values\n",
    "    yf = np.zeros((len(Xf)), np.int8) # dumbie label '0'\n",
    "\n",
    "    # instantiate, fit transformer\n",
    "    if transform == 't':\n",
    "        from sklearn.feature_extraction.text import TfidfVectorizer\n",
    "        tf_vect = TfidfVectorizer(analyzer='word', ngram_range=ngrams, stop_words=stop_words)\n",
    "        X_t = tf_vect.fit_transform(Xf)\n",
    "        v = tf_vect\n",
    "    \n",
    "    # instantiate, fit vectorizer\n",
    "    if transform == 'c':\n",
    "        from sklearn.feature_extraction.text import CountVectorizer\n",
    "        c_vect = CountVectorizer(analyzer='word', ngram_range=ngrams, stop_words=stop_words)\n",
    "        X_t = c_vect.fit_transform(Xf)\n",
    "        v = c_vect\n",
    "\n",
    "    # import model\n",
    "    from sklearn.naive_bayes import MultinomialNB\n",
    "\n",
    "    # instantiate model object\n",
    "    mnb = MultinomialNB()\n",
    "\n",
    "    # fit model on data\n",
    "    mnb.fit(X_t, yf)\n",
    "\n",
    "    # return features by coefs\n",
    "    def show_most_informative_features(vectorizer, clf, n=n):\n",
    "        feature_names = vectorizer.get_feature_names()\n",
    "        coefs_with_fns = sorted(zip(clf.coef_[0], feature_names), reverse=True)\n",
    "        top = zip(coefs_with_fns[:n], coefs_with_fns[:-(n + 1):-1])\n",
    "        print('Most Informative Features\\n(coef score, % of df has feature, feature string)\\n')\n",
    "        for (coef_1, fn_1), (coef_2, fn_2) in top:\n",
    "            p_1 = check_feature_perc(fn_1, df)\n",
    "            print('{:.3f} {:.0f}% {}'.format(coef_1, p_1, fn_1))\n",
    "            \n",
    "            #p_2 = check_feature_perc(fn_2, df)\n",
    "            #print('{:.0f}% {} {:.3f}\\t\\t{:.0f}% {} {:.3f}'.format(p_1, fn_1, coef_1, p_2, fn_2, coef_2))\n",
    "            # print('{:.3f} {}, {:.3f} {}'.format(coef_1, fn_1, coef_2, fn_2))\n",
    "\n",
    "    show_most_informative_features(v, mnb)\n",
    "    \n",
    "\n",
    "# call function\n",
    "get_features(initial_sample, n=20, transform='t', ngrams=(4,4))"
   ]
  },
  {
   "cell_type": "markdown",
   "metadata": {},
   "source": [
    "### Adding to stop words list"
   ]
  },
  {
   "cell_type": "code",
   "execution_count": 9,
   "metadata": {
    "jupyter": {
     "source_hidden": true
    }
   },
   "outputs": [
    {
     "name": "stdout",
     "output_type": "stream",
     "text": [
      "Most Informative Features\n",
      "(coef score, % of df has feature, feature string)\n",
      "\n",
      "-10.796 33% original message\n",
      "-11.151 19% cc subject\n",
      "-11.160 0% let know\n",
      "-11.595 10% would like\n",
      "-11.659 9% sent monday\n",
      "-11.709 8% sent tuesday\n",
      "-11.740 8% please let\n",
      "-11.773 7% sally beck\n",
      "-11.773 0% please let know\n",
      "-11.777 8% sent thursday\n",
      "-11.851 6% october pm\n",
      "-11.876 7% sent wednesday\n",
      "-11.884 4% http www\n",
      "-11.894 8% subject fw\n",
      "-11.934 6% sent friday\n",
      "-11.959 5% north america\n",
      "-11.970 5% blair lynn\n",
      "-12.013 3% michelle cash\n",
      "-12.042 4% thanks lynn\n",
      "-12.060 0% pm cc\n"
     ]
    }
   ],
   "source": [
    "# create a new stop words list that includes 'enron', 'ect', 'hou', 'phillip allen', 'eric bass', 'arnold john'\n",
    "add_stops = ['enron', 'ect', 'hou', 'phillip', 'allen', 'eric', 'bass', 'arnold', 'john', 'com']\n",
    "new_stops = list(stop_words) + add_stops\n",
    "new_stops = set(new_stops)\n",
    "\n",
    "# call function\n",
    "get_features(initial_sample, n=20, transform='t', ngrams=(2,5), stop_words=new_stops)"
   ]
  },
  {
   "cell_type": "markdown",
   "metadata": {},
   "source": [
    "### Review email phrases\n",
    "Here, we're going to pass phrases back to the cossim calculator and return the % of emails that meet the cossim threshold, relative to the overall number of emails in the sample. We'll use a lower threshold to amplify the significance of each phrase."
   ]
  },
  {
   "cell_type": "code",
   "execution_count": 10,
   "metadata": {},
   "outputs": [],
   "source": [
    "def cosine_by_phrases(s, n=10000, p=0.8):\n",
    "    \n",
    "    first_sample = cos_sim_this(df=df, p=p, n=n)\n",
    "    print('% of sample frame that meets cosim threshold: {:.0f}%\\n'.format(len(first_sample)*100/n))\n",
    "    \n",
    "    for phrase in s:\n",
    "        cond = df.p_body.str.contains(phrase)\n",
    "        df_filt = df[cond]\n",
    "        second_sample = cos_sim_this(df=df_filt, p=p, n=n)\n",
    "        \n",
    "        print(\"'{}' filter: {:.0f}%\".format(phrase, len(second_sample)*100/n))"
   ]
  },
  {
   "cell_type": "code",
   "execution_count": 11,
   "metadata": {},
   "outputs": [
    {
     "name": "stdout",
     "output_type": "stream",
     "text": [
      "% of sample frame that meets cosim threshold: 6%\n",
      "\n",
      "'cc subject' filter: 18%\n",
      "'original message' filter: 20%\n",
      "'forwarded by' filter: 20%\n",
      "'subject fw' filter: 35%\n"
     ]
    }
   ],
   "source": [
    "s = ['cc subject', 'original message', 'forwarded by', 'subject fw']\n",
    "cosine_by_phrases(s)"
   ]
  },
  {
   "cell_type": "markdown",
   "metadata": {},
   "source": [
    "> From a random sample of 10,000 emails pulled from our dataset, **35%** of the sample meets the cossim threshold when filtered by the phrase **'subject fw'** versus 6% returned by a control sample."
   ]
  },
  {
   "cell_type": "code",
   "execution_count": 12,
   "metadata": {},
   "outputs": [
    {
     "name": "stdout",
     "output_type": "stream",
     "text": [
      "% of sample frame that meets cosim threshold: 3%\n",
      "\n",
      "'cc subject' filter: 10%\n",
      "'original message' filter: 11%\n",
      "'forwarded by' filter: 12%\n",
      "'subject fw' filter: 29%\n"
     ]
    }
   ],
   "source": [
    "cosine_by_phrases(s, p=.95)"
   ]
  },
  {
   "cell_type": "markdown",
   "metadata": {},
   "source": [
    "> Even when we increase the cossim threshold, the phrase **'subject fw'** still returns **29%** meeting the cossim threshold, compared to only 3% from a control sample."
   ]
  },
  {
   "cell_type": "markdown",
   "metadata": {},
   "source": [
    "### Checking the impact of filters"
   ]
  },
  {
   "cell_type": "code",
   "execution_count": 13,
   "metadata": {
    "jupyter": {
     "source_hidden": true
    }
   },
   "outputs": [
    {
     "name": "stdout",
     "output_type": "stream",
     "text": [
      "0 filters: 4%\n",
      "Frame Size: 182823, B/G Ratio: 1.315\n",
      "None\n",
      "\n",
      "1 filter('subject fw'): 4%\n",
      "Frame Size: 169560, B/G Ratio: 1.303\n",
      "None\n",
      "\n",
      "1 filter('original message'): 3%\n",
      "Frame Size: 131472, B/G Ratio: 1.227\n",
      "None\n",
      "\n",
      "1 filter('forwarded by'): 4%\n",
      "Frame Size: 149053, B/G Ratio: 1.327\n",
      "None\n",
      "\n",
      "1 filter('cc subject'): 4%\n",
      "Frame Size: 144231, B/G Ratio: 1.321\n",
      "None\n",
      "\n",
      "Frame Size: 90085, B/G Ratio: 1.222\n",
      "None\n",
      "4 filters: 2%\n",
      "\n"
     ]
    }
   ],
   "source": [
    "n = 20000\n",
    "p = .95\n",
    "\n",
    "# none filtered\n",
    "a_sample = cos_sim_this(df=df, p=p, n=n)\n",
    "print(\"0 filters: {:.0f}%\".format(len(a_sample)*100/n))\n",
    "print(monitor_label(df))\n",
    "print('')\n",
    "\n",
    "# check impact of removing 1 phrase\n",
    "cond = (df.p_body.str.contains('subject fw'))\n",
    "f_df = df[~cond]\n",
    "a_sample = cos_sim_this(df=f_df, p=p, n=n)\n",
    "print(\"1 filter('subject fw'): {:.0f}%\".format(len(a_sample)*100/n))\n",
    "print(monitor_label(f_df))\n",
    "print('')\n",
    "\n",
    "# check impact of removing 1 phrase\n",
    "cond = (df.p_body.str.contains('original message'))\n",
    "f_df = df[~cond]\n",
    "a_sample = cos_sim_this(df=f_df, p=p, n=n)\n",
    "print(\"1 filter('original message'): {:.0f}%\".format(len(a_sample)*100/n))\n",
    "print(monitor_label(f_df))\n",
    "print('')\n",
    "\n",
    "# check impact of removing 1 phrase\n",
    "cond = (df.p_body.str.contains('forwarded by'))\n",
    "f_df = df[~cond]\n",
    "a_sample = cos_sim_this(df=f_df, p=p, n=n)\n",
    "print(\"1 filter('forwarded by'): {:.0f}%\".format(len(a_sample)*100/n))\n",
    "print(monitor_label(f_df))\n",
    "print('')\n",
    "\n",
    "# check impact of removing 1 phrase\n",
    "cond = (df.p_body.str.contains('cc subject'))\n",
    "f_df = df[~cond]\n",
    "a_sample = cos_sim_this(df=f_df, p=p, n=n)\n",
    "print(\"1 filter('cc subject'): {:.0f}%\".format(len(a_sample)*100/n))\n",
    "print(monitor_label(f_df))\n",
    "print('')\n",
    "\n",
    "# check impact of removing all phrases\n",
    "cond = (df.p_body.str.contains('subject fw') | df.p_body.str.contains('forwarded by') | df.p_body.str.contains('original message') | df.p_body.str.contains('cc subject'))\n",
    "f_df = df[~cond]\n",
    "a_sample = cos_sim_this(df=f_df, p=p, n=n)\n",
    "print(monitor_label(f_df))\n",
    "print(\"4 filters: {:.0f}%\\n\".format(len(a_sample)*100/n))"
   ]
  },
  {
   "cell_type": "markdown",
   "metadata": {},
   "source": [
    "> Though **subject fw** has the higher similarity scores when isolated, the frequency of the phrase across the dataset is low - mitigating the influence of possible duplicates.    \n",
    "> \n",
    "> When we apply each filter individually, there isn't a significant reduction in the cos sim score, relative to the reduction across the dataset. When we apply all 4 filters, both the dataset size and cosim % are reduced roughly the same amount."
   ]
  },
  {
   "cell_type": "markdown",
   "metadata": {},
   "source": [
    "# Capstone Project 1: Modeling Data"
   ]
  },
  {
   "cell_type": "code",
   "execution_count": 3,
   "metadata": {},
   "outputs": [],
   "source": [
    "# imports\n",
    "import numpy as np\n",
    "import pandas as pd\n",
    "\n",
    "# set data to df\n",
    "df = pd.read_csv('./data/enron/03_filtered_dataset.csv', index_col=0)"
   ]
  },
  {
   "cell_type": "code",
   "execution_count": 4,
   "metadata": {},
   "outputs": [
    {
     "data": {
      "text/html": [
       "<div>\n",
       "<style scoped>\n",
       "    .dataframe tbody tr th:only-of-type {\n",
       "        vertical-align: middle;\n",
       "    }\n",
       "\n",
       "    .dataframe tbody tr th {\n",
       "        vertical-align: top;\n",
       "    }\n",
       "\n",
       "    .dataframe thead th {\n",
       "        text-align: right;\n",
       "    }\n",
       "</style>\n",
       "<table border=\"1\" class=\"dataframe\">\n",
       "  <thead>\n",
       "    <tr style=\"text-align: right;\">\n",
       "      <th></th>\n",
       "      <th>gender</th>\n",
       "      <th>p_body</th>\n",
       "    </tr>\n",
       "  </thead>\n",
       "  <tbody>\n",
       "    <tr>\n",
       "      <th>0</th>\n",
       "      <td>boy</td>\n",
       "      <td>here is our forecast</td>\n",
       "    </tr>\n",
       "    <tr>\n",
       "      <th>1</th>\n",
       "      <td>boy</td>\n",
       "      <td>traveling to have business meeting take the fu...</td>\n",
       "    </tr>\n",
       "    <tr>\n",
       "      <th>2</th>\n",
       "      <td>boy</td>\n",
       "      <td>test successful way to go</td>\n",
       "    </tr>\n",
       "    <tr>\n",
       "      <th>3</th>\n",
       "      <td>boy</td>\n",
       "      <td>randy can you send me schedule of the salary a...</td>\n",
       "    </tr>\n",
       "    <tr>\n",
       "      <th>4</th>\n",
       "      <td>boy</td>\n",
       "      <td>let shoot for tuesday at</td>\n",
       "    </tr>\n",
       "  </tbody>\n",
       "</table>\n",
       "</div>"
      ],
      "text/plain": [
       "  gender                                             p_body\n",
       "0    boy                               here is our forecast\n",
       "1    boy  traveling to have business meeting take the fu...\n",
       "2    boy                          test successful way to go\n",
       "3    boy  randy can you send me schedule of the salary a...\n",
       "4    boy                           let shoot for tuesday at"
      ]
     },
     "execution_count": 4,
     "metadata": {},
     "output_type": "execute_result"
    }
   ],
   "source": [
    "df.head()"
   ]
  },
  {
   "cell_type": "code",
   "execution_count": 5,
   "metadata": {},
   "outputs": [
    {
     "data": {
      "text/plain": [
       "gender\n",
       "boy     103852\n",
       "girl     78971\n",
       "dtype: int64"
      ]
     },
     "execution_count": 5,
     "metadata": {},
     "output_type": "execute_result"
    }
   ],
   "source": [
    "df.groupby(['gender']).size()"
   ]
  },
  {
   "cell_type": "markdown",
   "metadata": {},
   "source": [
    "## Exploratory data analysis"
   ]
  },
  {
   "cell_type": "code",
   "execution_count": 6,
   "metadata": {},
   "outputs": [],
   "source": [
    "## "
   ]
  },
  {
   "cell_type": "markdown",
   "metadata": {},
   "source": [
    "## Reclassify data"
   ]
  },
  {
   "cell_type": "code",
   "execution_count": 7,
   "metadata": {},
   "outputs": [],
   "source": [
    "# bool target variables: boy = 0, girl = 1\n",
    "df.gender = df.gender.replace('boy', 0)\n",
    "df.gender = df.gender.replace('girl', 1)"
   ]
  },
  {
   "cell_type": "code",
   "execution_count": 8,
   "metadata": {},
   "outputs": [],
   "source": [
    "# reclassify data into arrays\n",
    "full_X = df.p_body.values # features\n",
    "full_y = df.gender.values # targets (gender labels)"
   ]
  },
  {
   "cell_type": "markdown",
   "metadata": {},
   "source": [
    "## Multi-class classifier"
   ]
  },
  {
   "cell_type": "code",
   "execution_count": 9,
   "metadata": {},
   "outputs": [],
   "source": [
    "def plot_multi(X, y, n_samples=1000, CV=5):\n",
    "    \n",
    "    # import numpy\n",
    "    import numpy as np\n",
    "    \n",
    "    # random choice collect index\n",
    "    sample_idx = np.random.choice(np.arange(len(X)), size=n_samples, replace=True)\n",
    "\n",
    "    # create sample subsets\n",
    "    Xs = X[sample_idx]\n",
    "    ys = y[sample_idx]\n",
    "    \n",
    "    \n",
    "    # import tfidfvectorizer\n",
    "    from sklearn.feature_extraction.text import TfidfVectorizer\n",
    "    t_vect = TfidfVectorizer()\n",
    "    \n",
    "    # transform data\n",
    "    Xs_tfidf = t_vect.fit_transform(Xs)\n",
    "\n",
    "\n",
    "    # import model selection\n",
    "    from sklearn.model_selection import train_test_split\n",
    "    \n",
    "    # Create train and test sets\n",
    "    Xs_train, Xs_test, ys_train, ys_test = train_test_split(Xs_tfidf, ys, test_size=0.4, random_state=42)\n",
    "\n",
    "    \n",
    "    # import models\n",
    "    from sklearn.ensemble import RandomForestClassifier\n",
    "    from sklearn.naive_bayes import MultinomialNB\n",
    "    from sklearn.linear_model import LogisticRegression\n",
    "    from sklearn.linear_model import SGDClassifier\n",
    "    from sklearn.svm import LinearSVC\n",
    "    from sklearn.neighbors import KNeighborsClassifier\n",
    "\n",
    "    # import model selection\n",
    "    from sklearn.model_selection import cross_val_score\n",
    "\n",
    "    # create models object\n",
    "    models = [\n",
    "        RandomForestClassifier(max_depth=25, random_state=42),\n",
    "        MultinomialNB(),\n",
    "        LogisticRegression(random_state=42),\n",
    "        SGDClassifier(),\n",
    "        LinearSVC(),\n",
    "        KNeighborsClassifier(),\n",
    "    ]\n",
    "    \n",
    "    # create dataframe, list for data catch\n",
    "    cv_df = pd.DataFrame(index=range(CV * len(models)))\n",
    "    entries = []\n",
    "\n",
    "    # name dict\n",
    "    name_dict = {\n",
    "        'RandomForestClassifier':'RFC',\n",
    "        'LinearSVC': 'LSVC',\n",
    "        'MultinomialNB':'MNBayes',\n",
    "        'LogisticRegression':'Logreg',\n",
    "        'SGDClassifier':'SGDC',\n",
    "        'KNeighborsClassifier':'KNNc',\n",
    "    }\n",
    "    \n",
    "    # loop models\n",
    "    for model in models:\n",
    "        model_name = name_dict[model.__class__.__name__]\n",
    "        #model_name = model.__class__.__name__\n",
    "        accuracies = cross_val_score(model, Xs_train, ys_train, scoring='accuracy', cv=CV, n_jobs=-1)\n",
    "        for fold_idx, accuracy in enumerate(accuracies):\n",
    "            entries.append((model_name, fold_idx, accuracy))\n",
    "    cv_df = pd.DataFrame(entries, columns=['model_name', 'fold_idx', 'accuracy'])\n",
    "\n",
    "    # import seaborn\n",
    "    import seaborn as sns\n",
    "    # visual formatting\n",
    "    sns.set(style='white')\n",
    "    import matplotlib.pyplot as plt\n",
    "    # figure size\n",
    "    from matplotlib.pyplot import figure\n",
    "    figure(figsize=(6, 4), facecolor='w', edgecolor='k')\n",
    "\n",
    "    # create seaborn plot\n",
    "    # sns.boxplot(x='model_name', y='accuracy', data=cv_df)\n",
    "    sns.boxplot(x='model_name', y='accuracy', data=cv_df)\n",
    "    sns.stripplot(x='model_name', y='accuracy', data=cv_df, \n",
    "                  size=8, jitter=True, edgecolor=\"gray\", linewidth=2)\n",
    "    \n",
    "    plt.title('n_samples: {}'.format(n_samples))\n",
    "    plt.grid(axis='y', which='both')\n",
    "    plt.xlabel('Classifiers')\n",
    "    plt.show()"
   ]
  },
  {
   "cell_type": "code",
   "execution_count": 10,
   "metadata": {},
   "outputs": [
    {
     "data": {
      "image/png": "[encoded data removed]",
      "text/plain": [
       "<Figure size 432x288 with 1 Axes>"
      ]
     },
     "metadata": {},
     "output_type": "display_data"
    },
    {
     "name": "stdout",
     "output_type": "stream",
     "text": [
      "Wall time: 16.5 s\n"
     ]
    }
   ],
   "source": [
    "%%time\n",
    "# Evaluating Classifiers\n",
    "plot_multi(full_X, full_y, n_samples=15000)"
   ]
  },
  {
   "cell_type": "markdown",
   "metadata": {},
   "source": [
    "## Variance across sample count"
   ]
  },
  {
   "cell_type": "code",
   "execution_count": 11,
   "metadata": {},
   "outputs": [],
   "source": [
    "def plot_few(X, y, n_samples=1000, CV=5):\n",
    "    \n",
    "    # import numpy\n",
    "    import numpy as np\n",
    "    \n",
    "    # random choice collect index\n",
    "    sample_idx = np.random.choice(np.arange(len(X)), size=n_samples, replace=True)\n",
    "\n",
    "    # create sample subsets\n",
    "    Xs = X[sample_idx]\n",
    "    ys = y[sample_idx]\n",
    "  \n",
    "    # import tfidfvectorizer\n",
    "    from sklearn.feature_extraction.text import TfidfVectorizer\n",
    "    t_vect = TfidfVectorizer()\n",
    "    \n",
    "    # transform data\n",
    "    Xs_tfidf = t_vect.fit_transform(Xs)\n",
    "\n",
    "    \n",
    "    # import model selection\n",
    "    from sklearn.model_selection import train_test_split\n",
    "    \n",
    "    # Create train and test sets\n",
    "    Xs_train, Xs_test, ys_train, ys_test = train_test_split(Xs_tfidf, ys, test_size=0.4, random_state=42)\n",
    "\n",
    "    # import models\n",
    "    from sklearn.linear_model import LogisticRegression\n",
    "    from sklearn.linear_model import SGDClassifier\n",
    "    from sklearn.svm import LinearSVC\n",
    "\n",
    "    # import model selection\n",
    "    from sklearn.model_selection import cross_val_score\n",
    "\n",
    "    # create models object\n",
    "    models = [\n",
    "        LogisticRegression(random_state=42),\n",
    "        SGDClassifier(),\n",
    "        LinearSVC(),\n",
    "    ]\n",
    "    \n",
    "    # create dataframe, list for data catch\n",
    "    cv_df = pd.DataFrame(index=range(CV * len(models)))\n",
    "    entries = []\n",
    "\n",
    "    # name dict\n",
    "    name_dict = {\n",
    "        'RandomForestClassifier':'RFC',\n",
    "        'LinearSVC': 'LSVC',\n",
    "        'MultinomialNB':'MNBayes',\n",
    "        'LogisticRegression':'Logreg',\n",
    "        'SGDClassifier':'SGDC',\n",
    "        'KNeighborsClassifier':'KNNc',\n",
    "    }\n",
    "    \n",
    "    # loop models\n",
    "    for model in models:\n",
    "        model_name = name_dict[model.__class__.__name__]\n",
    "        #model_name = model.__class__.__name__\n",
    "        accuracies = cross_val_score(model, Xs_train, ys_train, scoring='accuracy', cv=CV, n_jobs=-1)\n",
    "        for fold_idx, accuracy in enumerate(accuracies):\n",
    "            entries.append((model_name, fold_idx, accuracy))\n",
    "    cv_df = pd.DataFrame(entries, columns=['model_name', 'fold_idx', 'accuracy'])\n",
    "\n",
    "    # import seaborn\n",
    "    import seaborn as sns\n",
    "    # visual formatting\n",
    "    sns.set(style='white')\n",
    "    import matplotlib.pyplot as plt\n",
    "    # figure size\n",
    "    from matplotlib.pyplot import figure\n",
    "    figure(figsize=(4, 4), facecolor='w', edgecolor='k')\n",
    "\n",
    "    # create seaborn plot\n",
    "    # sns.boxplot(x='model_name', y='accuracy', data=cv_df)\n",
    "    sns.boxplot(x='model_name', y='accuracy', data=cv_df)\n",
    "    sns.stripplot(x='model_name', y='accuracy', data=cv_df, \n",
    "                  size=8, jitter=True, edgecolor=\"gray\", linewidth=2)\n",
    "    \n",
    "    plt.title('n_samples: {}'.format(n_samples))\n",
    "    plt.grid(axis='y', which='both')\n",
    "    plt.xlabel('Classifiers')\n",
    "    plt.show()"
   ]
  },
  {
   "cell_type": "code",
   "execution_count": 12,
   "metadata": {},
   "outputs": [
    {
     "name": "stdout",
     "output_type": "stream",
     "text": [
      "[ 60000  90000 120000 150000 180000]\n"
     ]
    },
    {
     "data": {
      "image/png": "[encoded data removed]",
      "text/plain": [
       "<Figure size 288x288 with 1 Axes>"
      ]
     },
     "metadata": {},
     "output_type": "display_data"
    },
    {
     "data": {
      "image/png": "[encoded data removed]",
      "text/plain": [
       "<Figure size 288x288 with 1 Axes>"
      ]
     },
     "metadata": {},
     "output_type": "display_data"
    },
    {
     "data": {
      "image/png": "[encoded data removed]",
      "text/plain": [
       "<Figure size 288x288 with 1 Axes>"
      ]
     },
     "metadata": {},
     "output_type": "display_data"
    },
    {
     "data": {
      "image/png": "[encoded data removed]",
      "text/plain": [
       "<Figure size 288x288 with 1 Axes>"
      ]
     },
     "metadata": {},
     "output_type": "display_data"
    },
    {
     "data": {
      "image/png": "[encoded data removed]",
      "text/plain": [
       "<Figure size 288x288 with 1 Axes>"
      ]
     },
     "metadata": {},
     "output_type": "display_data"
    },
    {
     "name": "stdout",
     "output_type": "stream",
     "text": [
      "Wall time: 2min 56s\n"
     ]
    }
   ],
   "source": [
    "%%time\n",
    "\n",
    "# numpy\n",
    "import numpy as np\n",
    "\n",
    "# review model variation relative to sample input\n",
    "sample_nums = np.arange(60000, 180001, 30000)\n",
    "print(sample_nums)\n",
    "\n",
    "# run charts\n",
    "for ct in sample_nums:\n",
    "    plot_few(full_X, full_y, n_samples=ct, CV=5)"
   ]
  },
  {
   "cell_type": "markdown",
   "metadata": {},
   "source": [
    "> Stochastic Gradient Descent Classifier (SGDC) should have zero mean and unit variance for best performance. For now, we'll stay with Linear SVC."
   ]
  },
  {
   "cell_type": "code",
   "execution_count": null,
   "metadata": {},
   "outputs": [],
   "source": []
  }
 ],
 "metadata": {
  "kernelspec": {
   "display_name": "Python 3",
   "language": "python",
   "name": "python3"
  },
  "language_info": {
   "codemirror_mode": {
    "name": "ipython",
    "version": 3
   },
   "file_extension": ".py",
   "mimetype": "text/x-python",
   "name": "python",
   "nbconvert_exporter": "python",
   "pygments_lexer": "ipython3",
   "version": "3.7.7"
  }
 },
 "nbformat": 4,
 "nbformat_minor": 4
}
