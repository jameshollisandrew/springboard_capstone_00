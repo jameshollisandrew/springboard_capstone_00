{
 "cells": [
  {
   "cell_type": "markdown",
   "metadata": {},
   "source": [
    "# First Clean"
   ]
  },
  {
   "cell_type": "code",
   "execution_count": 1,
   "metadata": {},
   "outputs": [],
   "source": [
    "# import library\n",
    "import pandas as pd"
   ]
  },
  {
   "cell_type": "code",
   "execution_count": 2,
   "metadata": {},
   "outputs": [],
   "source": [
    "#\n",
    "#\n",
    "# custom functions\n",
    "#\n",
    "# email reader\n",
    "def read_email(email_path):\n",
    "    \"\"\"returns email body as a body of text\"\"\"\n",
    "    \n",
    "    # file manager opens email file, assigns it to variable\n",
    "    with open(email_path) as email_file:\n",
    "        email_body = email_file.read()\n",
    "    \n",
    "    # returns email body as text\n",
    "    return email_body"
   ]
  },
  {
   "cell_type": "code",
   "execution_count": 3,
   "metadata": {},
   "outputs": [],
   "source": [
    "# import working df\n",
    "df = pd.read_csv('./data/00_original_wrangle.csv', header=0, index_col=False)"
   ]
  },
  {
   "cell_type": "code",
   "execution_count": 4,
   "metadata": {},
   "outputs": [
    {
     "name": "stdout",
     "output_type": "stream",
     "text": [
      "<class 'pandas.core.frame.DataFrame'>\n",
      "RangeIndex: 517401 entries, 0 to 517400\n",
      "Data columns (total 19 columns):\n",
      "f_dir        517401 non-null object\n",
      "m_id         517401 non-null object\n",
      "m_date       517401 non-null object\n",
      "m_from       517401 non-null object\n",
      "m_to         496355 non-null object\n",
      "m_cc         135166 non-null object\n",
      "m_bcc        127886 non-null object\n",
      "m_subj       498214 non-null object\n",
      "mime_vers    517401 non-null float64\n",
      "cont_type    517401 non-null object\n",
      "encode       517401 non-null object\n",
      "x_from       517401 non-null object\n",
      "x_to         508255 non-null object\n",
      "x_cc         128886 non-null object\n",
      "x_bcc        175 non-null object\n",
      "x_fold       517401 non-null object\n",
      "x_orig       517401 non-null object\n",
      "x_fname      517401 non-null object\n",
      "m_body       517401 non-null object\n",
      "dtypes: float64(1), object(18)\n",
      "memory usage: 75.0+ MB\n"
     ]
    }
   ],
   "source": [
    "# check info\n",
    "df.info()"
   ]
  },
  {
   "cell_type": "code",
   "execution_count": 5,
   "metadata": {},
   "outputs": [],
   "source": [
    "# fill na with '' possibly here\n",
    "\n",
    "# convert mime_vers to dtype object to run string methods\n",
    "df.mime_vers = df.mime_vers.astype('str')\n"
   ]
  },
  {
   "cell_type": "code",
   "execution_count": 6,
   "metadata": {},
   "outputs": [
    {
     "name": "stdout",
     "output_type": "stream",
     "text": [
      "<class 'pandas.core.frame.DataFrame'>\n",
      "RangeIndex: 517401 entries, 0 to 517400\n",
      "Data columns (total 19 columns):\n",
      "f_dir        517401 non-null object\n",
      "m_id         517401 non-null object\n",
      "m_date       517401 non-null object\n",
      "m_from       517401 non-null object\n",
      "m_to         496355 non-null object\n",
      "m_cc         135166 non-null object\n",
      "m_bcc        127886 non-null object\n",
      "m_subj       498214 non-null object\n",
      "mime_vers    517401 non-null object\n",
      "cont_type    517401 non-null object\n",
      "encode       517401 non-null object\n",
      "x_from       517401 non-null object\n",
      "x_to         508255 non-null object\n",
      "x_cc         128886 non-null object\n",
      "x_bcc        175 non-null object\n",
      "x_fold       517401 non-null object\n",
      "x_orig       517401 non-null object\n",
      "x_fname      517401 non-null object\n",
      "m_body       517401 non-null object\n",
      "dtypes: object(19)\n",
      "memory usage: 75.0+ MB\n"
     ]
    }
   ],
   "source": [
    "df.info()"
   ]
  },
  {
   "cell_type": "markdown",
   "metadata": {},
   "source": [
    "## Start Cleaning"
   ]
  },
  {
   "cell_type": "code",
   "execution_count": 7,
   "metadata": {},
   "outputs": [],
   "source": [
    "# PRESENTATION\n",
    "# clean leading/trailing whitespace\n",
    "df = df.apply(lambda x: x.str.lstrip().str.rstrip())"
   ]
  },
  {
   "cell_type": "code",
   "execution_count": 8,
   "metadata": {},
   "outputs": [],
   "source": [
    "# PRESENTATION\n",
    "# remove redundant string from f_dir\n",
    "df.f_dir = df.f_dir.str.replace('./data/maildir/','')"
   ]
  },
  {
   "cell_type": "code",
   "execution_count": 9,
   "metadata": {},
   "outputs": [
    {
     "name": "stdout",
     "output_type": "stream",
     "text": [
      "Email Body Duplicates: 269530\n"
     ]
    }
   ],
   "source": [
    "# PRESENTATION\n",
    "# returns rows where the email body is duplicated\n",
    "x = len(df[df.m_body.duplicated()])\n",
    "\n",
    "# Drop duplicates based on body text\n",
    "df = df.drop_duplicates(subset = 'm_body')\n",
    "\n",
    "# print count\n",
    "print('Email Body Duplicates: {}'.format(x))"
   ]
  },
  {
   "cell_type": "code",
   "execution_count": 10,
   "metadata": {},
   "outputs": [
    {
     "name": "stdout",
     "output_type": "stream",
     "text": [
      "Emails Returned  in '@enron.com': 191433\n"
     ]
    }
   ],
   "source": [
    "# PRESENTATION\n",
    "# Select only @enron email address\n",
    "only_enron = df.m_from.str.endswith('@enron.com')\n",
    "\n",
    "# Filter df\n",
    "df = df[only_enron]\n",
    "\n",
    "# print count\n",
    "print('Emails Returned  in \\'@enron.com\\': {}'.format(len(df)))"
   ]
  },
  {
   "cell_type": "code",
   "execution_count": 11,
   "metadata": {},
   "outputs": [
    {
     "name": "stdout",
     "output_type": "stream",
     "text": [
      "After FW query: 172487\n"
     ]
    }
   ],
   "source": [
    "# PRESENTATION\n",
    "# remove fowarded emails\n",
    "fw_query = df.m_subj.str.startswith('FW:', na=False)\n",
    "\n",
    "# Filter out forwarded emails\n",
    "df = df[~fw_query]\n",
    "\n",
    "# print count\n",
    "print('After FW query: {}'.format(len(df)))"
   ]
  },
  {
   "cell_type": "code",
   "execution_count": 12,
   "metadata": {},
   "outputs": [
    {
     "name": "stdout",
     "output_type": "stream",
     "text": [
      "Message-ID: <135221.1075842980646.JavaMail.evans@thyme>\n",
      "Date: Tue, 26 Sep 2000 09:35:00 -0700 (PDT)\n",
      "From: jeff.dasovich@enron.com\n",
      "To: jalamo@enron.com\n",
      "Subject: \n",
      "Mime-Version: 1.0\n",
      "Content-Type: text/plain; charset=us-ascii\n",
      "Content-Transfer-Encoding: 7bit\n",
      "X-From: Jeff Dasovich\n",
      "X-To: jalamo@enron.com\n",
      "X-cc: \n",
      "X-bcc: \n",
      "X-Folder: \\Jeff_Dasovich_Dec2000\\Notes Folders\\All documents\n",
      "X-Origin: DASOVICH-J\n",
      "X-FileName: jdasovic.nsf\n",
      "\n",
      "----- Forwarded by Jeff Dasovich/NA/Enron on 09/26/2000 04:34 PM -----\n",
      "\n",
      "\tJeff Dasovich\n",
      "\tSent by: Jeff Dasovich\n",
      "\t09/26/2000 10:08 AM\n",
      "\t\t \n",
      "\t\t To: Joseph Alamo/SFO/EES\n",
      "\t\t cc: \n",
      "\t\t Subject: \n",
      "\n",
      "Hi and good morning.  Could you please book me a ticket for Portland.  Need \n",
      "to arrive in Portland on this coming Monday morning by 8-8:30 AM, and return \n",
      "to SF at around 4:30-5:00 PM on Tuesday.  Thanks very much.  Also, could you \n",
      "book me a hotel room at the 5th Avenue place (or whatever it's called).  \n",
      "Muchos gracias.\n"
     ]
    }
   ],
   "source": [
    "# USER TOOL\n",
    "# email text by line as list\n",
    "e_string_rev = './data/maildir/' + 'dasovich-j/all_documents/1780'\n",
    "print(read_email(e_string_rev))"
   ]
  },
  {
   "cell_type": "code",
   "execution_count": 13,
   "metadata": {},
   "outputs": [
    {
     "data": {
      "text/plain": [
       "m_from         object\n",
       "sent_counts     int32\n",
       "dtype: object"
      ]
     },
     "execution_count": 13,
     "metadata": {},
     "output_type": "execute_result"
    }
   ],
   "source": [
    "# Count number of emails sent per email address \n",
    "\n",
    "c = pd.DataFrame(df.groupby(['m_from']).size().sort_values(ascending=False))\n",
    "c = c.reset_index()\n",
    "c.columns = ['m_from', 'sent_counts']\n",
    "c.astype({'sent_counts' : 'int'}).dtypes"
   ]
  },
  {
   "cell_type": "code",
   "execution_count": 14,
   "metadata": {},
   "outputs": [],
   "source": [
    "# merge sent counts based on m_from email back to DataFrame\n",
    "df = pd.merge(df, c, how='left', on='m_from')"
   ]
  },
  {
   "cell_type": "code",
   "execution_count": 15,
   "metadata": {},
   "outputs": [
    {
     "name": "stdout",
     "output_type": "stream",
     "text": [
      "172487\n",
      "33735\n",
      "138752\n"
     ]
    }
   ],
   "source": [
    "# Looking at counts for 'Forwarded by' occurence\n",
    "print(len(df))\n",
    "print(len(df[df.m_body.str.contains('-- Forwarded by')]))\n",
    "\n",
    "# create condition for 'Forwarded by'\n",
    "cond = df.m_body.str.contains('-- Forwarded by')\n",
    "\n",
    "# set df to ignore email body's with condition\n",
    "df = df[~cond]\n",
    "\n",
    "# print record count\n",
    "print(len(df))"
   ]
  },
  {
   "cell_type": "code",
   "execution_count": 16,
   "metadata": {},
   "outputs": [
    {
     "data": {
      "text/html": [
       "<div>\n",
       "<style scoped>\n",
       "    .dataframe tbody tr th:only-of-type {\n",
       "        vertical-align: middle;\n",
       "    }\n",
       "\n",
       "    .dataframe tbody tr th {\n",
       "        vertical-align: top;\n",
       "    }\n",
       "\n",
       "    .dataframe thead th {\n",
       "        text-align: right;\n",
       "    }\n",
       "</style>\n",
       "<table border=\"1\" class=\"dataframe\">\n",
       "  <thead>\n",
       "    <tr style=\"text-align: right;\">\n",
       "      <th></th>\n",
       "      <th>f_dir</th>\n",
       "      <th>m_id</th>\n",
       "      <th>m_date</th>\n",
       "      <th>m_from</th>\n",
       "      <th>m_to</th>\n",
       "      <th>m_cc</th>\n",
       "      <th>m_bcc</th>\n",
       "      <th>m_subj</th>\n",
       "      <th>mime_vers</th>\n",
       "      <th>cont_type</th>\n",
       "      <th>encode</th>\n",
       "      <th>x_from</th>\n",
       "      <th>x_to</th>\n",
       "      <th>x_cc</th>\n",
       "      <th>x_bcc</th>\n",
       "      <th>x_fold</th>\n",
       "      <th>x_orig</th>\n",
       "      <th>x_fname</th>\n",
       "      <th>m_body</th>\n",
       "      <th>sent_counts</th>\n",
       "    </tr>\n",
       "  </thead>\n",
       "  <tbody>\n",
       "    <tr>\n",
       "      <th>0</th>\n",
       "      <td>allen-p/_sent_mail/1</td>\n",
       "      <td>&lt;18782981.1075855378110.JavaMail.evans@thyme&gt;</td>\n",
       "      <td>Mon, 14 May 2001 16:39:00 -0700 (PDT)</td>\n",
       "      <td>phillip.allen@enron.com</td>\n",
       "      <td>tim.belden@enron.com</td>\n",
       "      <td>NaN</td>\n",
       "      <td>NaN</td>\n",
       "      <td>NaN</td>\n",
       "      <td>1.0</td>\n",
       "      <td>text/plain; charset=us-ascii</td>\n",
       "      <td>7bit</td>\n",
       "      <td>Phillip K Allen</td>\n",
       "      <td>Tim Belden &lt;Tim Belden/Enron@EnronXGate&gt;</td>\n",
       "      <td>NaN</td>\n",
       "      <td>NaN</td>\n",
       "      <td>\\Phillip_Allen_Jan2002_1\\Allen, Phillip K.\\'Se...</td>\n",
       "      <td>Allen-P</td>\n",
       "      <td>pallen (Non-Privileged).pst</td>\n",
       "      <td>Here is our forecast</td>\n",
       "      <td>606</td>\n",
       "    </tr>\n",
       "    <tr>\n",
       "      <th>1</th>\n",
       "      <td>allen-p/_sent_mail/10</td>\n",
       "      <td>&lt;15464986.1075855378456.JavaMail.evans@thyme&gt;</td>\n",
       "      <td>Fri, 4 May 2001 13:51:00 -0700 (PDT)</td>\n",
       "      <td>phillip.allen@enron.com</td>\n",
       "      <td>john.lavorato@enron.com</td>\n",
       "      <td>NaN</td>\n",
       "      <td>NaN</td>\n",
       "      <td>Re:</td>\n",
       "      <td>1.0</td>\n",
       "      <td>text/plain; charset=us-ascii</td>\n",
       "      <td>7bit</td>\n",
       "      <td>Phillip K Allen</td>\n",
       "      <td>John J Lavorato &lt;John J Lavorato/ENRON@enronXg...</td>\n",
       "      <td>NaN</td>\n",
       "      <td>NaN</td>\n",
       "      <td>\\Phillip_Allen_Jan2002_1\\Allen, Phillip K.\\'Se...</td>\n",
       "      <td>Allen-P</td>\n",
       "      <td>pallen (Non-Privileged).pst</td>\n",
       "      <td>Traveling to have a business meeting takes the...</td>\n",
       "      <td>606</td>\n",
       "    </tr>\n",
       "    <tr>\n",
       "      <th>2</th>\n",
       "      <td>allen-p/_sent_mail/100</td>\n",
       "      <td>&lt;24216240.1075855687451.JavaMail.evans@thyme&gt;</td>\n",
       "      <td>Wed, 18 Oct 2000 03:00:00 -0700 (PDT)</td>\n",
       "      <td>phillip.allen@enron.com</td>\n",
       "      <td>leah.arsdall@enron.com</td>\n",
       "      <td>NaN</td>\n",
       "      <td>NaN</td>\n",
       "      <td>Re: test</td>\n",
       "      <td>1.0</td>\n",
       "      <td>text/plain; charset=us-ascii</td>\n",
       "      <td>7bit</td>\n",
       "      <td>Phillip K Allen</td>\n",
       "      <td>Leah Van Arsdall</td>\n",
       "      <td>NaN</td>\n",
       "      <td>NaN</td>\n",
       "      <td>\\Phillip_Allen_Dec2000\\Notes Folders\\'sent mail</td>\n",
       "      <td>Allen-P</td>\n",
       "      <td>pallen.nsf</td>\n",
       "      <td>test successful.  way to go!!!</td>\n",
       "      <td>606</td>\n",
       "    </tr>\n",
       "    <tr>\n",
       "      <th>3</th>\n",
       "      <td>allen-p/_sent_mail/1000</td>\n",
       "      <td>&lt;13505866.1075863688222.JavaMail.evans@thyme&gt;</td>\n",
       "      <td>Mon, 23 Oct 2000 06:13:00 -0700 (PDT)</td>\n",
       "      <td>phillip.allen@enron.com</td>\n",
       "      <td>randall.gay@enron.com</td>\n",
       "      <td>NaN</td>\n",
       "      <td>NaN</td>\n",
       "      <td>NaN</td>\n",
       "      <td>1.0</td>\n",
       "      <td>text/plain; charset=us-ascii</td>\n",
       "      <td>7bit</td>\n",
       "      <td>Phillip K Allen</td>\n",
       "      <td>Randall L Gay</td>\n",
       "      <td>NaN</td>\n",
       "      <td>NaN</td>\n",
       "      <td>\\Phillip_Allen_Dec2000\\Notes Folders\\'sent mail</td>\n",
       "      <td>Allen-P</td>\n",
       "      <td>pallen.nsf</td>\n",
       "      <td>Randy,\\n\\n Can you send me a schedule of the s...</td>\n",
       "      <td>606</td>\n",
       "    </tr>\n",
       "    <tr>\n",
       "      <th>4</th>\n",
       "      <td>allen-p/_sent_mail/1001</td>\n",
       "      <td>&lt;30922949.1075863688243.JavaMail.evans@thyme&gt;</td>\n",
       "      <td>Thu, 31 Aug 2000 05:07:00 -0700 (PDT)</td>\n",
       "      <td>phillip.allen@enron.com</td>\n",
       "      <td>greg.piper@enron.com</td>\n",
       "      <td>NaN</td>\n",
       "      <td>NaN</td>\n",
       "      <td>Re: Hello</td>\n",
       "      <td>1.0</td>\n",
       "      <td>text/plain; charset=us-ascii</td>\n",
       "      <td>7bit</td>\n",
       "      <td>Phillip K Allen</td>\n",
       "      <td>Greg Piper</td>\n",
       "      <td>NaN</td>\n",
       "      <td>NaN</td>\n",
       "      <td>\\Phillip_Allen_Dec2000\\Notes Folders\\'sent mail</td>\n",
       "      <td>Allen-P</td>\n",
       "      <td>pallen.nsf</td>\n",
       "      <td>Let's shoot for Tuesday at 11:45.</td>\n",
       "      <td>606</td>\n",
       "    </tr>\n",
       "  </tbody>\n",
       "</table>\n",
       "</div>"
      ],
      "text/plain": [
       "                     f_dir                                           m_id  \\\n",
       "0     allen-p/_sent_mail/1  <18782981.1075855378110.JavaMail.evans@thyme>   \n",
       "1    allen-p/_sent_mail/10  <15464986.1075855378456.JavaMail.evans@thyme>   \n",
       "2   allen-p/_sent_mail/100  <24216240.1075855687451.JavaMail.evans@thyme>   \n",
       "3  allen-p/_sent_mail/1000  <13505866.1075863688222.JavaMail.evans@thyme>   \n",
       "4  allen-p/_sent_mail/1001  <30922949.1075863688243.JavaMail.evans@thyme>   \n",
       "\n",
       "                                  m_date                   m_from  \\\n",
       "0  Mon, 14 May 2001 16:39:00 -0700 (PDT)  phillip.allen@enron.com   \n",
       "1   Fri, 4 May 2001 13:51:00 -0700 (PDT)  phillip.allen@enron.com   \n",
       "2  Wed, 18 Oct 2000 03:00:00 -0700 (PDT)  phillip.allen@enron.com   \n",
       "3  Mon, 23 Oct 2000 06:13:00 -0700 (PDT)  phillip.allen@enron.com   \n",
       "4  Thu, 31 Aug 2000 05:07:00 -0700 (PDT)  phillip.allen@enron.com   \n",
       "\n",
       "                      m_to m_cc m_bcc     m_subj mime_vers  \\\n",
       "0     tim.belden@enron.com  NaN   NaN        NaN       1.0   \n",
       "1  john.lavorato@enron.com  NaN   NaN        Re:       1.0   \n",
       "2   leah.arsdall@enron.com  NaN   NaN   Re: test       1.0   \n",
       "3    randall.gay@enron.com  NaN   NaN        NaN       1.0   \n",
       "4     greg.piper@enron.com  NaN   NaN  Re: Hello       1.0   \n",
       "\n",
       "                      cont_type encode           x_from  \\\n",
       "0  text/plain; charset=us-ascii   7bit  Phillip K Allen   \n",
       "1  text/plain; charset=us-ascii   7bit  Phillip K Allen   \n",
       "2  text/plain; charset=us-ascii   7bit  Phillip K Allen   \n",
       "3  text/plain; charset=us-ascii   7bit  Phillip K Allen   \n",
       "4  text/plain; charset=us-ascii   7bit  Phillip K Allen   \n",
       "\n",
       "                                                x_to x_cc x_bcc  \\\n",
       "0           Tim Belden <Tim Belden/Enron@EnronXGate>  NaN   NaN   \n",
       "1  John J Lavorato <John J Lavorato/ENRON@enronXg...  NaN   NaN   \n",
       "2                                   Leah Van Arsdall  NaN   NaN   \n",
       "3                                      Randall L Gay  NaN   NaN   \n",
       "4                                         Greg Piper  NaN   NaN   \n",
       "\n",
       "                                              x_fold   x_orig  \\\n",
       "0  \\Phillip_Allen_Jan2002_1\\Allen, Phillip K.\\'Se...  Allen-P   \n",
       "1  \\Phillip_Allen_Jan2002_1\\Allen, Phillip K.\\'Se...  Allen-P   \n",
       "2    \\Phillip_Allen_Dec2000\\Notes Folders\\'sent mail  Allen-P   \n",
       "3    \\Phillip_Allen_Dec2000\\Notes Folders\\'sent mail  Allen-P   \n",
       "4    \\Phillip_Allen_Dec2000\\Notes Folders\\'sent mail  Allen-P   \n",
       "\n",
       "                       x_fname  \\\n",
       "0  pallen (Non-Privileged).pst   \n",
       "1  pallen (Non-Privileged).pst   \n",
       "2                   pallen.nsf   \n",
       "3                   pallen.nsf   \n",
       "4                   pallen.nsf   \n",
       "\n",
       "                                              m_body  sent_counts  \n",
       "0                               Here is our forecast          606  \n",
       "1  Traveling to have a business meeting takes the...          606  \n",
       "2                     test successful.  way to go!!!          606  \n",
       "3  Randy,\\n\\n Can you send me a schedule of the s...          606  \n",
       "4                  Let's shoot for Tuesday at 11:45.          606  "
      ]
     },
     "execution_count": 16,
     "metadata": {},
     "output_type": "execute_result"
    }
   ],
   "source": [
    "#\n",
    "# export DataFrame for later work\n",
    "#\n",
    "\n",
    "# df.to_csv('./data/01_first_clean.csv', index=False, index_label=False)\n",
    "df.head()"
   ]
  },
  {
   "cell_type": "code",
   "execution_count": 17,
   "metadata": {},
   "outputs": [
    {
     "name": "stdout",
     "output_type": "stream",
     "text": [
      "<class 'pandas.core.frame.DataFrame'>\n",
      "Int64Index: 138752 entries, 0 to 172486\n",
      "Data columns (total 20 columns):\n",
      "f_dir          138752 non-null object\n",
      "m_id           138752 non-null object\n",
      "m_date         138752 non-null object\n",
      "m_from         138752 non-null object\n",
      "m_to           132960 non-null object\n",
      "m_cc           42401 non-null object\n",
      "m_bcc          41009 non-null object\n",
      "m_subj         132115 non-null object\n",
      "mime_vers      138752 non-null object\n",
      "cont_type      138752 non-null object\n",
      "encode         138752 non-null object\n",
      "x_from         138752 non-null object\n",
      "x_to           134187 non-null object\n",
      "x_cc           41339 non-null object\n",
      "x_bcc          117 non-null object\n",
      "x_fold         138752 non-null object\n",
      "x_orig         138752 non-null object\n",
      "x_fname        138752 non-null object\n",
      "m_body         138752 non-null object\n",
      "sent_counts    138752 non-null int64\n",
      "dtypes: int64(1), object(19)\n",
      "memory usage: 22.2+ MB\n"
     ]
    }
   ],
   "source": [
    "df.info()"
   ]
  },
  {
   "cell_type": "markdown",
   "metadata": {},
   "source": [
    "\n"
   ]
  }
 ],
 "metadata": {
  "kernelspec": {
   "display_name": "Python 3",
   "language": "python",
   "name": "python3"
  },
  "language_info": {
   "codemirror_mode": {
    "name": "ipython",
    "version": 3
   },
   "file_extension": ".py",
   "mimetype": "text/x-python",
   "name": "python",
   "nbconvert_exporter": "python",
   "pygments_lexer": "ipython3",
   "version": "3.7.3"
  }
 },
 "nbformat": 4,
 "nbformat_minor": 4
}
